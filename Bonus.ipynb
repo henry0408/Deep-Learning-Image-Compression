{
  "nbformat": 4,
  "nbformat_minor": 0,
  "metadata": {
    "colab": {
      "name": "Bonus.ipynb",
      "provenance": [],
      "collapsed_sections": [
        "2w_v_0q3bhrM",
        "Qdm56GWzboYP",
        "NZ7hffwBbuQo"
      ]
    },
    "kernelspec": {
      "name": "python3",
      "display_name": "Python 3"
    },
    "language_info": {
      "name": "python"
    },
    "accelerator": "GPU"
  },
  "cells": [
    {
      "cell_type": "markdown",
      "source": [
        "This file is only used for ELEC5306 Project2 Bonus (Group 4)\n",
        "\n",
        "The analysis and explanation are in Bonus Report.pdf"
      ],
      "metadata": {
        "id": "55hh1j-P5_6G"
      }
    },
    {
      "cell_type": "markdown",
      "source": [
        "# 1. Package Loading"
      ],
      "metadata": {
        "id": "2w_v_0q3bhrM"
      }
    },
    {
      "cell_type": "code",
      "execution_count": null,
      "metadata": {
        "colab": {
          "base_uri": "https://localhost:8080/"
        },
        "id": "tWp6MZrpLOJR",
        "outputId": "dfa100df-bf3e-4333-db01-3cad45f7fb8f"
      },
      "outputs": [
        {
          "output_type": "stream",
          "name": "stdout",
          "text": [
            "Mounted at /content/drive\n"
          ]
        }
      ],
      "source": [
        "from google.colab import drive\n",
        "drive.mount('/content/drive')"
      ]
    },
    {
      "cell_type": "code",
      "source": [
        "# ################################################\n",
        "# import packages\n",
        "\n",
        "import argparse\n",
        "import math\n",
        "import random\n",
        "import shutil\n",
        "import sys\n",
        "\n",
        "import torch\n",
        "import torch.nn as nn\n",
        "import torch.optim as optim\n",
        "\n",
        "from torch.utils.data import DataLoader\n",
        "from torchvision import transforms\n",
        "\n",
        "\n",
        "from pathlib import Path\n",
        "\n",
        "from PIL import Image\n",
        "from torch.utils.data import Dataset\n"
      ],
      "metadata": {
        "id": "g732yBroLQLn"
      },
      "execution_count": null,
      "outputs": []
    },
    {
      "cell_type": "code",
      "source": [
        "print(torch.cuda.is_available()) # check if cuda is avaliable so that we could use GPU"
      ],
      "metadata": {
        "colab": {
          "base_uri": "https://localhost:8080/"
        },
        "id": "ujzgFuv4LSlw",
        "outputId": "837bf01b-3e3a-4a22-a852-dc23972bc2b7"
      },
      "execution_count": null,
      "outputs": [
        {
          "output_type": "stream",
          "name": "stdout",
          "text": [
            "True\n"
          ]
        }
      ]
    },
    {
      "cell_type": "code",
      "source": [
        "# ################################################\n",
        "# define our Dataset class\n",
        "\n",
        "class ImageFolder(Dataset):\n",
        "    \"\"\"Load an image folder database. Training and testing image samples\n",
        "    are respectively stored in separate directories:\n",
        "\n",
        "    .. code-block::\n",
        "\n",
        "        - rootdir/\n",
        "            - train/\n",
        "                - img000.png\n",
        "                - img001.png\n",
        "                ...\n",
        "            - valid/\n",
        "                - img000.png\n",
        "                - img001.png\n",
        "                ...\n",
        "\n",
        "    Args:\n",
        "        root (string): root directory of the dataset\n",
        "        transform (callable, optional): a function or transform that takes in a\n",
        "            PIL image and returns a transformed version\n",
        "        split (string): split mode ('train' or 'val')\n",
        "    \"\"\"\n",
        "\n",
        "    def __init__(self, root, transform=None, split=\"train\"):\n",
        "        splitdir = Path(root) / split\n",
        "\n",
        "        if not splitdir.is_dir():\n",
        "            raise RuntimeError(f'Invalid directory \"{root}\"')\n",
        "\n",
        "        self.samples = [f for f in splitdir.iterdir() if f.is_file()]\n",
        "\n",
        "        self.transform = transform\n",
        "\n",
        "    def __getitem__(self, index):\n",
        "        \"\"\"\n",
        "        Args:\n",
        "            index (int): Index\n",
        "\n",
        "        Returns:\n",
        "            img: `PIL.Image.Image` or transformed `PIL.Image.Image`.\n",
        "        \"\"\"\n",
        "        img = Image.open(self.samples[index]).convert(\"RGB\")\n",
        "        if self.transform:\n",
        "            return self.transform(img)\n",
        "        return img\n",
        "\n",
        "    def __len__(self):\n",
        "        return len(self.samples)\n"
      ],
      "metadata": {
        "id": "01bA3R0JMSeU"
      },
      "execution_count": null,
      "outputs": []
    },
    {
      "cell_type": "markdown",
      "source": [
        "# 2. Functions needed"
      ],
      "metadata": {
        "id": "Qdm56GWzboYP"
      }
    },
    {
      "cell_type": "code",
      "source": [
        "class Loss(nn.Module):\n",
        "\n",
        "    def __init__(self):\n",
        "        super().__init__()\n",
        "        self.mse = nn.MSELoss()\n",
        "\n",
        "    def forward(self, output, target):\n",
        "        out = {}\n",
        "        out[\"mse_loss\"] = self.mse(output[\"x_hat\"], target)\n",
        "        out[\"loss\"] = out[\"mse_loss\"] * 255\n",
        "\n",
        "        return out"
      ],
      "metadata": {
        "id": "MH2M5-kKPiDl"
      },
      "execution_count": null,
      "outputs": []
    },
    {
      "cell_type": "code",
      "source": [
        "class AverageMeter:\n",
        "    \"\"\"Compute running average.\"\"\"\n",
        "\n",
        "    def __init__(self):\n",
        "        self.val = 0\n",
        "        self.avg = 0\n",
        "        self.sum = 0\n",
        "        self.count = 0\n",
        "\n",
        "    def update(self, val, n=1):\n",
        "        self.val = val\n",
        "        self.sum += val * n\n",
        "        self.count += n\n",
        "        self.avg = self.sum / self.count"
      ],
      "metadata": {
        "id": "NavtDKXJPjc0"
      },
      "execution_count": null,
      "outputs": []
    },
    {
      "cell_type": "code",
      "source": [
        "def configure_optimizers(net, learning_rate):\n",
        "\n",
        "    optimizer = optim.Adam(\n",
        "        net.parameters(),\n",
        "        lr=learning_rate,\n",
        "    )\n",
        "\n",
        "    return optimizer"
      ],
      "metadata": {
        "id": "nKzbtG03Pk0Y"
      },
      "execution_count": null,
      "outputs": []
    },
    {
      "cell_type": "code",
      "source": [
        "def save_checkpoint(state, is_best, filename=\"checkpoint.pth.tar\"):\n",
        "    torch.save(state, filename)\n",
        "    if is_best:\n",
        "        shutil.copyfile(filename, \"checkpoint_best_loss.pth.tar\")"
      ],
      "metadata": {
        "id": "c2axrODaPmUX"
      },
      "execution_count": null,
      "outputs": []
    },
    {
      "cell_type": "code",
      "source": [
        "def train_one_epoch(\n",
        "    model, criterion, train_dataloader, optimizer, epoch, clip_max_norm\n",
        "):\n",
        "    model.train()\n",
        "    device = next(model.parameters()).device\n",
        "\n",
        "    for i, d in enumerate(train_dataloader):\n",
        "        d = d.to(device)\n",
        "\n",
        "        optimizer.zero_grad()\n",
        "\n",
        "        out_net = model(d)\n",
        "\n",
        "        out_criterion = criterion(out_net, d)\n",
        "        out_criterion[\"loss\"].backward()\n",
        "        if clip_max_norm > 0:\n",
        "            torch.nn.utils.clip_grad_norm_(model.parameters(), clip_max_norm)\n",
        "        optimizer.step()\n",
        "\n",
        "        if i % 10 == 0:\n",
        "            print(\n",
        "                f\"Train epoch {epoch}: [\"\n",
        "                f\"{i*len(d)}/{len(train_dataloader.dataset)}\"\n",
        "                f\" ({100. * i / len(train_dataloader):.0f}%)]\"\n",
        "                f'\\tLoss: {out_criterion[\"loss\"].item():.3f} |'\n",
        "                f'\\tMSE loss: {out_criterion[\"mse_loss\"].item():.3f}'\n",
        "            )\n"
      ],
      "metadata": {
        "id": "p4Qsv5ioPnjc"
      },
      "execution_count": null,
      "outputs": []
    },
    {
      "cell_type": "code",
      "source": [
        "def test_epoch(epoch, test_dataloader, model, criterion):\n",
        "    model.eval()\n",
        "    device = next(model.parameters()).device\n",
        "\n",
        "    loss = AverageMeter()\n",
        "    mse_loss = AverageMeter()\n",
        "    psnr = AverageMeter()\n",
        "    myssim = AverageMeter()\n",
        "\n",
        "    with torch.no_grad():\n",
        "        for d in test_dataloader:\n",
        "            d = d.to(device)\n",
        "            out_net = model(d)\n",
        "            d_out = out_net['x_hat']\n",
        "            out_criterion = criterion(out_net, d)\n",
        "\n",
        "            loss.update(out_criterion[\"loss\"])\n",
        "            mse_loss.update(out_criterion[\"mse_loss\"])\n",
        "            \n",
        "            psnr.update(PSNR(d_out, d))\n",
        "            ssim_val = ssim(d * 255, d_out * 255, data_range=255, size_average=True)\n",
        "            # print(ssim_val)\n",
        "            myssim.update(ssim_val)\n",
        "            \n",
        "\n",
        "    print(\n",
        "        f\"Test epoch {epoch}: Average losses:\"\n",
        "        f\"\\tLoss: {loss.avg:.3f} |\"\n",
        "        f\"\\tMSE loss: {mse_loss.avg:.3f} |\"\n",
        "        f\"\\tPSNR value: {psnr.avg:.3f} |\"\n",
        "        f\"\\tSSIM value: {myssim.avg:.3f}\\n\"\n",
        "    )\n",
        "\n",
        "    return loss.avg\n",
        "\n",
        "# do the test on valid split"
      ],
      "metadata": {
        "id": "YYxOEyjvPneo"
      },
      "execution_count": null,
      "outputs": []
    },
    {
      "cell_type": "code",
      "source": [
        "def PSNR(img1, img2):\n",
        "    # img1 and img2 within range [0, 1]\n",
        "    img1, img2 = img1.detach(), img2.detach()\n",
        "    img1 = img1 * 255\n",
        "    img2 = img2 * 255\n",
        "    batch_size = img1.shape[0]\n",
        "    img1 = img1.reshape(batch_size, -1)\n",
        "    img2 = img2.reshape(batch_size, -1)\n",
        "    mse = torch.mean((img1 - img2) ** 2)\n",
        "    return torch.mean(20 * torch.log10(255.0 / torch.sqrt(mse)))\n"
      ],
      "metadata": {
        "id": "8iTTa5J0PWky"
      },
      "execution_count": null,
      "outputs": []
    },
    {
      "cell_type": "code",
      "source": [
        "!pip install pytorch-msssim"
      ],
      "metadata": {
        "colab": {
          "base_uri": "https://localhost:8080/"
        },
        "id": "zlxmGzhfPYag",
        "outputId": "f7a99073-b993-451e-fd15-2683db6c60ee"
      },
      "execution_count": null,
      "outputs": [
        {
          "output_type": "stream",
          "name": "stdout",
          "text": [
            "Requirement already satisfied: pytorch-msssim in /usr/local/lib/python3.7/dist-packages (0.2.1)\n",
            "Requirement already satisfied: torch in /usr/local/lib/python3.7/dist-packages (from pytorch-msssim) (1.11.0+cu113)\n",
            "Requirement already satisfied: typing-extensions in /usr/local/lib/python3.7/dist-packages (from torch->pytorch-msssim) (4.2.0)\n"
          ]
        }
      ]
    },
    {
      "cell_type": "code",
      "source": [
        "import torch\n",
        "from pytorch_msssim import ssim\n",
        "\n",
        "# X: (N,3,H,W) a batch of non-negative RGB images (0~1)\n",
        "# Y: (N,3,H,W)  \n",
        "\n",
        "X = torch.randn((2, 3, 10, 10))\n",
        "Y = torch.randn((2, 3, 10, 10))\n",
        "\n",
        "X = X * 255\n",
        "Y = Y * 255\n",
        "\n",
        "# calculate ssim & ms-ssim for each image\n",
        "ssim_val = ssim(X, Y, data_range=255, size_average=False) # return (N,)\n",
        "print(ssim_val)\n",
        "print(type(ssim_val))\n"
      ],
      "metadata": {
        "colab": {
          "base_uri": "https://localhost:8080/"
        },
        "id": "TD01VNiyPZxR",
        "outputId": "2efe57b3-adb3-411c-e90f-add80d35f073"
      },
      "execution_count": null,
      "outputs": [
        {
          "output_type": "stream",
          "name": "stdout",
          "text": [
            "tensor([0.0444, 0.0281])\n",
            "<class 'torch.Tensor'>\n"
          ]
        },
        {
          "output_type": "stream",
          "name": "stderr",
          "text": [
            "/usr/local/lib/python3.7/dist-packages/pytorch_msssim/ssim.py:51: UserWarning: Skipping Gaussian Smoothing at dimension 2+0 for input: torch.Size([2, 3, 10, 10]) and win size: 11\n",
            "  f\"Skipping Gaussian Smoothing at dimension 2+{i} for input: {input.shape} and win size: {win.shape[-1]}\"\n",
            "/usr/local/lib/python3.7/dist-packages/pytorch_msssim/ssim.py:51: UserWarning: Skipping Gaussian Smoothing at dimension 2+1 for input: torch.Size([2, 3, 10, 10]) and win size: 11\n",
            "  f\"Skipping Gaussian Smoothing at dimension 2+{i} for input: {input.shape} and win size: {win.shape[-1]}\"\n"
          ]
        }
      ]
    },
    {
      "cell_type": "markdown",
      "source": [
        "# 3. Parameters chosen\n",
        "\n",
        "(N,M) = (128, 192), and use 10 epochs"
      ],
      "metadata": {
        "id": "NZ7hffwBbuQo"
      }
    },
    {
      "cell_type": "code",
      "source": [
        "seed = 123                                        # for reproducibility\n",
        "cuda = True                                       # use GPU\n",
        "save = True                                       # save trained model\n",
        "dataset = '/content/drive/MyDrive/ELEC5306-2022'  # path to the root of the dataset\n",
        "checkpoint = ''                                   # load pretrained model\n",
        "epochs = 10                                      # total training epochs\n",
        "num_workers = 3                          # multi-process for loading training data\n",
        "clip_max_norm = 1.0                               # avoid gradient explosion\n",
        "patch_size = (256, 256)                           # input size for the training network\n",
        "learning_rate = 1e-4  \n",
        "batch_size = 16\n",
        "test_batch_size = 16 \n",
        "N = 128\n",
        "M = 192"
      ],
      "metadata": {
        "id": "ILJRNYfrPuz0"
      },
      "execution_count": null,
      "outputs": []
    },
    {
      "cell_type": "markdown",
      "source": [
        "# 4. New network set-up"
      ],
      "metadata": {
        "id": "TVCTKHOr1xJQ"
      }
    },
    {
      "cell_type": "markdown",
      "source": [
        "Set up the Quantization layer (Binary-Tanh)"
      ],
      "metadata": {
        "id": "DOogf8bq6a9X"
      }
    },
    {
      "cell_type": "code",
      "source": [
        "from sklearn.preprocessing import binarize\n",
        "class BinaryTanh(nn.Module):\n",
        "    def __init__(self):\n",
        "        super(BinaryTanh, self).__init__()\n",
        "        self.hardtanh = nn.Hardtanh()\n",
        "\n",
        "    def forward(self, input):\n",
        "        output = self.hardtanh(input)\n",
        "        threshold = torch.tensor([0]).cuda()\n",
        "        results = (output>threshold).float()*1\n",
        "        # output = binarize(output)\n",
        "        return results"
      ],
      "metadata": {
        "id": "niab9b-N0Lhh"
      },
      "execution_count": null,
      "outputs": []
    },
    {
      "cell_type": "code",
      "source": [
        "# threshold = torch.tensor([0.5])"
      ],
      "metadata": {
        "id": "55S99TRM0FA9"
      },
      "execution_count": null,
      "outputs": []
    },
    {
      "cell_type": "markdown",
      "source": [
        "Set up new network"
      ],
      "metadata": {
        "id": "zS5khBMu6ij8"
      }
    },
    {
      "cell_type": "code",
      "source": [
        "# ###################################################\n",
        "# a baseline model\n",
        "\n",
        "def conv(in_channels, out_channels, kernel_size=5, stride=2):\n",
        "    return nn.Conv2d(\n",
        "        in_channels,\n",
        "        out_channels,\n",
        "        kernel_size=kernel_size,\n",
        "        stride=stride,\n",
        "        padding=kernel_size // 2,\n",
        "    )\n",
        "\n",
        "\n",
        "def deconv(in_channels, out_channels, kernel_size=5, stride=2):\n",
        "    return nn.ConvTranspose2d(\n",
        "        in_channels,\n",
        "        out_channels,\n",
        "        kernel_size=kernel_size,\n",
        "        stride=stride,\n",
        "        output_padding=stride - 1,\n",
        "        padding=kernel_size // 2,\n",
        "    )\n",
        "\n",
        "\n",
        "class Network(nn.Module):\n",
        "\n",
        "    def __init__(self, N, M, init_weights=True, **kwargs):\n",
        "        super().__init__(**kwargs)\n",
        "\n",
        "        self.g_a = nn.Sequential(\n",
        "            conv(3, N),\n",
        "            conv(N, N),\n",
        "            conv(N, N),\n",
        "            conv(N, M),\n",
        "        )\n",
        "\n",
        "        self.g_q = nn.Sequential(\n",
        "             BinaryTanh(),\n",
        "            \n",
        "        )\n",
        "\n",
        "        self.g_s = nn.Sequential(\n",
        "            deconv(M, N),\n",
        "            deconv(N, N),\n",
        "            deconv(N, N),\n",
        "            deconv(N, 3),\n",
        "        )\n",
        "\n",
        "        self.N = N\n",
        "        self.M = M\n",
        "\n",
        "        if init_weights:\n",
        "            self._initialize_weights()\n",
        "\n",
        "    def forward(self, x):\n",
        "        y = self.g_a(x)\n",
        "        quan = self.g_q(y)\n",
        "        x_hat = self.g_s(quan)\n",
        "        return {\n",
        "            \"x_hat\": x_hat,\n",
        "            # \"x_quan\": quan,\n",
        "        }\n",
        "\n",
        "\n",
        "    def _initialize_weights(self):\n",
        "        for m in self.modules():\n",
        "            if isinstance(m, (nn.Conv2d, nn.ConvTranspose2d)):\n",
        "                nn.init.kaiming_normal_(m.weight)\n",
        "                if m.bias is not None:\n",
        "                    nn.init.zeros_(m.bias)\n",
        "\n",
        "    def compress(self, x):\n",
        "        y = self.g_a(x)\n",
        "        return y\n",
        "\n",
        "    def decompress(self, y_hat):\n",
        "        x_hat = self.g_s(y_hat).clamp_(0, 1) # Limiting. Limit the value of input to [min, max], output as a tensor\n",
        "        return {\"x_hat\": x_hat}\n",
        "\n",
        "    def quantize(self, x):\n",
        "      y = self.g_a(x)\n",
        "      quan = self.g_q(y)\n",
        "      return quan\n"
      ],
      "metadata": {
        "id": "BIosDpAF1xJQ"
      },
      "execution_count": null,
      "outputs": []
    },
    {
      "cell_type": "markdown",
      "source": [
        "# 5. New network training"
      ],
      "metadata": {
        "id": "xsSODrFK1xJQ"
      }
    },
    {
      "cell_type": "code",
      "source": [
        "torch.manual_seed(seed)\n",
        "random.seed(seed)\n",
        "\n",
        "train_transforms = transforms.Compose(\n",
        "    [transforms.RandomCrop(patch_size), transforms.ToTensor()]\n",
        ")\n",
        "\n",
        "test_transforms = transforms.Compose(\n",
        "    [transforms.CenterCrop(patch_size), transforms.ToTensor()]\n",
        ")\n",
        "\n",
        "train_dataset = ImageFolder(dataset, split=\"train\", transform=train_transforms)\n",
        "test_dataset = ImageFolder(dataset, split=\"valid\", transform=test_transforms)\n",
        "\n",
        "device = \"cuda\" if cuda and torch.cuda.is_available() else \"cpu\"\n",
        "\n",
        "train_dataloader = DataLoader(\n",
        "    train_dataset,\n",
        "    batch_size=batch_size,\n",
        "    num_workers=num_workers,\n",
        "    shuffle=True,\n",
        "    pin_memory=(device == \"cuda\"),\n",
        ")\n",
        "\n",
        "test_dataloader = DataLoader(\n",
        "    test_dataset,\n",
        "    batch_size=test_batch_size,\n",
        "    num_workers=num_workers,\n",
        "    shuffle=False,\n",
        "    pin_memory=(device == \"cuda\"),\n",
        ")\n",
        "\n"
      ],
      "metadata": {
        "colab": {
          "base_uri": "https://localhost:8080/"
        },
        "outputId": "44663c58-19bf-4a26-e010-830f51811e1f",
        "id": "EHU_czm81xJQ"
      },
      "execution_count": null,
      "outputs": [
        {
          "output_type": "stream",
          "name": "stderr",
          "text": [
            "/usr/local/lib/python3.7/dist-packages/torch/utils/data/dataloader.py:490: UserWarning: This DataLoader will create 3 worker processes in total. Our suggested max number of worker in current system is 2, which is smaller than what this DataLoader is going to create. Please be aware that excessive worker creation might get DataLoader running slow or even freeze, lower the worker number to avoid potential slowness/freeze if necessary.\n",
            "  cpuset_checked))\n"
          ]
        }
      ]
    },
    {
      "cell_type": "code",
      "source": [
        "net = Network(N, M)\n",
        "net = net.to(device)\n",
        "\n",
        "optimizer = configure_optimizers(net, learning_rate)\n",
        "lr_scheduler = optim.lr_scheduler.ReduceLROnPlateau(optimizer, \"min\")\n",
        "criterion = Loss()\n",
        "\n",
        "last_epoch = 0\n",
        "if checkpoint:  # load from previous checkpoint\n",
        "    print(\"Loading\", checkpoint)\n",
        "    checkpoint = torch.load(checkpoint, map_location=device)\n",
        "    last_epoch = checkpoint[\"epoch\"] + 1\n",
        "    net.load_state_dict(checkpoint[\"state_dict\"])\n",
        "    optimizer.load_state_dict(checkpoint[\"optimizer\"])\n",
        "    lr_scheduler.load_state_dict(checkpoint[\"lr_scheduler\"])\n",
        "\n",
        "best_loss = float(\"inf\")\n",
        "for epoch in range(last_epoch, epochs):\n",
        "    print(f\"Learning rate: {optimizer.param_groups[0]['lr']}\")\n",
        "    train_one_epoch(\n",
        "        net,\n",
        "        criterion,\n",
        "        train_dataloader,\n",
        "        optimizer,\n",
        "        epoch,\n",
        "        clip_max_norm,\n",
        "    )\n",
        "    loss = test_epoch(epoch, test_dataloader, net, criterion)\n",
        "    lr_scheduler.step(loss)\n",
        "\n",
        "    is_best = loss < best_loss\n",
        "    best_loss = min(loss, best_loss)\n",
        "\n",
        "    if save:\n",
        "        save_checkpoint(\n",
        "            {\n",
        "                \"epoch\": epoch,\n",
        "                \"state_dict\": net.state_dict(),\n",
        "                \"loss\": loss,\n",
        "                \"optimizer\": optimizer.state_dict(),\n",
        "                \"lr_scheduler\": lr_scheduler.state_dict(),\n",
        "            },\n",
        "            is_best,\n",
        "        )"
      ],
      "metadata": {
        "colab": {
          "base_uri": "https://localhost:8080/"
        },
        "id": "XL2_jWm8FYHa",
        "outputId": "c4c870fc-c9a3-405d-fa78-0649ba8bea37"
      },
      "execution_count": null,
      "outputs": [
        {
          "output_type": "stream",
          "name": "stdout",
          "text": [
            "Learning rate: 0.0001\n"
          ]
        },
        {
          "output_type": "stream",
          "name": "stderr",
          "text": [
            "/usr/local/lib/python3.7/dist-packages/torch/utils/data/dataloader.py:490: UserWarning: This DataLoader will create 3 worker processes in total. Our suggested max number of worker in current system is 2, which is smaller than what this DataLoader is going to create. Please be aware that excessive worker creation might get DataLoader running slow or even freeze, lower the worker number to avoid potential slowness/freeze if necessary.\n",
            "  cpuset_checked))\n"
          ]
        },
        {
          "output_type": "stream",
          "name": "stdout",
          "text": [
            "Train epoch 0: [0/250 (0%)]\tLoss: 547.539 |\tMSE loss: 2.147\n",
            "Train epoch 0: [160/250 (62%)]\tLoss: 107.472 |\tMSE loss: 0.421\n",
            "Test epoch 0: Average losses:\tLoss: 87.432 |\tMSE loss: 0.343 |\tPSNR value: 4.664 |\tSSIM value: 0.004\n",
            "\n",
            "Learning rate: 0.0001\n",
            "Train epoch 1: [0/250 (0%)]\tLoss: 82.066 |\tMSE loss: 0.322\n",
            "Train epoch 1: [160/250 (62%)]\tLoss: 55.192 |\tMSE loss: 0.216\n",
            "Test epoch 1: Average losses:\tLoss: 60.025 |\tMSE loss: 0.235 |\tPSNR value: 6.303 |\tSSIM value: 0.007\n",
            "\n",
            "Learning rate: 0.0001\n",
            "Train epoch 2: [0/250 (0%)]\tLoss: 65.904 |\tMSE loss: 0.258\n",
            "Train epoch 2: [160/250 (62%)]\tLoss: 47.335 |\tMSE loss: 0.186\n",
            "Test epoch 2: Average losses:\tLoss: 53.530 |\tMSE loss: 0.210 |\tPSNR value: 6.799 |\tSSIM value: 0.009\n",
            "\n",
            "Learning rate: 0.0001\n",
            "Train epoch 3: [0/250 (0%)]\tLoss: 49.347 |\tMSE loss: 0.194\n",
            "Train epoch 3: [160/250 (62%)]\tLoss: 49.858 |\tMSE loss: 0.196\n",
            "Test epoch 3: Average losses:\tLoss: 38.857 |\tMSE loss: 0.152 |\tPSNR value: 8.190 |\tSSIM value: 0.014\n",
            "\n",
            "Learning rate: 0.0001\n",
            "Train epoch 4: [0/250 (0%)]\tLoss: 39.077 |\tMSE loss: 0.153\n",
            "Train epoch 4: [160/250 (62%)]\tLoss: 33.555 |\tMSE loss: 0.132\n",
            "Test epoch 4: Average losses:\tLoss: 32.538 |\tMSE loss: 0.128 |\tPSNR value: 8.959 |\tSSIM value: 0.018\n",
            "\n",
            "Learning rate: 0.0001\n",
            "Train epoch 5: [0/250 (0%)]\tLoss: 35.778 |\tMSE loss: 0.140\n",
            "Train epoch 5: [160/250 (62%)]\tLoss: 34.312 |\tMSE loss: 0.135\n",
            "Test epoch 5: Average losses:\tLoss: 36.923 |\tMSE loss: 0.145 |\tPSNR value: 8.407 |\tSSIM value: 0.019\n",
            "\n",
            "Learning rate: 0.0001\n",
            "Train epoch 6: [0/250 (0%)]\tLoss: 31.570 |\tMSE loss: 0.124\n",
            "Train epoch 6: [160/250 (62%)]\tLoss: 37.100 |\tMSE loss: 0.145\n",
            "Test epoch 6: Average losses:\tLoss: 29.154 |\tMSE loss: 0.114 |\tPSNR value: 9.426 |\tSSIM value: 0.024\n",
            "\n",
            "Learning rate: 0.0001\n",
            "Train epoch 7: [0/250 (0%)]\tLoss: 30.388 |\tMSE loss: 0.119\n",
            "Train epoch 7: [160/250 (62%)]\tLoss: 36.473 |\tMSE loss: 0.143\n",
            "Test epoch 7: Average losses:\tLoss: 28.368 |\tMSE loss: 0.111 |\tPSNR value: 9.543 |\tSSIM value: 0.026\n",
            "\n",
            "Learning rate: 0.0001\n",
            "Train epoch 8: [0/250 (0%)]\tLoss: 26.249 |\tMSE loss: 0.103\n",
            "Train epoch 8: [160/250 (62%)]\tLoss: 23.113 |\tMSE loss: 0.091\n",
            "Test epoch 8: Average losses:\tLoss: 23.285 |\tMSE loss: 0.091 |\tPSNR value: 10.406 |\tSSIM value: 0.031\n",
            "\n",
            "Learning rate: 0.0001\n",
            "Train epoch 9: [0/250 (0%)]\tLoss: 18.753 |\tMSE loss: 0.074\n",
            "Train epoch 9: [160/250 (62%)]\tLoss: 24.794 |\tMSE loss: 0.097\n",
            "Test epoch 9: Average losses:\tLoss: 22.334 |\tMSE loss: 0.088 |\tPSNR value: 10.592 |\tSSIM value: 0.036\n",
            "\n"
          ]
        }
      ]
    },
    {
      "cell_type": "markdown",
      "source": [
        "# 6. Quantization result"
      ],
      "metadata": {
        "id": "7RC_33Gr1xJR"
      }
    },
    {
      "cell_type": "code",
      "source": [
        "# visualization\n",
        "import matplotlib.pyplot as plt\n",
        "\n",
        "dataset = '/content/drive/MyDrive/ELEC5306-2022'\n",
        "test_dataset = ImageFolder(dataset, split=\"valid\", transform=transforms.ToTensor())\n",
        "image = test_dataset[1].unsqueeze(0).to(device)\n",
        "net.load_state_dict(torch.load('checkpoint_best_loss.pth.tar', map_location=device)[\"state_dict\"])\n",
        "predicted = net(image)['x_hat'].squeeze(0).detach()\n",
        "\n",
        "fig, axes = plt.subplots(1,2)\n",
        "axes[0].imshow(image.squeeze(0).cpu().permute(1, 2, 0))\n",
        "axes[0].axis('off')\n",
        "axes[0].set_title('original')\n",
        "axes[1].imshow(predicted.cpu().permute(1, 2, 0))\n",
        "axes[1].axis('off')\n",
        "axes[1].set_title('compressed-decoded')"
      ],
      "metadata": {
        "colab": {
          "base_uri": "https://localhost:8080/",
          "height": 179
        },
        "outputId": "8bc6d5ea-3792-41d3-bdc1-3c3bfab3c9f4",
        "id": "6BfS2ssy1xJR"
      },
      "execution_count": null,
      "outputs": [
        {
          "output_type": "stream",
          "name": "stderr",
          "text": [
            "Clipping input data to the valid range for imshow with RGB data ([0..1] for floats or [0..255] for integers).\n"
          ]
        },
        {
          "output_type": "execute_result",
          "data": {
            "text/plain": [
              "Text(0.5, 1.0, 'compressed-decoded')"
            ]
          },
          "metadata": {},
          "execution_count": 87
        },
        {
          "output_type": "display_data",
          "data": {
            "text/plain": [
              "<Figure size 432x288 with 2 Axes>"
            ],
            "image/png": "[encoded data removed]"
          },
          "metadata": {
            "needs_background": "light"
          }
        }
      ]
    },
    {
      "cell_type": "code",
      "source": [
        "print(predicted.shape)"
      ],
      "metadata": {
        "colab": {
          "base_uri": "https://localhost:8080/"
        },
        "id": "8vHgWvPV7H-P",
        "outputId": "3024d1fe-196d-4df0-9246-985fb6143b37"
      },
      "execution_count": null,
      "outputs": [
        {
          "output_type": "stream",
          "name": "stdout",
          "text": [
            "torch.Size([3, 608, 960])\n"
          ]
        }
      ]
    },
    {
      "cell_type": "code",
      "source": [
        "# # 1. get some random data\n",
        "# data = torch.zeros((1, 3, 128, 128))\n",
        "# # 2. get a random instance of the model class\n",
        "# model = Network(5, 5)\n",
        "# # 3. forward the data to the model\n",
        "# preds = model(data)\n",
        "\n",
        "\n",
        "# 4. do compress\n",
        "compressed = net.compress(image)\n",
        "\n",
        "# 5. Quantization\n",
        "quantized = net.quantize(image)\n",
        "\n",
        "# 5. decompress\n",
        "data_hat = net.decompress(compressed)"
      ],
      "metadata": {
        "id": "KORiX_WO1xJR"
      },
      "execution_count": null,
      "outputs": []
    },
    {
      "cell_type": "code",
      "source": [
        "print(image.shape)\n",
        "print(compressed.shape)\n",
        "print(quantized.shape)"
      ],
      "metadata": {
        "colab": {
          "base_uri": "https://localhost:8080/"
        },
        "outputId": "de42bd77-46ad-4f3f-8596-a59816a651ce",
        "id": "WaQh9iqG1xJR"
      },
      "execution_count": null,
      "outputs": [
        {
          "output_type": "stream",
          "name": "stdout",
          "text": [
            "torch.Size([1, 3, 604, 960])\n",
            "torch.Size([1, 192, 38, 60])\n",
            "torch.Size([1, 192, 38, 60])\n"
          ]
        }
      ]
    },
    {
      "cell_type": "markdown",
      "source": [
        "Print the values after compressed and after quantization"
      ],
      "metadata": {
        "id": "TTHSWBmH6s8N"
      }
    },
    {
      "cell_type": "code",
      "source": [
        "print(compressed)"
      ],
      "metadata": {
        "colab": {
          "base_uri": "https://localhost:8080/"
        },
        "outputId": "ff0ad7b9-725d-4f4b-f776-ac1015078358",
        "id": "dTAR47JT1xJR"
      },
      "execution_count": null,
      "outputs": [
        {
          "output_type": "stream",
          "name": "stdout",
          "text": [
            "tensor([[[[-0.7899,  0.3098, -0.1982,  ..., -0.1204, -0.1482, -0.7139],\n",
            "          [-1.9694, -2.0050, -1.6346,  ..., -1.5357, -1.6562, -1.4790],\n",
            "          [-2.2714, -3.1026, -2.9277,  ..., -2.7735, -2.6594, -2.3210],\n",
            "          ...,\n",
            "          [-1.8174, -3.4641, -3.2613,  ..., -3.7026, -3.6824, -2.7426],\n",
            "          [-0.8735, -3.1516, -0.4203,  ..., -3.4498, -3.8696, -3.4357],\n",
            "          [-2.1765,  0.6771, -0.8890,  ..., -3.4441, -2.9102, -2.7229]],\n",
            "\n",
            "         [[-1.4193,  0.4435, -0.3559,  ..., -0.4265, -0.4473,  1.0944],\n",
            "          [-0.0464,  2.0199,  1.0392,  ...,  0.9209,  0.9196,  2.4052],\n",
            "          [-0.7236,  0.1885, -0.3894,  ..., -0.2110, -0.2783,  1.2323],\n",
            "          ...,\n",
            "          [ 0.0580,  0.4822, -0.5186,  ..., -0.5947,  0.3536,  1.3152],\n",
            "          [-0.0150, -0.3185,  0.2680,  ..., -0.5512, -0.7478,  1.6163],\n",
            "          [-0.9031, -0.3164, -1.2413,  ..., -0.4043, -0.3186,  0.6187]],\n",
            "\n",
            "         [[-1.6368, -1.6221, -2.3080,  ..., -2.4744, -2.5025, -0.3788],\n",
            "          [-0.7903,  0.0752, -0.6551,  ..., -0.6507, -0.6625,  0.9980],\n",
            "          [-0.9403, -0.7016, -1.0990,  ..., -1.0586, -1.1171,  0.3539],\n",
            "          ...,\n",
            "          [ 0.2305, -0.6097, -0.3501,  ..., -0.7270, -1.5073,  0.4039],\n",
            "          [-0.3145, -0.5725, -1.7377,  ..., -1.9348, -1.8557,  0.3576],\n",
            "          [ 1.3820,  1.8601,  1.0619,  ...,  1.3271,  1.0970,  0.5666]],\n",
            "\n",
            "         ...,\n",
            "\n",
            "         [[-0.6771, -1.3371, -2.0243,  ..., -1.8443, -1.8639, -1.0905],\n",
            "          [-2.6514, -4.8935, -4.8535,  ..., -4.8852, -4.8595, -2.9617],\n",
            "          [-1.8703, -4.6717, -5.2011,  ..., -5.3076, -5.2401, -3.6141],\n",
            "          ...,\n",
            "          [-1.5315, -3.2502, -3.5278,  ..., -8.3266, -8.5472, -5.3283],\n",
            "          [-0.8997, -2.3217, -2.1516,  ..., -7.9355, -8.3730, -5.8469],\n",
            "          [-0.7886, -3.8747, -3.8183,  ..., -7.8817, -7.8770, -5.5659]],\n",
            "\n",
            "         [[ 0.7881,  1.8414,  2.4304,  ...,  2.4381,  2.4391,  1.7470],\n",
            "          [-0.3831, -0.6911, -0.0136,  ...,  0.3075,  0.2876,  0.6808],\n",
            "          [ 0.8632,  2.0714,  2.6289,  ...,  2.1119,  2.1665,  2.1108],\n",
            "          ...,\n",
            "          [ 0.8383,  1.9650,  2.9339,  ...,  2.4421,  3.9847,  3.0401],\n",
            "          [-0.0776,  0.7795,  0.8848,  ...,  2.7840,  3.4231,  3.4871],\n",
            "          [-1.2039, -0.0353, -0.9494,  ..., -0.0097,  0.2798,  1.1559]],\n",
            "\n",
            "         [[ 0.7032, -0.5003, -0.2948,  ..., -0.5095, -0.4808, -1.0308],\n",
            "          [ 3.8280,  2.0805,  2.9813,  ...,  2.7746,  2.7700,  0.8865],\n",
            "          [ 3.5314,  2.4313,  2.7150,  ...,  2.7862,  2.7331,  0.9602],\n",
            "          ...,\n",
            "          [ 2.1833,  2.9058,  0.3520,  ...,  4.9229,  4.2129,  1.9857],\n",
            "          [ 1.2058,  1.0272,  1.4435,  ...,  5.5955,  4.6185,  2.3032],\n",
            "          [ 3.2515,  3.2586,  3.0998,  ...,  5.2563,  6.2559,  3.6993]]]],\n",
            "       device='cuda:0', grad_fn=<ConvolutionBackward0>)\n"
          ]
        }
      ]
    },
    {
      "cell_type": "code",
      "source": [
        "print(quantized)"
      ],
      "metadata": {
        "colab": {
          "base_uri": "https://localhost:8080/"
        },
        "outputId": "70eae331-648f-4217-dfe7-c7a8266e9eca",
        "id": "Ew0LSzSB1xJR"
      },
      "execution_count": null,
      "outputs": [
        {
          "output_type": "stream",
          "name": "stdout",
          "text": [
            "tensor([[[[0., 1., 0.,  ..., 0., 0., 0.],\n",
            "          [0., 0., 0.,  ..., 0., 0., 0.],\n",
            "          [0., 0., 0.,  ..., 0., 0., 0.],\n",
            "          ...,\n",
            "          [0., 0., 0.,  ..., 0., 0., 0.],\n",
            "          [0., 0., 0.,  ..., 0., 0., 0.],\n",
            "          [0., 1., 0.,  ..., 0., 0., 0.]],\n",
            "\n",
            "         [[0., 1., 0.,  ..., 0., 0., 1.],\n",
            "          [0., 1., 1.,  ..., 1., 1., 1.],\n",
            "          [0., 1., 0.,  ..., 0., 0., 1.],\n",
            "          ...,\n",
            "          [1., 1., 0.,  ..., 0., 1., 1.],\n",
            "          [0., 0., 1.,  ..., 0., 0., 1.],\n",
            "          [0., 0., 0.,  ..., 0., 0., 1.]],\n",
            "\n",
            "         [[0., 0., 0.,  ..., 0., 0., 0.],\n",
            "          [0., 1., 0.,  ..., 0., 0., 1.],\n",
            "          [0., 0., 0.,  ..., 0., 0., 1.],\n",
            "          ...,\n",
            "          [1., 0., 0.,  ..., 0., 0., 1.],\n",
            "          [0., 0., 0.,  ..., 0., 0., 1.],\n",
            "          [1., 1., 1.,  ..., 1., 1., 1.]],\n",
            "\n",
            "         ...,\n",
            "\n",
            "         [[0., 0., 0.,  ..., 0., 0., 0.],\n",
            "          [0., 0., 0.,  ..., 0., 0., 0.],\n",
            "          [0., 0., 0.,  ..., 0., 0., 0.],\n",
            "          ...,\n",
            "          [0., 0., 0.,  ..., 0., 0., 0.],\n",
            "          [0., 0., 0.,  ..., 0., 0., 0.],\n",
            "          [0., 0., 0.,  ..., 0., 0., 0.]],\n",
            "\n",
            "         [[1., 1., 1.,  ..., 1., 1., 1.],\n",
            "          [0., 0., 0.,  ..., 1., 1., 1.],\n",
            "          [1., 1., 1.,  ..., 1., 1., 1.],\n",
            "          ...,\n",
            "          [1., 1., 1.,  ..., 1., 1., 1.],\n",
            "          [0., 1., 1.,  ..., 1., 1., 1.],\n",
            "          [0., 0., 0.,  ..., 0., 1., 1.]],\n",
            "\n",
            "         [[1., 0., 0.,  ..., 0., 0., 0.],\n",
            "          [1., 1., 1.,  ..., 1., 1., 1.],\n",
            "          [1., 1., 1.,  ..., 1., 1., 1.],\n",
            "          ...,\n",
            "          [1., 1., 1.,  ..., 1., 1., 1.],\n",
            "          [1., 1., 1.,  ..., 1., 1., 1.],\n",
            "          [1., 1., 1.,  ..., 1., 1., 1.]]]], device='cuda:0')\n"
          ]
        }
      ]
    },
    {
      "cell_type": "code",
      "source": [
        "print(compressed.numel()) # 1*192*38*60 --> tensor size"
      ],
      "metadata": {
        "colab": {
          "base_uri": "https://localhost:8080/"
        },
        "outputId": "d57a8297-d16f-4288-b7ab-d7c51e734dfe",
        "id": "izMfs_K31xJR"
      },
      "execution_count": null,
      "outputs": [
        {
          "output_type": "stream",
          "name": "stdout",
          "text": [
            "437760\n"
          ]
        }
      ]
    },
    {
      "cell_type": "code",
      "source": [
        "print(image.numel()) # 1*3*604*960 --> tensor size"
      ],
      "metadata": {
        "colab": {
          "base_uri": "https://localhost:8080/"
        },
        "outputId": "98995385-0b8b-485d-abe3-95382d1603e9",
        "id": "6hycvROZ1xJR"
      },
      "execution_count": null,
      "outputs": [
        {
          "output_type": "stream",
          "name": "stdout",
          "text": [
            "1739520\n"
          ]
        }
      ]
    },
    {
      "cell_type": "markdown",
      "source": [
        "Print the compressed ratio"
      ],
      "metadata": {
        "id": "lRE3yJmm64e7"
      }
    },
    {
      "cell_type": "code",
      "source": [
        "print('quantization ratio: quantized/original {}'.format(quantized.numel() / image.numel()))"
      ],
      "metadata": {
        "colab": {
          "base_uri": "https://localhost:8080/"
        },
        "outputId": "a8427c98-d224-484e-8f28-db45a89529dd",
        "id": "7-JLrQqp1xJR"
      },
      "execution_count": null,
      "outputs": [
        {
          "output_type": "stream",
          "name": "stdout",
          "text": [
            "quantization ratio: quantized/original 0.25165562913907286\n"
          ]
        }
      ]
    }
  ]
}