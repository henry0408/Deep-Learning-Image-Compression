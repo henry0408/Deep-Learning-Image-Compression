{
  "cells": [
    {
      "cell_type": "markdown",
      "metadata": {
        "id": "iUmYpQUBHN1W"
      },
      "source": [
        "A Deep Learning Toy Model for Image Compression\n",
        "===\n",
        "\n",
        "In this project, we will use simple deep learning networks for basic image compression.\n",
        "\n",
        "You will get familiar with:\n",
        "\n",
        "* train/test a simple deep learning model (for image compression in this project) with PyTorch library \n",
        "* hyper-parameter tuning for deep learning model\n",
        "* collect and analyse the training loss and metrics\n",
        "* evaluate and visualize the result\n",
        "\n",
        "## 1. Objectives\n",
        "1. Train a baseline neural network.\n",
        "2. plot the loss-epoch curve.\n",
        "3. Tune learning rate, the depth of the network, and different layers. Then compare the results in SSIM, PSNR.\n",
        "4. visualize some cases.\n",
        "5. Customize your model (and loss, learning rate, scheduler, etc) for better performance.\n"
      ]
    },
    {
      "cell_type": "markdown",
      "metadata": {
        "id": "aAsWk6l-xuim"
      },
      "source": [
        "## Get GPU ready\n",
        "\n",
        "Change Runtime Type in the Colab menu to 'GPU'."
      ]
    },
    {
      "cell_type": "markdown",
      "metadata": {
        "id": "VkzEhhMfA-_b"
      },
      "source": [
        "## Prepare the data\n",
        "\n",
        "The data for training/test is at https://drive.google.com/drive/folders/1--iDlKbCuD4bYmSXUj7CrP-u4EezqGyv?usp=sharing\n",
        "\n",
        "1. Put this folder (and the data inside of course) in your GoogleDrive.\n",
        "2. Run the command below to mount the GoogleDrive onto Colab.\n",
        "3. Check the path to the data (e.g. `'/content/drive/MyDrive/MYDATA'`), and we will use this later.\n",
        "\n",
        "Hint: you can check the file with either bash command or use the leftmost sidebar in Colab, there's a folder shaped icon."
      ]
    },
    {
      "cell_type": "code",
      "execution_count": null,
      "metadata": {
        "colab": {
          "base_uri": "https://localhost:8080/"
        },
        "id": "6bgKCJIe9jZh",
        "outputId": "741fa71a-9f6d-4f06-c5cf-2379a08c89b1"
      },
      "outputs": [
        {
          "output_type": "stream",
          "name": "stdout",
          "text": [
            "Mounted at /content/drive\n"
          ]
        }
      ],
      "source": [
        "from google.colab import drive\n",
        "drive.mount('/content/drive')"
      ]
    },
    {
      "cell_type": "markdown",
      "metadata": {
        "id": "ZtRCZQDsDHyy"
      },
      "source": [
        "Check the data: When you do `!ls YOUR_DATA_PATH`, you should see `train` and `valid` under the dir."
      ]
    },
    {
      "cell_type": "markdown",
      "metadata": {
        "id": "Byw0cexcCqiM"
      },
      "source": [
        "## 1.1 Code Template\n",
        "\n",
        "*Excute this part and see if we could use GPU."
      ]
    },
    {
      "cell_type": "markdown",
      "metadata": {
        "id": "xDgQqbjXeTfn"
      },
      "source": [
        "Let's firt import packages for this project. You are not required to make modifications to this. But if you are using any other packages that's not included, feel free to import anytime."
      ]
    },
    {
      "cell_type": "code",
      "execution_count": null,
      "metadata": {
        "id": "4qJclN79EecH"
      },
      "outputs": [],
      "source": [
        "# ################################################\n",
        "# import packages\n",
        "\n",
        "import argparse\n",
        "import math\n",
        "import random\n",
        "import shutil\n",
        "import sys\n",
        "\n",
        "import torch\n",
        "import torch.nn as nn\n",
        "import torch.optim as optim\n",
        "\n",
        "from torch.utils.data import DataLoader\n",
        "from torchvision import transforms\n",
        "\n",
        "\n",
        "from pathlib import Path\n",
        "\n",
        "from PIL import Image\n",
        "from torch.utils.data import Dataset\n"
      ]
    },
    {
      "cell_type": "markdown",
      "source": [
        "Check if using GPU:"
      ],
      "metadata": {
        "id": "z3YfTteSSLy0"
      }
    },
    {
      "cell_type": "code",
      "source": [
        "print(torch.cuda.is_available()) # check if cuda is avaliable so that we could use GPU"
      ],
      "metadata": {
        "colab": {
          "base_uri": "https://localhost:8080/"
        },
        "id": "Y6uia0-gSKAE",
        "outputId": "ed95509f-fe23-4430-d018-14c20d2fcb10"
      },
      "execution_count": null,
      "outputs": [
        {
          "output_type": "stream",
          "name": "stdout",
          "text": [
            "True\n"
          ]
        }
      ]
    },
    {
      "cell_type": "markdown",
      "metadata": {
        "id": "owR0dmNvfQmW"
      },
      "source": [
        "Then we define a Dataset class that could iterate over images under a directory (`root/split`). \n",
        "\n",
        "You are not required to make modifications to this."
      ]
    },
    {
      "cell_type": "code",
      "execution_count": null,
      "metadata": {
        "id": "kUZuUOkVE6Qw"
      },
      "outputs": [],
      "source": [
        "# ################################################\n",
        "# define our Dataset class\n",
        "\n",
        "class ImageFolder(Dataset):\n",
        "    \"\"\"Load an image folder database. Training and testing image samples\n",
        "    are respectively stored in separate directories:\n",
        "\n",
        "    .. code-block::\n",
        "\n",
        "        - rootdir/\n",
        "            - train/\n",
        "                - img000.png\n",
        "                - img001.png\n",
        "                ...\n",
        "            - valid/\n",
        "                - img000.png\n",
        "                - img001.png\n",
        "                ...\n",
        "\n",
        "    Args:\n",
        "        root (string): root directory of the dataset\n",
        "        transform (callable, optional): a function or transform that takes in a\n",
        "            PIL image and returns a transformed version\n",
        "        split (string): split mode ('train' or 'val')\n",
        "    \"\"\"\n",
        "\n",
        "    def __init__(self, root, transform=None, split=\"train\"):\n",
        "        splitdir = Path(root) / split\n",
        "\n",
        "        if not splitdir.is_dir():\n",
        "            raise RuntimeError(f'Invalid directory \"{root}\"')\n",
        "\n",
        "        self.samples = [f for f in splitdir.iterdir() if f.is_file()]\n",
        "\n",
        "        self.transform = transform\n",
        "\n",
        "    def __getitem__(self, index):\n",
        "        \"\"\"\n",
        "        Args:\n",
        "            index (int): Index\n",
        "\n",
        "        Returns:\n",
        "            img: `PIL.Image.Image` or transformed `PIL.Image.Image`.\n",
        "        \"\"\"\n",
        "        img = Image.open(self.samples[index]).convert(\"RGB\")\n",
        "        if self.transform:\n",
        "            return self.transform(img)\n",
        "        return img\n",
        "\n",
        "    def __len__(self):\n",
        "        return len(self.samples)\n"
      ]
    },
    {
      "cell_type": "markdown",
      "metadata": {
        "id": "Kq1tuazucdCr"
      },
      "source": [
        "Then let's define a baseline neural network."
      ]
    },
    {
      "cell_type": "code",
      "execution_count": null,
      "metadata": {
        "id": "jIDZbA0JE8cQ"
      },
      "outputs": [],
      "source": [
        "# ###################################################\n",
        "# a baseline model\n",
        "\n",
        "def conv(in_channels, out_channels, kernel_size=5, stride=2):\n",
        "    return nn.Conv2d(\n",
        "        in_channels,\n",
        "        out_channels,\n",
        "        kernel_size=kernel_size,\n",
        "        stride=stride,\n",
        "        padding=kernel_size // 2,\n",
        "    )\n",
        "\n",
        "\n",
        "def deconv(in_channels, out_channels, kernel_size=5, stride=2):\n",
        "    return nn.ConvTranspose2d(\n",
        "        in_channels,\n",
        "        out_channels,\n",
        "        kernel_size=kernel_size,\n",
        "        stride=stride,\n",
        "        output_padding=stride - 1,\n",
        "        padding=kernel_size // 2,\n",
        "    )\n",
        "\n",
        "\n",
        "class Network(nn.Module):\n",
        "\n",
        "    def __init__(self, N, M, init_weights=True, **kwargs):\n",
        "        super().__init__(**kwargs)\n",
        "\n",
        "        self.g_a = nn.Sequential(\n",
        "            conv(3, N),\n",
        "            conv(N, N),\n",
        "            conv(N, N),\n",
        "            conv(N, M),\n",
        "        )\n",
        "\n",
        "        self.g_s = nn.Sequential(\n",
        "            deconv(M, N),\n",
        "            deconv(N, N),\n",
        "            deconv(N, N),\n",
        "            deconv(N, 3),\n",
        "        )\n",
        "\n",
        "        self.N = N\n",
        "        self.M = M\n",
        "\n",
        "        if init_weights:\n",
        "            self._initialize_weights()\n",
        "\n",
        "    def forward(self, x):\n",
        "        y = self.g_a(x)\n",
        "        x_hat = self.g_s(y)\n",
        "\n",
        "        return {\n",
        "            \"x_hat\": x_hat,\n",
        "        }\n",
        "\n",
        "    def _initialize_weights(self):\n",
        "        for m in self.modules():\n",
        "            if isinstance(m, (nn.Conv2d, nn.ConvTranspose2d)):\n",
        "                nn.init.kaiming_normal_(m.weight)\n",
        "                if m.bias is not None:\n",
        "                    nn.init.zeros_(m.bias)\n",
        "\n",
        "    def compress(self, x):\n",
        "        y = self.g_a(x)\n",
        "        return y\n",
        "\n",
        "    def decompress(self, y_hat):\n",
        "        x_hat = self.g_s(y_hat).clamp_(0, 1) # Limiting. Limit the value of input to [min, max], output as a tensor\n",
        "        return {\"x_hat\": x_hat}\n"
      ]
    },
    {
      "cell_type": "markdown",
      "metadata": {
        "id": "BfF-jNrXgJ7b"
      },
      "source": [
        "Let's check if this network structure works fine with data flow."
      ]
    },
    {
      "cell_type": "code",
      "execution_count": null,
      "metadata": {
        "id": "rfmlma4HgQ0N"
      },
      "outputs": [],
      "source": [
        "# 1. get some random data\n",
        "data = torch.zeros((1, 3, 128, 128))\n",
        "# 2. get a random instance of the model class\n",
        "model = Network(5, 5)\n",
        "# 3. forward the data to the model\n",
        "preds = model(data)\n",
        "# 4. do compress\n",
        "compressed = model.compress(data)\n",
        "# 5. decompress\n",
        "data_hat = model.decompress(compressed)"
      ]
    },
    {
      "cell_type": "markdown",
      "metadata": {
        "id": "y-V1ZzK-hTEe"
      },
      "source": [
        "If there's no error pops out in the last code cell, then our network is fine.\n",
        "\n",
        "We can compute the compression ratio of this network"
      ]
    },
    {
      "cell_type": "code",
      "execution_count": null,
      "metadata": {
        "colab": {
          "base_uri": "https://localhost:8080/"
        },
        "id": "X0lw0MFHh4y_",
        "outputId": "0e70719c-df36-4e4a-800f-c630e853fb85"
      },
      "outputs": [
        {
          "output_type": "stream",
          "name": "stdout",
          "text": [
            "compression ratio: compressed/original 0.006510416666666667\n"
          ]
        }
      ],
      "source": [
        "print('compression ratio: compressed/original {}'.format(compressed.numel() / data.numel()))"
      ]
    },
    {
      "cell_type": "markdown",
      "metadata": {
        "id": "vkuz5YHaiZBA"
      },
      "source": [
        "The compression ratio of this random network is suprising, but we don't expect any good performance as the model is too small. \n",
        "\n",
        "Usually the larger the model, the better the performance given sufficient training data and iterations."
      ]
    },
    {
      "cell_type": "markdown",
      "metadata": {
        "id": "07booO4vi8R7"
      },
      "source": [
        "Let's move on to the loss, average meter, and optimizer. \n",
        "\n",
        "A good thing about this task is we don't need extra label but the input image.\n",
        "\n",
        "The loss is simply compared between the decoded image and the original one."
      ]
    },
    {
      "cell_type": "code",
      "execution_count": null,
      "metadata": {
        "id": "pRlDgjicFtdN"
      },
      "outputs": [],
      "source": [
        "class Loss(nn.Module):\n",
        "\n",
        "    def __init__(self):\n",
        "        super().__init__()\n",
        "        self.mse = nn.MSELoss()\n",
        "\n",
        "    def forward(self, output, target):\n",
        "        out = {}\n",
        "        out[\"mse_loss\"] = self.mse(output[\"x_hat\"], target)\n",
        "        out[\"loss\"] = out[\"mse_loss\"] * 255\n",
        "\n",
        "        return out"
      ]
    },
    {
      "cell_type": "code",
      "execution_count": null,
      "metadata": {
        "id": "MF1C9J_NYYoe"
      },
      "outputs": [],
      "source": [
        "class AverageMeter:\n",
        "    \"\"\"Compute running average.\"\"\"\n",
        "\n",
        "    def __init__(self):\n",
        "        self.val = 0\n",
        "        self.avg = 0\n",
        "        self.sum = 0\n",
        "        self.count = 0\n",
        "\n",
        "    def update(self, val, n=1):\n",
        "        self.val = val\n",
        "        self.sum += val * n\n",
        "        self.count += n\n",
        "        self.avg = self.sum / self.count"
      ]
    },
    {
      "cell_type": "code",
      "execution_count": null,
      "metadata": {
        "id": "rwmPi5mebRu8"
      },
      "outputs": [],
      "source": [
        "def configure_optimizers(net, learning_rate):\n",
        "\n",
        "    optimizer = optim.Adam(\n",
        "        net.parameters(),\n",
        "        lr=learning_rate,\n",
        "    )\n",
        "\n",
        "    return optimizer"
      ]
    },
    {
      "cell_type": "code",
      "execution_count": null,
      "metadata": {
        "id": "-rJt2-91bv4c"
      },
      "outputs": [],
      "source": [
        "def save_checkpoint(state, is_best, filename=\"checkpoint.pth.tar\"):\n",
        "    torch.save(state, filename)\n",
        "    if is_best:\n",
        "        shutil.copyfile(filename, \"checkpoint_best_loss.pth.tar\")"
      ]
    },
    {
      "cell_type": "markdown",
      "metadata": {
        "id": "cCZLieuUjIn5"
      },
      "source": [
        "After we almost got everything we need, we define a `train_one_epoch` function for training the model for one epoch."
      ]
    },
    {
      "cell_type": "code",
      "execution_count": null,
      "metadata": {
        "id": "M-J38tMfbiFR"
      },
      "outputs": [],
      "source": [
        "def train_one_epoch(\n",
        "    model, criterion, train_dataloader, optimizer, epoch, clip_max_norm\n",
        "):\n",
        "    model.train()\n",
        "    device = next(model.parameters()).device\n",
        "\n",
        "    for i, d in enumerate(train_dataloader):\n",
        "        d = d.to(device)\n",
        "\n",
        "        optimizer.zero_grad()\n",
        "\n",
        "        out_net = model(d)\n",
        "\n",
        "        out_criterion = criterion(out_net, d)\n",
        "        out_criterion[\"loss\"].backward()\n",
        "        if clip_max_norm > 0:\n",
        "            torch.nn.utils.clip_grad_norm_(model.parameters(), clip_max_norm)\n",
        "        optimizer.step()\n",
        "\n",
        "        if i % 10 == 0:\n",
        "            print(\n",
        "                f\"Train epoch {epoch}: [\"\n",
        "                f\"{i*len(d)}/{len(train_dataloader.dataset)}\"\n",
        "                f\" ({100. * i / len(train_dataloader):.0f}%)]\"\n",
        "                f'\\tLoss: {out_criterion[\"loss\"].item():.3f} |'\n",
        "                f'\\tMSE loss: {out_criterion[\"mse_loss\"].item():.3f}'\n",
        "            )\n"
      ]
    },
    {
      "cell_type": "markdown",
      "metadata": {
        "id": "J61e5WBajaz7"
      },
      "source": [
        "Likewise we further define a `test_epoch` function for getting the error on a valid set. \n",
        "\n",
        "This part of data is not used in the training process, and will only be used to check the performance and give us implications of the performance of the model on unseen data.\n",
        "\n",
        "This function returns the average loss on the valid split data."
      ]
    },
    {
      "cell_type": "code",
      "execution_count": null,
      "metadata": {
        "id": "kdTl131jbqnX"
      },
      "outputs": [],
      "source": [
        "def test_epoch(epoch, test_dataloader, model, criterion):\n",
        "    model.eval()\n",
        "    device = next(model.parameters()).device\n",
        "\n",
        "    loss = AverageMeter()\n",
        "    mse_loss = AverageMeter()\n",
        "\n",
        "    with torch.no_grad():\n",
        "        for d in test_dataloader:\n",
        "            d = d.to(device)\n",
        "            out_net = model(d)\n",
        "            d_out = out_net['x_hat']\n",
        "            out_criterion = criterion(out_net, d)\n",
        "\n",
        "            loss.update(out_criterion[\"loss\"])\n",
        "            mse_loss.update(out_criterion[\"mse_loss\"])\n",
        "\n",
        "    print(\n",
        "        f\"Test epoch {epoch}: Average losses:\"\n",
        "        f\"\\tLoss: {loss.avg:.3f} |\"\n",
        "        f\"\\tMSE loss: {mse_loss.avg:.3f}\\n\"\n",
        "    )\n",
        "\n",
        "    return loss.avg"
      ]
    },
    {
      "cell_type": "markdown",
      "metadata": {
        "id": "X9KqN_qlkDB0"
      },
      "source": [
        "Finally we define a main function, and complete the whole training/testing process.\n",
        "\n",
        "At the start of this main function, we define some arguments that's useful for training."
      ]
    },
    {
      "cell_type": "code",
      "execution_count": null,
      "metadata": {
        "colab": {
          "base_uri": "https://localhost:8080/"
        },
        "id": "x63ecQUskvZ7",
        "outputId": "69c679d8-6c5c-43dc-a356-44b86b183130"
      },
      "outputs": [
        {
          "output_type": "stream",
          "name": "stdout",
          "text": [
            "train  valid  Video\n"
          ]
        }
      ],
      "source": [
        "!ls drive/MyDrive/ELEC5306-2022"
      ]
    },
    {
      "cell_type": "markdown",
      "metadata": {
        "id": "Wk512yTjv7Lh"
      },
      "source": [
        "Define some arguments useful for training/validation."
      ]
    },
    {
      "cell_type": "code",
      "execution_count": null,
      "metadata": {
        "id": "-h-p6LA_bw99"
      },
      "outputs": [],
      "source": [
        "seed = 123                                        # for reproducibility\n",
        "cuda = True                                       # use GPU\n",
        "save = True                                       # save trained model\n",
        "dataset = '/content/drive/MyDrive/ELEC5306-2022'  # path to the root of the dataset\n",
        "checkpoint = ''                                   # load pretrained model\n",
        "epochs = 10                                       # total training epochs\n",
        "num_workers = 3                          # multi-process for loading training data\n",
        "clip_max_norm = 1.0                               # avoid gradient explosion\n",
        "patch_size = (256, 256)                           # input size for the training network\n",
        "learning_rate = 1e-4  \n",
        "batch_size = 16\n",
        "test_batch_size = 16 \n",
        "N = 128\n",
        "M = 192"
      ]
    },
    {
      "cell_type": "code",
      "execution_count": null,
      "metadata": {
        "colab": {
          "base_uri": "https://localhost:8080/"
        },
        "id": "ZHEARHw8v56D",
        "outputId": "7460cd63-0284-45a9-bf2a-d2d37d800b5e"
      },
      "outputs": [
        {
          "output_type": "stream",
          "name": "stderr",
          "text": [
            "/usr/local/lib/python3.7/dist-packages/torch/utils/data/dataloader.py:490: UserWarning: This DataLoader will create 3 worker processes in total. Our suggested max number of worker in current system is 2, which is smaller than what this DataLoader is going to create. Please be aware that excessive worker creation might get DataLoader running slow or even freeze, lower the worker number to avoid potential slowness/freeze if necessary.\n",
            "  cpuset_checked))\n"
          ]
        },
        {
          "output_type": "stream",
          "name": "stdout",
          "text": [
            "Learning rate: 0.0001\n",
            "Train epoch 0: [0/250 (0%)]\tLoss: 4574.635 |\tMSE loss: 17.940\n",
            "Train epoch 0: [160/250 (62%)]\tLoss: 159.240 |\tMSE loss: 0.624\n",
            "Test epoch 0: Average losses:\tLoss: 98.455 |\tMSE loss: 0.386\n",
            "\n",
            "Learning rate: 0.0001\n",
            "Train epoch 1: [0/250 (0%)]\tLoss: 101.057 |\tMSE loss: 0.396\n",
            "Train epoch 1: [160/250 (62%)]\tLoss: 35.001 |\tMSE loss: 0.137\n",
            "Test epoch 1: Average losses:\tLoss: 50.361 |\tMSE loss: 0.197\n",
            "\n",
            "Learning rate: 0.0001\n",
            "Train epoch 2: [0/250 (0%)]\tLoss: 46.063 |\tMSE loss: 0.181\n",
            "Train epoch 2: [160/250 (62%)]\tLoss: 37.982 |\tMSE loss: 0.149\n",
            "Test epoch 2: Average losses:\tLoss: 32.560 |\tMSE loss: 0.128\n",
            "\n",
            "Learning rate: 0.0001\n",
            "Train epoch 3: [0/250 (0%)]\tLoss: 24.773 |\tMSE loss: 0.097\n",
            "Train epoch 3: [160/250 (62%)]\tLoss: 15.148 |\tMSE loss: 0.059\n",
            "Test epoch 3: Average losses:\tLoss: 23.199 |\tMSE loss: 0.091\n",
            "\n",
            "Learning rate: 0.0001\n",
            "Train epoch 4: [0/250 (0%)]\tLoss: 22.510 |\tMSE loss: 0.088\n",
            "Train epoch 4: [160/250 (62%)]\tLoss: 11.861 |\tMSE loss: 0.047\n",
            "Test epoch 4: Average losses:\tLoss: 15.894 |\tMSE loss: 0.062\n",
            "\n",
            "Learning rate: 0.0001\n",
            "Train epoch 5: [0/250 (0%)]\tLoss: 24.366 |\tMSE loss: 0.096\n",
            "Train epoch 5: [160/250 (62%)]\tLoss: 16.099 |\tMSE loss: 0.063\n",
            "Test epoch 5: Average losses:\tLoss: 12.799 |\tMSE loss: 0.050\n",
            "\n",
            "Learning rate: 0.0001\n",
            "Train epoch 6: [0/250 (0%)]\tLoss: 9.733 |\tMSE loss: 0.038\n",
            "Train epoch 6: [160/250 (62%)]\tLoss: 10.351 |\tMSE loss: 0.041\n",
            "Test epoch 6: Average losses:\tLoss: 11.009 |\tMSE loss: 0.043\n",
            "\n",
            "Learning rate: 0.0001\n",
            "Train epoch 7: [0/250 (0%)]\tLoss: 10.896 |\tMSE loss: 0.043\n",
            "Train epoch 7: [160/250 (62%)]\tLoss: 6.946 |\tMSE loss: 0.027\n",
            "Test epoch 7: Average losses:\tLoss: 12.567 |\tMSE loss: 0.049\n",
            "\n",
            "Learning rate: 0.0001\n",
            "Train epoch 8: [0/250 (0%)]\tLoss: 11.256 |\tMSE loss: 0.044\n",
            "Train epoch 8: [160/250 (62%)]\tLoss: 8.539 |\tMSE loss: 0.033\n",
            "Test epoch 8: Average losses:\tLoss: 7.896 |\tMSE loss: 0.031\n",
            "\n",
            "Learning rate: 0.0001\n",
            "Train epoch 9: [0/250 (0%)]\tLoss: 7.226 |\tMSE loss: 0.028\n",
            "Train epoch 9: [160/250 (62%)]\tLoss: 7.245 |\tMSE loss: 0.028\n",
            "Test epoch 9: Average losses:\tLoss: 6.861 |\tMSE loss: 0.027\n",
            "\n"
          ]
        }
      ],
      "source": [
        "torch.manual_seed(seed)\n",
        "random.seed(seed)\n",
        "\n",
        "train_transforms = transforms.Compose(\n",
        "    [transforms.RandomCrop(patch_size), transforms.ToTensor()]\n",
        ")\n",
        "\n",
        "test_transforms = transforms.Compose(\n",
        "    [transforms.CenterCrop(patch_size), transforms.ToTensor()]\n",
        ")\n",
        "\n",
        "train_dataset = ImageFolder(dataset, split=\"train\", transform=train_transforms)\n",
        "test_dataset = ImageFolder(dataset, split=\"valid\", transform=test_transforms)\n",
        "\n",
        "device = \"cuda\" if cuda and torch.cuda.is_available() else \"cpu\"\n",
        "\n",
        "train_dataloader = DataLoader(\n",
        "    train_dataset,\n",
        "    batch_size=batch_size,\n",
        "    num_workers=num_workers,\n",
        "    shuffle=True,\n",
        "    pin_memory=(device == \"cuda\"),\n",
        ")\n",
        "\n",
        "test_dataloader = DataLoader(\n",
        "    test_dataset,\n",
        "    batch_size=test_batch_size,\n",
        "    num_workers=num_workers,\n",
        "    shuffle=False,\n",
        "    pin_memory=(device == \"cuda\"),\n",
        ")\n",
        "\n",
        "net = Network(N, M)\n",
        "net = net.to(device)\n",
        "\n",
        "optimizer = configure_optimizers(net, learning_rate)\n",
        "lr_scheduler = optim.lr_scheduler.ReduceLROnPlateau(optimizer, \"min\")\n",
        "criterion = Loss()\n",
        "\n",
        "last_epoch = 0\n",
        "if checkpoint:  # load from previous checkpoint\n",
        "    print(\"Loading\", checkpoint)\n",
        "    checkpoint = torch.load(checkpoint, map_location=device)\n",
        "    last_epoch = checkpoint[\"epoch\"] + 1\n",
        "    net.load_state_dict(checkpoint[\"state_dict\"])\n",
        "    optimizer.load_state_dict(checkpoint[\"optimizer\"])\n",
        "    lr_scheduler.load_state_dict(checkpoint[\"lr_scheduler\"])\n",
        "\n",
        "best_loss = float(\"inf\")\n",
        "for epoch in range(last_epoch, epochs):\n",
        "    print(f\"Learning rate: {optimizer.param_groups[0]['lr']}\")\n",
        "    train_one_epoch(\n",
        "        net,\n",
        "        criterion,\n",
        "        train_dataloader,\n",
        "        optimizer,\n",
        "        epoch,\n",
        "        clip_max_norm,\n",
        "    )\n",
        "    loss = test_epoch(epoch, test_dataloader, net, criterion)\n",
        "    lr_scheduler.step(loss)\n",
        "\n",
        "    is_best = loss < best_loss\n",
        "    best_loss = min(loss, best_loss)\n",
        "\n",
        "    if save:\n",
        "        save_checkpoint(\n",
        "            {\n",
        "                \"epoch\": epoch,\n",
        "                \"state_dict\": net.state_dict(),\n",
        "                \"loss\": loss,\n",
        "                \"optimizer\": optimizer.state_dict(),\n",
        "                \"lr_scheduler\": lr_scheduler.state_dict(),\n",
        "            },\n",
        "            is_best,\n",
        "        )\n"
      ]
    },
    {
      "cell_type": "code",
      "execution_count": null,
      "metadata": {
        "colab": {
          "base_uri": "https://localhost:8080/",
          "height": 179
        },
        "id": "kdKBQcGttrvR",
        "outputId": "4f27f50e-7187-4113-dcd8-ce82050f3632"
      },
      "outputs": [
        {
          "output_type": "stream",
          "name": "stderr",
          "text": [
            "Clipping input data to the valid range for imshow with RGB data ([0..1] for floats or [0..255] for integers).\n"
          ]
        },
        {
          "output_type": "execute_result",
          "data": {
            "text/plain": [
              "Text(0.5, 1.0, 'compressed-decoded')"
            ]
          },
          "metadata": {},
          "execution_count": 16
        },
        {
          "output_type": "display_data",
          "data": {
            "text/plain": [
              "<Figure size 432x288 with 2 Axes>"
            ],
            "image/png": "[encoded data removed]"
          },
          "metadata": {
            "needs_background": "light"
          }
        }
      ],
      "source": [
        "# visualization\n",
        "import matplotlib.pyplot as plt\n",
        "\n",
        "dataset = '/content/drive/MyDrive/ELEC5306-2022'\n",
        "test_dataset = ImageFolder(dataset, split=\"valid\", transform=transforms.ToTensor())\n",
        "image = test_dataset[1].unsqueeze(0).to(device)\n",
        "net.load_state_dict(torch.load('checkpoint_best_loss.pth.tar', map_location=device)[\"state_dict\"])\n",
        "predicted = net(image)['x_hat'].squeeze(0).detach()\n",
        "\n",
        "fig, axes = plt.subplots(1,2)\n",
        "axes[0].imshow(image.squeeze(0).cpu().permute(1, 2, 0))\n",
        "axes[0].axis('off')\n",
        "axes[0].set_title('original')\n",
        "axes[1].imshow(predicted.cpu().permute(1, 2, 0))\n",
        "axes[1].axis('off')\n",
        "axes[1].set_title('compressed-decoded')"
      ]
    },
    {
      "cell_type": "markdown",
      "metadata": {
        "id": "rANL6gr7ytT_"
      },
      "source": [
        "## 1.2 PSNR as AverageMeter for testing\n"
      ]
    },
    {
      "cell_type": "markdown",
      "metadata": {
        "id": "MAjAuQ5TCAw3"
      },
      "source": [
        "A scratch example of PSNR, no gaurantee for working.\n",
        "\n",
        "Free to grab online.\n",
        "\n",
        "\n"
      ]
    },
    {
      "cell_type": "code",
      "execution_count": null,
      "metadata": {
        "id": "ern8HFjg_kE5"
      },
      "outputs": [],
      "source": [
        "def PSNR(img1, img2):\n",
        "    # img1 and img2 within range [0, 1]\n",
        "    img1, img2 = img1.detach(), img2.detach()\n",
        "    img1 = img1 * 255\n",
        "    img2 = img2 * 255\n",
        "    batch_size = img1.shape[0]\n",
        "    img1 = img1.reshape(batch_size, -1)\n",
        "    img2 = img2.reshape(batch_size, -1)\n",
        "    mse = torch.mean((img1 - img2) ** 2)\n",
        "    return torch.mean(20 * torch.log10(255.0 / torch.sqrt(mse)))\n"
      ]
    },
    {
      "cell_type": "markdown",
      "metadata": {
        "id": "XRlC8SQWMTuN"
      },
      "source": [
        "A scratch example of SSIM, details are at https://github.com/VainF/pytorch-msssim"
      ]
    },
    {
      "cell_type": "code",
      "execution_count": null,
      "metadata": {
        "colab": {
          "base_uri": "https://localhost:8080/"
        },
        "id": "sZcKwzojMSei",
        "outputId": "1c561eb7-2d3c-4542-ff30-d21812f461b9"
      },
      "outputs": [
        {
          "output_type": "stream",
          "name": "stdout",
          "text": [
            "Collecting pytorch-msssim\n",
            "  Downloading pytorch_msssim-0.2.1-py3-none-any.whl (7.2 kB)\n",
            "Requirement already satisfied: torch in /usr/local/lib/python3.7/dist-packages (from pytorch-msssim) (1.11.0+cu113)\n",
            "Requirement already satisfied: typing-extensions in /usr/local/lib/python3.7/dist-packages (from torch->pytorch-msssim) (4.2.0)\n",
            "Installing collected packages: pytorch-msssim\n",
            "Successfully installed pytorch-msssim-0.2.1\n"
          ]
        }
      ],
      "source": [
        "!pip install pytorch-msssim"
      ]
    },
    {
      "cell_type": "code",
      "execution_count": null,
      "metadata": {
        "colab": {
          "base_uri": "https://localhost:8080/"
        },
        "id": "bGed-dnWMlDT",
        "outputId": "7ab0f3e9-d209-4012-f15c-cc4c7ffaf8a9"
      },
      "outputs": [
        {
          "output_type": "stream",
          "name": "stdout",
          "text": [
            "tensor([ 0.0767, -0.0258])\n",
            "<class 'torch.Tensor'>\n"
          ]
        },
        {
          "output_type": "stream",
          "name": "stderr",
          "text": [
            "/usr/local/lib/python3.7/dist-packages/pytorch_msssim/ssim.py:51: UserWarning: Skipping Gaussian Smoothing at dimension 2+0 for input: torch.Size([2, 3, 10, 10]) and win size: 11\n",
            "  f\"Skipping Gaussian Smoothing at dimension 2+{i} for input: {input.shape} and win size: {win.shape[-1]}\"\n",
            "/usr/local/lib/python3.7/dist-packages/pytorch_msssim/ssim.py:51: UserWarning: Skipping Gaussian Smoothing at dimension 2+1 for input: torch.Size([2, 3, 10, 10]) and win size: 11\n",
            "  f\"Skipping Gaussian Smoothing at dimension 2+{i} for input: {input.shape} and win size: {win.shape[-1]}\"\n"
          ]
        }
      ],
      "source": [
        "import torch\n",
        "from pytorch_msssim import ssim\n",
        "\n",
        "# X: (N,3,H,W) a batch of non-negative RGB images (0~1)\n",
        "# Y: (N,3,H,W)  \n",
        "\n",
        "X = torch.randn((2, 3, 10, 10))\n",
        "Y = torch.randn((2, 3, 10, 10))\n",
        "\n",
        "X = X * 255\n",
        "Y = Y * 255\n",
        "\n",
        "# calculate ssim & ms-ssim for each image\n",
        "ssim_val = ssim(X, Y, data_range=255, size_average=False) # return (N,)\n",
        "print(ssim_val)\n",
        "print(type(ssim_val))\n"
      ]
    },
    {
      "cell_type": "markdown",
      "metadata": {
        "id": "KCoKIbkQB-jH"
      },
      "source": [
        "\n",
        "Your code here:"
      ]
    },
    {
      "cell_type": "code",
      "source": [
        "# class Loss(nn.Module):\n",
        "\n",
        "#     def __init__(self):\n",
        "#         super().__init__()\n",
        "#         self.mse = nn.MSELoss()\n",
        "\n",
        "#     def forward(self, output, target):\n",
        "#         out = {}\n",
        "#         out[\"mse_loss\"] = self.mse(output[\"x_hat\"], target)\n",
        "#         out[\"loss\"] = out[\"mse_loss\"] * 255\n",
        "\n",
        "#         return out"
      ],
      "metadata": {
        "id": "b_v6Z7YWodBg"
      },
      "execution_count": null,
      "outputs": []
    },
    {
      "cell_type": "code",
      "source": [
        "# class AverageMeter:\n",
        "#     \"\"\"Compute running average.\"\"\"\n",
        "\n",
        "#     def __init__(self):\n",
        "#         self.val = 0\n",
        "#         self.avg = 0\n",
        "#         self.sum = 0\n",
        "#         self.count = 0\n",
        "\n",
        "#     def update(self, val, n=1):\n",
        "#         self.val = val\n",
        "#         self.sum += val * n\n",
        "#         self.count += n\n",
        "#         self.avg = self.sum / self.count"
      ],
      "metadata": {
        "id": "ZzMoTjVkwbNb"
      },
      "execution_count": null,
      "outputs": []
    },
    {
      "cell_type": "code",
      "execution_count": null,
      "metadata": {
        "id": "3dRp5v2dB8Es"
      },
      "outputs": [],
      "source": [
        "def test_epoch(epoch, test_dataloader, model, criterion):\n",
        "    model.eval()\n",
        "    device = next(model.parameters()).device\n",
        "\n",
        "    loss = AverageMeter()\n",
        "    mse_loss = AverageMeter()\n",
        "    psnr = AverageMeter()\n",
        "    myssim = AverageMeter()\n",
        "\n",
        "    with torch.no_grad():\n",
        "        for d in test_dataloader:\n",
        "            d = d.to(device)\n",
        "            out_net = model(d)\n",
        "            d_out = out_net['x_hat']\n",
        "            out_criterion = criterion(out_net, d)\n",
        "\n",
        "            loss.update(out_criterion[\"loss\"])\n",
        "            mse_loss.update(out_criterion[\"mse_loss\"])\n",
        "            \n",
        "            # calculate the PSNR and SSIM\n",
        "            psnr.update(PSNR(d_out, d))\n",
        "            ssim_val = ssim(d * 255, d_out * 255, data_range=255, size_average=True)\n",
        "            # print(ssim_val)\n",
        "            myssim.update(ssim_val)\n",
        "            \n",
        "\n",
        "    print(\n",
        "        f\"Test epoch {epoch}: Average losses:\"\n",
        "        f\"\\tLoss: {loss.avg:.3f} |\"\n",
        "        f\"\\tMSE loss: {mse_loss.avg:.3f} |\"\n",
        "        # print out the PSNR and SSIM value\n",
        "        f\"\\tPSNR value: {psnr.avg:.3f} |\"\n",
        "        f\"\\tSSIM value: {myssim.avg:.3f}\\n\"\n",
        "    )\n",
        "\n",
        "    return loss.avg\n",
        "\n",
        "# do the test on valid split"
      ]
    },
    {
      "cell_type": "markdown",
      "source": [
        "As we already have the DataLoaders, here we just train our network again. At the same time, do the test on valid set (in test_dataloader). All those four values (Loss, MSE, PSNR and SSIM are printed directly after each epoch)"
      ],
      "metadata": {
        "id": "_0iK5tjTwmh9"
      }
    },
    {
      "cell_type": "code",
      "source": [
        "net = Network(N, M)\n",
        "net = net.to(device)\n",
        "\n",
        "optimizer = configure_optimizers(net, learning_rate)\n",
        "lr_scheduler = optim.lr_scheduler.ReduceLROnPlateau(optimizer, \"min\")\n",
        "criterion = Loss()\n",
        "\n",
        "last_epoch = 0\n",
        "if checkpoint:  # load from previous checkpoint\n",
        "    print(\"Loading\", checkpoint)\n",
        "    checkpoint = torch.load(checkpoint, map_location=device)\n",
        "    last_epoch = checkpoint[\"epoch\"] + 1\n",
        "    net.load_state_dict(checkpoint[\"state_dict\"])\n",
        "    optimizer.load_state_dict(checkpoint[\"optimizer\"])\n",
        "    lr_scheduler.load_state_dict(checkpoint[\"lr_scheduler\"])\n",
        "\n",
        "best_loss = float(\"inf\")\n",
        "for epoch in range(last_epoch, epochs):\n",
        "    print(f\"Learning rate: {optimizer.param_groups[0]['lr']}\")\n",
        "    train_one_epoch(\n",
        "        net,\n",
        "        criterion,\n",
        "        train_dataloader,\n",
        "        optimizer,\n",
        "        epoch,\n",
        "        clip_max_norm,\n",
        "    )\n",
        "    loss = test_epoch(epoch, test_dataloader, net, criterion)\n",
        "    lr_scheduler.step(loss)\n",
        "\n",
        "    is_best = loss < best_loss\n",
        "    best_loss = min(loss, best_loss)\n",
        "\n",
        "    if save:\n",
        "        save_checkpoint(\n",
        "            {\n",
        "                \"epoch\": epoch,\n",
        "                \"state_dict\": net.state_dict(),\n",
        "                \"loss\": loss,\n",
        "                \"optimizer\": optimizer.state_dict(),\n",
        "                \"lr_scheduler\": lr_scheduler.state_dict(),\n",
        "            },\n",
        "            is_best,\n",
        "        )"
      ],
      "metadata": {
        "colab": {
          "base_uri": "https://localhost:8080/"
        },
        "id": "XOXV9ngguGcg",
        "outputId": "1f211d1a-3ff1-4559-f06d-3cb25c7858e7"
      },
      "execution_count": null,
      "outputs": [
        {
          "output_type": "stream",
          "name": "stdout",
          "text": [
            "Learning rate: 0.0001\n"
          ]
        },
        {
          "output_type": "stream",
          "name": "stderr",
          "text": [
            "/usr/local/lib/python3.7/dist-packages/torch/utils/data/dataloader.py:490: UserWarning: This DataLoader will create 3 worker processes in total. Our suggested max number of worker in current system is 2, which is smaller than what this DataLoader is going to create. Please be aware that excessive worker creation might get DataLoader running slow or even freeze, lower the worker number to avoid potential slowness/freeze if necessary.\n",
            "  cpuset_checked))\n"
          ]
        },
        {
          "output_type": "stream",
          "name": "stdout",
          "text": [
            "Train epoch 0: [0/250 (0%)]\tLoss: 2981.080 |\tMSE loss: 11.691\n",
            "Train epoch 0: [160/250 (62%)]\tLoss: 132.255 |\tMSE loss: 0.519\n",
            "Test epoch 0: Average losses:\tLoss: 91.622 |\tMSE loss: 0.359 |\tPSNR value: 4.500 |\tSSIM value: 0.008\n",
            "\n",
            "Learning rate: 0.0001\n",
            "Train epoch 1: [0/250 (0%)]\tLoss: 71.134 |\tMSE loss: 0.279\n",
            "Train epoch 1: [160/250 (62%)]\tLoss: 54.083 |\tMSE loss: 0.212\n",
            "Test epoch 1: Average losses:\tLoss: 48.288 |\tMSE loss: 0.189 |\tPSNR value: 7.264 |\tSSIM value: 0.020\n",
            "\n",
            "Learning rate: 0.0001\n",
            "Train epoch 2: [0/250 (0%)]\tLoss: 66.579 |\tMSE loss: 0.261\n",
            "Train epoch 2: [160/250 (62%)]\tLoss: 43.151 |\tMSE loss: 0.169\n",
            "Test epoch 2: Average losses:\tLoss: 31.762 |\tMSE loss: 0.125 |\tPSNR value: 9.082 |\tSSIM value: 0.034\n",
            "\n",
            "Learning rate: 0.0001\n",
            "Train epoch 3: [0/250 (0%)]\tLoss: 17.500 |\tMSE loss: 0.069\n",
            "Train epoch 3: [160/250 (62%)]\tLoss: 28.672 |\tMSE loss: 0.112\n",
            "Test epoch 3: Average losses:\tLoss: 23.374 |\tMSE loss: 0.092 |\tPSNR value: 10.417 |\tSSIM value: 0.049\n",
            "\n",
            "Learning rate: 0.0001\n",
            "Train epoch 4: [0/250 (0%)]\tLoss: 23.514 |\tMSE loss: 0.092\n",
            "Train epoch 4: [160/250 (62%)]\tLoss: 17.769 |\tMSE loss: 0.070\n",
            "Test epoch 4: Average losses:\tLoss: 17.794 |\tMSE loss: 0.070 |\tPSNR value: 11.594 |\tSSIM value: 0.057\n",
            "\n",
            "Learning rate: 0.0001\n",
            "Train epoch 5: [0/250 (0%)]\tLoss: 15.214 |\tMSE loss: 0.060\n",
            "Train epoch 5: [160/250 (62%)]\tLoss: 19.750 |\tMSE loss: 0.077\n",
            "Test epoch 5: Average losses:\tLoss: 13.431 |\tMSE loss: 0.053 |\tPSNR value: 12.816 |\tSSIM value: 0.076\n",
            "\n",
            "Learning rate: 0.0001\n",
            "Train epoch 6: [0/250 (0%)]\tLoss: 14.279 |\tMSE loss: 0.056\n",
            "Train epoch 6: [160/250 (62%)]\tLoss: 10.263 |\tMSE loss: 0.040\n",
            "Test epoch 6: Average losses:\tLoss: 11.159 |\tMSE loss: 0.044 |\tPSNR value: 13.620 |\tSSIM value: 0.090\n",
            "\n",
            "Learning rate: 0.0001\n",
            "Train epoch 7: [0/250 (0%)]\tLoss: 12.993 |\tMSE loss: 0.051\n",
            "Train epoch 7: [160/250 (62%)]\tLoss: 9.589 |\tMSE loss: 0.038\n",
            "Test epoch 7: Average losses:\tLoss: 10.452 |\tMSE loss: 0.041 |\tPSNR value: 13.892 |\tSSIM value: 0.103\n",
            "\n",
            "Learning rate: 0.0001\n",
            "Train epoch 8: [0/250 (0%)]\tLoss: 11.104 |\tMSE loss: 0.044\n",
            "Train epoch 8: [160/250 (62%)]\tLoss: 7.455 |\tMSE loss: 0.029\n",
            "Test epoch 8: Average losses:\tLoss: 7.654 |\tMSE loss: 0.030 |\tPSNR value: 15.264 |\tSSIM value: 0.129\n",
            "\n",
            "Learning rate: 0.0001\n",
            "Train epoch 9: [0/250 (0%)]\tLoss: 3.765 |\tMSE loss: 0.015\n",
            "Train epoch 9: [160/250 (62%)]\tLoss: 3.799 |\tMSE loss: 0.015\n",
            "Test epoch 9: Average losses:\tLoss: 8.054 |\tMSE loss: 0.032 |\tPSNR value: 15.037 |\tSSIM value: 0.136\n",
            "\n"
          ]
        }
      ]
    },
    {
      "cell_type": "markdown",
      "metadata": {
        "id": "H82Nj4iz_qY0"
      },
      "source": [
        "## 1.3 Loss-Epoch curve\n"
      ]
    },
    {
      "cell_type": "markdown",
      "metadata": {
        "id": "S9IGYjVlONdm"
      },
      "source": [
        "A naive exmaple, no gaurantee for work."
      ]
    },
    {
      "cell_type": "code",
      "execution_count": null,
      "metadata": {
        "id": "F11jZ5-o_vQ_"
      },
      "outputs": [],
      "source": [
        "# loss_epoch = list()\n",
        "\n",
        "# for epoch in range(last_epoch, epochs):\n",
        "#     print(f\"Learning rate: {optimizer.param_groups[0]['lr']}\")\n",
        "#     train_one_epoch(\n",
        "#         net,\n",
        "#         criterion,\n",
        "#         train_dataloader,\n",
        "#         optimizer,\n",
        "#         epoch,\n",
        "#         clip_max_norm,\n",
        "#     )\n",
        "#     loss = test_epoch(epoch, test_dataloader, net, criterion)\n",
        "#     #\n",
        "#     loss_epoch.append(loss)\n",
        "#     #\n",
        "#     lr_scheduler.step(loss)\n",
        "\n",
        "#     is_best = loss < best_loss\n",
        "#     best_loss = min(loss, best_loss)\n",
        "\n",
        "# assert last_epoch == 0\n",
        "# xs = range(1, epochs+1)\n",
        "# ys = loss_epoch\n",
        "# # do plot\n",
        "# plt(xs,ys)"
      ]
    },
    {
      "cell_type": "markdown",
      "metadata": {
        "id": "LwFrGqC-ODHM"
      },
      "source": [
        "\n",
        "Your code here:"
      ]
    },
    {
      "cell_type": "markdown",
      "source": [
        "Firstly we re-train the network and set up a list named \"loss_epoch\" to store the loss values after each epoch"
      ],
      "metadata": {
        "id": "G4MPNmha-4Vx"
      }
    },
    {
      "cell_type": "code",
      "execution_count": null,
      "metadata": {
        "id": "3gwcomKbN_6M",
        "colab": {
          "base_uri": "https://localhost:8080/"
        },
        "outputId": "d36b9dac-0f12-4bc1-bec7-de5c8a5a7a03"
      },
      "outputs": [
        {
          "output_type": "stream",
          "name": "stdout",
          "text": [
            "Learning rate: 0.0001\n"
          ]
        },
        {
          "output_type": "stream",
          "name": "stderr",
          "text": [
            "/usr/local/lib/python3.7/dist-packages/torch/utils/data/dataloader.py:490: UserWarning: This DataLoader will create 3 worker processes in total. Our suggested max number of worker in current system is 2, which is smaller than what this DataLoader is going to create. Please be aware that excessive worker creation might get DataLoader running slow or even freeze, lower the worker number to avoid potential slowness/freeze if necessary.\n",
            "  cpuset_checked))\n"
          ]
        },
        {
          "output_type": "stream",
          "name": "stdout",
          "text": [
            "Train epoch 0: [0/250 (0%)]\tLoss: 3438.916 |\tMSE loss: 13.486\n",
            "Train epoch 0: [160/250 (62%)]\tLoss: 90.525 |\tMSE loss: 0.355\n",
            "Test epoch 0: Average losses:\tLoss: 99.272 |\tMSE loss: 0.389 |\tPSNR value: 4.172 |\tSSIM value: 0.008\n",
            "\n",
            "Learning rate: 0.0001\n",
            "Train epoch 1: [0/250 (0%)]\tLoss: 79.037 |\tMSE loss: 0.310\n",
            "Train epoch 1: [160/250 (62%)]\tLoss: 50.365 |\tMSE loss: 0.198\n",
            "Test epoch 1: Average losses:\tLoss: 60.266 |\tMSE loss: 0.236 |\tPSNR value: 6.294 |\tSSIM value: 0.016\n",
            "\n",
            "Learning rate: 0.0001\n",
            "Train epoch 2: [0/250 (0%)]\tLoss: 47.434 |\tMSE loss: 0.186\n",
            "Train epoch 2: [160/250 (62%)]\tLoss: 43.290 |\tMSE loss: 0.170\n",
            "Test epoch 2: Average losses:\tLoss: 39.009 |\tMSE loss: 0.153 |\tPSNR value: 8.188 |\tSSIM value: 0.027\n",
            "\n",
            "Learning rate: 0.0001\n",
            "Train epoch 3: [0/250 (0%)]\tLoss: 35.542 |\tMSE loss: 0.139\n",
            "Train epoch 3: [160/250 (62%)]\tLoss: 31.858 |\tMSE loss: 0.125\n",
            "Test epoch 3: Average losses:\tLoss: 26.206 |\tMSE loss: 0.103 |\tPSNR value: 9.919 |\tSSIM value: 0.043\n",
            "\n",
            "Learning rate: 0.0001\n",
            "Train epoch 4: [0/250 (0%)]\tLoss: 31.460 |\tMSE loss: 0.123\n",
            "Train epoch 4: [160/250 (62%)]\tLoss: 18.679 |\tMSE loss: 0.073\n",
            "Test epoch 4: Average losses:\tLoss: 16.745 |\tMSE loss: 0.066 |\tPSNR value: 11.864 |\tSSIM value: 0.074\n",
            "\n",
            "Learning rate: 0.0001\n",
            "Train epoch 5: [0/250 (0%)]\tLoss: 12.281 |\tMSE loss: 0.048\n",
            "Train epoch 5: [160/250 (62%)]\tLoss: 6.897 |\tMSE loss: 0.027\n",
            "Test epoch 5: Average losses:\tLoss: 11.987 |\tMSE loss: 0.047 |\tPSNR value: 13.308 |\tSSIM value: 0.095\n",
            "\n",
            "Learning rate: 0.0001\n",
            "Train epoch 6: [0/250 (0%)]\tLoss: 11.635 |\tMSE loss: 0.046\n",
            "Train epoch 6: [160/250 (62%)]\tLoss: 7.965 |\tMSE loss: 0.031\n",
            "Test epoch 6: Average losses:\tLoss: 10.012 |\tMSE loss: 0.039 |\tPSNR value: 14.088 |\tSSIM value: 0.111\n",
            "\n",
            "Learning rate: 0.0001\n",
            "Train epoch 7: [0/250 (0%)]\tLoss: 10.098 |\tMSE loss: 0.040\n",
            "Train epoch 7: [160/250 (62%)]\tLoss: 5.363 |\tMSE loss: 0.021\n",
            "Test epoch 7: Average losses:\tLoss: 7.930 |\tMSE loss: 0.031 |\tPSNR value: 15.103 |\tSSIM value: 0.124\n",
            "\n",
            "Learning rate: 0.0001\n",
            "Train epoch 8: [0/250 (0%)]\tLoss: 8.832 |\tMSE loss: 0.035\n",
            "Train epoch 8: [160/250 (62%)]\tLoss: 6.191 |\tMSE loss: 0.024\n",
            "Test epoch 8: Average losses:\tLoss: 8.185 |\tMSE loss: 0.032 |\tPSNR value: 14.961 |\tSSIM value: 0.136\n",
            "\n",
            "Learning rate: 0.0001\n",
            "Train epoch 9: [0/250 (0%)]\tLoss: 5.520 |\tMSE loss: 0.022\n",
            "Train epoch 9: [160/250 (62%)]\tLoss: 8.543 |\tMSE loss: 0.034\n",
            "Test epoch 9: Average losses:\tLoss: 6.614 |\tMSE loss: 0.026 |\tPSNR value: 15.899 |\tSSIM value: 0.175\n",
            "\n"
          ]
        }
      ],
      "source": [
        "net = Network(N, M)\n",
        "net = net.to(device)\n",
        "\n",
        "optimizer = configure_optimizers(net, learning_rate)\n",
        "lr_scheduler = optim.lr_scheduler.ReduceLROnPlateau(optimizer, \"min\")\n",
        "criterion = Loss()\n",
        "\n",
        "last_epoch = 0\n",
        "if checkpoint:  # load from previous checkpoint\n",
        "    print(\"Loading\", checkpoint)\n",
        "    checkpoint = torch.load(checkpoint, map_location=device)\n",
        "    last_epoch = checkpoint[\"epoch\"] + 1\n",
        "    net.load_state_dict(checkpoint[\"state_dict\"])\n",
        "    optimizer.load_state_dict(checkpoint[\"optimizer\"])\n",
        "    lr_scheduler.load_state_dict(checkpoint[\"lr_scheduler\"])\n",
        "\n",
        "best_loss = float(\"inf\")\n",
        "\n",
        "loss_epoch = [] # set up a list to store the loss value after each epoch\n",
        "\n",
        "for epoch in range(last_epoch, epochs):\n",
        "    print(f\"Learning rate: {optimizer.param_groups[0]['lr']}\")\n",
        "    train_one_epoch(\n",
        "        net,\n",
        "        criterion,\n",
        "        train_dataloader,\n",
        "        optimizer,\n",
        "        epoch,\n",
        "        clip_max_norm,\n",
        "    )\n",
        "    loss = test_epoch(epoch, test_dataloader, net, criterion)\n",
        "\n",
        "    loss_epoch.append(loss) # save the loss value in the loss_epoch list\n",
        "\n",
        "    lr_scheduler.step(loss)\n",
        "\n",
        "    is_best = loss < best_loss\n",
        "    best_loss = min(loss, best_loss)\n",
        "\n",
        "    if save:\n",
        "        save_checkpoint(\n",
        "            {\n",
        "                \"epoch\": epoch,\n",
        "                \"state_dict\": net.state_dict(),\n",
        "                \"loss\": loss,\n",
        "                \"optimizer\": optimizer.state_dict(),\n",
        "                \"lr_scheduler\": lr_scheduler.state_dict(),\n",
        "            },\n",
        "            is_best,\n",
        "        )\n",
        "\n"
      ]
    },
    {
      "cell_type": "markdown",
      "source": [
        "The epoch numbers (from 1 to 10) is our x-axis, the corresponding loss values is our y-axis."
      ],
      "metadata": {
        "id": "QMfFCEPDySuI"
      }
    },
    {
      "cell_type": "code",
      "source": [
        "from matplotlib import pyplot as plt\n",
        "\n",
        "xs = list(range(1, epochs+1))\n",
        "ys = loss_epoch\n",
        "# do plot\n",
        "print(xs)\n",
        "print(type(xs))\n",
        "print(ys)\n",
        "print(type(ys))"
      ],
      "metadata": {
        "colab": {
          "base_uri": "https://localhost:8080/"
        },
        "id": "81FZ3KpT67LN",
        "outputId": "b9cdc5b3-5311-4603-9ae8-0ca067d67ac1"
      },
      "execution_count": null,
      "outputs": [
        {
          "output_type": "stream",
          "name": "stdout",
          "text": [
            "[1, 2, 3, 4, 5, 6, 7, 8, 9, 10]\n",
            "<class 'list'>\n",
            "[tensor(99.2718, device='cuda:0'), tensor(60.2663, device='cuda:0'), tensor(39.0088, device='cuda:0'), tensor(26.2057, device='cuda:0'), tensor(16.7448, device='cuda:0'), tensor(11.9871, device='cuda:0'), tensor(10.0123, device='cuda:0'), tensor(7.9297, device='cuda:0'), tensor(8.1846, device='cuda:0'), tensor(6.6140, device='cuda:0')]\n",
            "<class 'list'>\n"
          ]
        }
      ]
    },
    {
      "cell_type": "markdown",
      "source": [
        "Before we plot the values, we have to change the data type in the ys (which contains the loss values) from tensor to float."
      ],
      "metadata": {
        "id": "HHG71qA7y2Ct"
      }
    },
    {
      "cell_type": "code",
      "source": [
        "myys = ys.copy()\n",
        "for i in range(0,len(myys)):\n",
        "  myys[i] = myys[i].cpu().item()\n",
        "\n",
        "print(myys)\n",
        "print(type(myys))"
      ],
      "metadata": {
        "colab": {
          "base_uri": "https://localhost:8080/"
        },
        "id": "IQn4hLLB_OfC",
        "outputId": "0a17199c-dc97-470e-9353-fbf22a8ee060"
      },
      "execution_count": null,
      "outputs": [
        {
          "output_type": "stream",
          "name": "stdout",
          "text": [
            "[99.27183532714844, 60.266326904296875, 39.00881576538086, 26.205739974975586, 16.744815826416016, 11.987064361572266, 10.012341499328613, 7.92966365814209, 8.184591293334961, 6.614010810852051]\n",
            "<class 'list'>\n"
          ]
        }
      ]
    },
    {
      "cell_type": "markdown",
      "source": [
        "Then plot the figure: Epochs vs Loss"
      ],
      "metadata": {
        "id": "40jerNBTzGer"
      }
    },
    {
      "cell_type": "code",
      "source": [
        "plt.figure()\n",
        "plt.title('Loss of validation set over Epoch')\n",
        "plt.plot(xs,myys)\n",
        "plt.xlabel('Epoches')\n",
        "plt.ylabel('Loss')\n",
        "plt.show()"
      ],
      "metadata": {
        "colab": {
          "base_uri": "https://localhost:8080/",
          "height": 295
        },
        "id": "6cRRDvL88vck",
        "outputId": "8fed077e-e2e2-42e9-9b6e-e347127be12e"
      },
      "execution_count": null,
      "outputs": [
        {
          "output_type": "display_data",
          "data": {
            "text/plain": [
              "<Figure size 432x288 with 1 Axes>"
            ],
            "image/png": "[encoded data removed]"
          },
          "metadata": {
            "needs_background": "light"
          }
        }
      ]
    },
    {
      "cell_type": "markdown",
      "source": [
        "## 1.4 Tune hyper-parameters"
      ],
      "metadata": {
        "id": "54-oLx-cFFHt"
      }
    },
    {
      "cell_type": "markdown",
      "source": [
        "In this part, we re-define 3 networks with different (N,M) which is the "
      ],
      "metadata": {
        "id": "spb-ASDnzpcm"
      }
    },
    {
      "cell_type": "markdown",
      "source": [
        "### 1.4.1 (N, M): (32, 48)"
      ],
      "metadata": {
        "id": "wKzIi5H_Fbm_"
      }
    },
    {
      "cell_type": "markdown",
      "source": [
        "#### 1.4.1.1 Re-define the Network and other parameters"
      ],
      "metadata": {
        "id": "L-lPTLusyjvE"
      }
    },
    {
      "cell_type": "code",
      "source": [
        "class Network(nn.Module):\n",
        "\n",
        "    def __init__(self, N, M, init_weights=True, **kwargs):\n",
        "        super().__init__(**kwargs)\n",
        "\n",
        "        self.g_a = nn.Sequential(\n",
        "            conv(3, N),\n",
        "            conv(N, N),\n",
        "            conv(N, N),\n",
        "            conv(N, M),\n",
        "        )\n",
        "\n",
        "        self.g_s = nn.Sequential(\n",
        "            deconv(M, N),\n",
        "            deconv(N, N),\n",
        "            deconv(N, N),\n",
        "            deconv(N, 3),\n",
        "        )\n",
        "\n",
        "        self.N = N\n",
        "        self.M = M\n",
        "\n",
        "        if init_weights:\n",
        "            self._initialize_weights()\n",
        "\n",
        "    def forward(self, x):\n",
        "        y = self.g_a(x)\n",
        "        x_hat = self.g_s(y)\n",
        "\n",
        "        return {\n",
        "            \"x_hat\": x_hat,\n",
        "        }\n",
        "\n",
        "    def _initialize_weights(self):\n",
        "        for m in self.modules():\n",
        "            if isinstance(m, (nn.Conv2d, nn.ConvTranspose2d)):\n",
        "                nn.init.kaiming_normal_(m.weight)\n",
        "                if m.bias is not None:\n",
        "                    nn.init.zeros_(m.bias)\n",
        "\n",
        "    def compress(self, x):\n",
        "        y = self.g_a(x)\n",
        "        return y\n",
        "\n",
        "    def decompress(self, y_hat):\n",
        "        x_hat = self.g_s(y_hat).clamp_(0, 1) # Limiting. Limit the value of input to [min, max], output as a tensor\n",
        "        return {\"x_hat\": x_hat}"
      ],
      "metadata": {
        "id": "Iogw87U5bnmG"
      },
      "execution_count": null,
      "outputs": []
    },
    {
      "cell_type": "code",
      "source": [
        "seed = 123                                        # for reproducibility\n",
        "cuda = True                                       # use GPU\n",
        "save = True                                       # save trained model\n",
        "dataset = '/content/drive/MyDrive/ELEC5306-2022'  # path to the root of the dataset\n",
        "checkpoint = ''                                   # load pretrained model\n",
        "epochs = 30                                       # total training epochs\n",
        "num_workers = 3                          # multi-process for loading training data\n",
        "clip_max_norm = 1.0                               # avoid gradient explosion\n",
        "patch_size = (256, 256)                           # input size for the training network\n",
        "# learning_rate = 1e-4  \n",
        "batch_size = 16\n",
        "test_batch_size = 16 \n",
        "N = 32\n",
        "M = 48"
      ],
      "metadata": {
        "id": "zzv0be5VZ9HQ"
      },
      "execution_count": null,
      "outputs": []
    },
    {
      "cell_type": "code",
      "source": [
        "torch.manual_seed(seed)\n",
        "random.seed(seed)\n",
        "\n",
        "train_transforms = transforms.Compose(\n",
        "    [transforms.RandomCrop(patch_size), transforms.ToTensor()]\n",
        ")\n",
        "\n",
        "test_transforms = transforms.Compose(\n",
        "    [transforms.CenterCrop(patch_size), transforms.ToTensor()]\n",
        ")\n",
        "\n",
        "train_dataset = ImageFolder(dataset, split=\"train\", transform=train_transforms)\n",
        "test_dataset = ImageFolder(dataset, split=\"valid\", transform=test_transforms)\n",
        "\n",
        "device = \"cuda\" if cuda and torch.cuda.is_available() else \"cpu\"\n",
        "\n",
        "train_dataloader = DataLoader(\n",
        "    train_dataset,\n",
        "    batch_size=batch_size,\n",
        "    num_workers=num_workers,\n",
        "    shuffle=True,\n",
        "    pin_memory=(device == \"cuda\"),\n",
        ")\n",
        "\n",
        "test_dataloader = DataLoader(\n",
        "    test_dataset,\n",
        "    batch_size=test_batch_size,\n",
        "    num_workers=num_workers,\n",
        "    shuffle=False,\n",
        "    pin_memory=(device == \"cuda\"),\n",
        ")\n"
      ],
      "metadata": {
        "colab": {
          "base_uri": "https://localhost:8080/"
        },
        "id": "jCI1E7b3OjrY",
        "outputId": "4db76b2c-2b67-4274-fc1b-f39a3d847e93"
      },
      "execution_count": null,
      "outputs": [
        {
          "output_type": "stream",
          "name": "stderr",
          "text": [
            "/usr/local/lib/python3.7/dist-packages/torch/utils/data/dataloader.py:490: UserWarning: This DataLoader will create 3 worker processes in total. Our suggested max number of worker in current system is 2, which is smaller than what this DataLoader is going to create. Please be aware that excessive worker creation might get DataLoader running slow or even freeze, lower the worker number to avoid potential slowness/freeze if necessary.\n",
            "  cpuset_checked))\n"
          ]
        }
      ]
    },
    {
      "cell_type": "markdown",
      "source": [
        "#### 1.4.1.2 Re-define the test-epoch function so that it will also return the value for MSE, PSNR, SSIM."
      ],
      "metadata": {
        "id": "DCeaHd_bQ0xd"
      }
    },
    {
      "cell_type": "code",
      "source": [
        "def test_epoch(epoch, test_dataloader, model, criterion):\n",
        "    model.eval()\n",
        "    device = next(model.parameters()).device\n",
        "\n",
        "    loss = AverageMeter()\n",
        "    mse_loss = AverageMeter()\n",
        "    psnr = AverageMeter()\n",
        "    myssim = AverageMeter()\n",
        "\n",
        "    with torch.no_grad():\n",
        "        for d in test_dataloader:\n",
        "            d = d.to(device)\n",
        "            out_net = model(d)\n",
        "            d_out = out_net['x_hat']\n",
        "            out_criterion = criterion(out_net, d)\n",
        "\n",
        "            loss.update(out_criterion[\"loss\"])\n",
        "            mse_loss.update(out_criterion[\"mse_loss\"])\n",
        "            \n",
        "            psnr.update(PSNR(d_out, d))\n",
        "            ssim_val = ssim(d * 255, d_out * 255, data_range=255, size_average=True)\n",
        "            # print(ssim_val)\n",
        "            myssim.update(ssim_val)\n",
        "            \n",
        "\n",
        "    print(\n",
        "        f\"Test epoch {epoch}: Average losses:\"\n",
        "        f\"\\tLoss: {loss.avg:.3f} |\"\n",
        "        f\"\\tMSE loss: {mse_loss.avg:.3f} |\"\n",
        "        f\"\\tPSNR value: {psnr.avg:.3f} |\"\n",
        "        f\"\\tSSIM value: {myssim.avg:.3f}\\n\"\n",
        "    )\n",
        "\n",
        "    return loss.avg, mse_loss.avg, psnr.avg, myssim.avg\n",
        "\n",
        "# do the test on valid split"
      ],
      "metadata": {
        "id": "xxk83UuwQ0Ih"
      },
      "execution_count": null,
      "outputs": []
    },
    {
      "cell_type": "markdown",
      "source": [
        "#### 1.4.1.3 When learning rate = 1e-3"
      ],
      "metadata": {
        "id": "N4iETd0Gcsnz"
      }
    },
    {
      "cell_type": "code",
      "source": [
        "learning_rate = 1e-3\n",
        "combine_loss = []\n",
        "combine_mse = []\n",
        "combine_psnr = []\n",
        "combine_ssim = []\n",
        "net = Network(N, M)\n",
        "net = net.to(device)\n",
        "optimizer = configure_optimizers(net, learning_rate)\n",
        "lr_scheduler = optim.lr_scheduler.ReduceLROnPlateau(optimizer, \"min\")\n",
        "criterion = Loss()\n",
        "\n",
        "last_epoch = 0\n",
        "if checkpoint:  # load from previous checkpoint\n",
        "    print(\"Loading\", checkpoint)\n",
        "    checkpoint = torch.load(checkpoint, map_location=device)\n",
        "    last_epoch = checkpoint[\"epoch\"] + 1\n",
        "    net.load_state_dict(checkpoint[\"state_dict\"])\n",
        "    optimizer.load_state_dict(checkpoint[\"optimizer\"])\n",
        "    lr_scheduler.load_state_dict(checkpoint[\"lr_scheduler\"])\n",
        "\n",
        "best_loss = float(\"inf\")\n",
        "\n",
        "loss_epoch = [] # set up a list to store the loss value after each epoch\n",
        "MSE_epoch = [] # set up a list to store the MSE value after each epoch\n",
        "PSNR_epoch = [] # set up a list to store the PSNR value after each epoch\n",
        "ssim_epoch = [] # set up a list to store the SSIM value after each epoch\n",
        "\n",
        "for epoch in range(last_epoch, epochs):\n",
        "    print(f\"Learning rate: {optimizer.param_groups[0]['lr']}\")\n",
        "    train_one_epoch(\n",
        "        net,\n",
        "        criterion,\n",
        "        train_dataloader,\n",
        "        optimizer,\n",
        "        epoch,\n",
        "        clip_max_norm,\n",
        "    )\n",
        "    loss, mse_avg, psnr_avg, ssim_avg = test_epoch(epoch, test_dataloader, net, criterion)\n",
        "\n",
        "    loss_epoch.append(loss) # save the loss value in the loss_epoch list\n",
        "    MSE_epoch.append(mse_avg)\n",
        "    PSNR_epoch.append(psnr_avg)\n",
        "    ssim_epoch.append(ssim_avg)\n",
        "\n",
        "    lr_scheduler.step(loss)\n",
        "\n",
        "    is_best = loss < best_loss\n",
        "    best_loss = min(loss, best_loss)\n",
        "\n",
        "    if save:\n",
        "        save_checkpoint(\n",
        "            {\n",
        "                \"epoch\": epoch,\n",
        "                \"state_dict\": net.state_dict(),\n",
        "                \"loss\": loss,\n",
        "                \"optimizer\": optimizer.state_dict(),\n",
        "                \"lr_scheduler\": lr_scheduler.state_dict(),\n",
        "            },\n",
        "            is_best,\n",
        "        )\n",
        "  "
      ],
      "metadata": {
        "id": "jD7Xo5uoFMog",
        "colab": {
          "base_uri": "https://localhost:8080/"
        },
        "outputId": "b31faaa9-7a05-4d9a-bf19-5433fb70acca"
      },
      "execution_count": null,
      "outputs": [
        {
          "output_type": "stream",
          "name": "stdout",
          "text": [
            "Learning rate: 0.001\n"
          ]
        },
        {
          "output_type": "stream",
          "name": "stderr",
          "text": [
            "/usr/local/lib/python3.7/dist-packages/torch/utils/data/dataloader.py:490: UserWarning: This DataLoader will create 3 worker processes in total. Our suggested max number of worker in current system is 2, which is smaller than what this DataLoader is going to create. Please be aware that excessive worker creation might get DataLoader running slow or even freeze, lower the worker number to avoid potential slowness/freeze if necessary.\n",
            "  cpuset_checked))\n"
          ]
        },
        {
          "output_type": "stream",
          "name": "stdout",
          "text": [
            "Train epoch 0: [0/250 (0%)]\tLoss: 1368.125 |\tMSE loss: 5.365\n",
            "Train epoch 0: [160/250 (62%)]\tLoss: 57.789 |\tMSE loss: 0.227\n",
            "Test epoch 0: Average losses:\tLoss: 30.138 |\tMSE loss: 0.118 |\tPSNR value: 9.283 |\tSSIM value: 0.024\n",
            "\n",
            "Learning rate: 0.001\n",
            "Train epoch 1: [0/250 (0%)]\tLoss: 29.626 |\tMSE loss: 0.116\n",
            "Train epoch 1: [160/250 (62%)]\tLoss: 12.509 |\tMSE loss: 0.049\n",
            "Test epoch 1: Average losses:\tLoss: 12.945 |\tMSE loss: 0.051 |\tPSNR value: 12.976 |\tSSIM value: 0.092\n",
            "\n",
            "Learning rate: 0.001\n",
            "Train epoch 2: [0/250 (0%)]\tLoss: 7.842 |\tMSE loss: 0.031\n",
            "Train epoch 2: [160/250 (62%)]\tLoss: 11.089 |\tMSE loss: 0.043\n",
            "Test epoch 2: Average losses:\tLoss: 11.627 |\tMSE loss: 0.046 |\tPSNR value: 13.448 |\tSSIM value: 0.103\n",
            "\n",
            "Learning rate: 0.001\n",
            "Train epoch 3: [0/250 (0%)]\tLoss: 7.564 |\tMSE loss: 0.030\n",
            "Train epoch 3: [160/250 (62%)]\tLoss: 17.530 |\tMSE loss: 0.069\n",
            "Test epoch 3: Average losses:\tLoss: 22.629 |\tMSE loss: 0.089 |\tPSNR value: 10.566 |\tSSIM value: 0.093\n",
            "\n",
            "Learning rate: 0.001\n",
            "Train epoch 4: [0/250 (0%)]\tLoss: 20.775 |\tMSE loss: 0.081\n",
            "Train epoch 4: [160/250 (62%)]\tLoss: 16.881 |\tMSE loss: 0.066\n",
            "Test epoch 4: Average losses:\tLoss: 9.279 |\tMSE loss: 0.036 |\tPSNR value: 14.394 |\tSSIM value: 0.149\n",
            "\n",
            "Learning rate: 0.001\n",
            "Train epoch 5: [0/250 (0%)]\tLoss: 9.198 |\tMSE loss: 0.036\n",
            "Train epoch 5: [160/250 (62%)]\tLoss: 8.672 |\tMSE loss: 0.034\n",
            "Test epoch 5: Average losses:\tLoss: 6.435 |\tMSE loss: 0.025 |\tPSNR value: 16.050 |\tSSIM value: 0.190\n",
            "\n",
            "Learning rate: 0.001\n",
            "Train epoch 6: [0/250 (0%)]\tLoss: 5.598 |\tMSE loss: 0.022\n",
            "Train epoch 6: [160/250 (62%)]\tLoss: 6.603 |\tMSE loss: 0.026\n",
            "Test epoch 6: Average losses:\tLoss: 6.168 |\tMSE loss: 0.024 |\tPSNR value: 16.173 |\tSSIM value: 0.243\n",
            "\n",
            "Learning rate: 0.001\n",
            "Train epoch 7: [0/250 (0%)]\tLoss: 5.128 |\tMSE loss: 0.020\n",
            "Train epoch 7: [160/250 (62%)]\tLoss: 6.249 |\tMSE loss: 0.025\n",
            "Test epoch 7: Average losses:\tLoss: 4.697 |\tMSE loss: 0.018 |\tPSNR value: 17.385 |\tSSIM value: 0.254\n",
            "\n",
            "Learning rate: 0.001\n",
            "Train epoch 8: [0/250 (0%)]\tLoss: 3.723 |\tMSE loss: 0.015\n",
            "Train epoch 8: [160/250 (62%)]\tLoss: 3.958 |\tMSE loss: 0.016\n",
            "Test epoch 8: Average losses:\tLoss: 4.747 |\tMSE loss: 0.019 |\tPSNR value: 17.350 |\tSSIM value: 0.270\n",
            "\n",
            "Learning rate: 0.001\n",
            "Train epoch 9: [0/250 (0%)]\tLoss: 4.079 |\tMSE loss: 0.016\n",
            "Train epoch 9: [160/250 (62%)]\tLoss: 3.534 |\tMSE loss: 0.014\n",
            "Test epoch 9: Average losses:\tLoss: 3.642 |\tMSE loss: 0.014 |\tPSNR value: 18.478 |\tSSIM value: 0.321\n",
            "\n",
            "Learning rate: 0.001\n",
            "Train epoch 10: [0/250 (0%)]\tLoss: 3.904 |\tMSE loss: 0.015\n",
            "Train epoch 10: [160/250 (62%)]\tLoss: 1.993 |\tMSE loss: 0.008\n",
            "Test epoch 10: Average losses:\tLoss: 3.569 |\tMSE loss: 0.014 |\tPSNR value: 18.584 |\tSSIM value: 0.347\n",
            "\n",
            "Learning rate: 0.001\n",
            "Train epoch 11: [0/250 (0%)]\tLoss: 2.817 |\tMSE loss: 0.011\n",
            "Train epoch 11: [160/250 (62%)]\tLoss: 2.126 |\tMSE loss: 0.008\n",
            "Test epoch 11: Average losses:\tLoss: 3.181 |\tMSE loss: 0.012 |\tPSNR value: 19.064 |\tSSIM value: 0.386\n",
            "\n",
            "Learning rate: 0.001\n",
            "Train epoch 12: [0/250 (0%)]\tLoss: 2.912 |\tMSE loss: 0.011\n",
            "Train epoch 12: [160/250 (62%)]\tLoss: 2.942 |\tMSE loss: 0.012\n",
            "Test epoch 12: Average losses:\tLoss: 3.157 |\tMSE loss: 0.012 |\tPSNR value: 19.082 |\tSSIM value: 0.425\n",
            "\n",
            "Learning rate: 0.001\n",
            "Train epoch 13: [0/250 (0%)]\tLoss: 1.943 |\tMSE loss: 0.008\n",
            "Train epoch 13: [160/250 (62%)]\tLoss: 1.863 |\tMSE loss: 0.007\n",
            "Test epoch 13: Average losses:\tLoss: 2.328 |\tMSE loss: 0.009 |\tPSNR value: 20.466 |\tSSIM value: 0.451\n",
            "\n",
            "Learning rate: 0.001\n",
            "Train epoch 14: [0/250 (0%)]\tLoss: 1.823 |\tMSE loss: 0.007\n",
            "Train epoch 14: [160/250 (62%)]\tLoss: 3.584 |\tMSE loss: 0.014\n",
            "Test epoch 14: Average losses:\tLoss: 2.371 |\tMSE loss: 0.009 |\tPSNR value: 20.373 |\tSSIM value: 0.416\n",
            "\n",
            "Learning rate: 0.001\n",
            "Train epoch 15: [0/250 (0%)]\tLoss: 1.406 |\tMSE loss: 0.006\n",
            "Train epoch 15: [160/250 (62%)]\tLoss: 5.576 |\tMSE loss: 0.022\n",
            "Test epoch 15: Average losses:\tLoss: 3.070 |\tMSE loss: 0.012 |\tPSNR value: 19.286 |\tSSIM value: 0.429\n",
            "\n",
            "Learning rate: 0.001\n",
            "Train epoch 16: [0/250 (0%)]\tLoss: 2.678 |\tMSE loss: 0.011\n",
            "Train epoch 16: [160/250 (62%)]\tLoss: 2.812 |\tMSE loss: 0.011\n",
            "Test epoch 16: Average losses:\tLoss: 4.871 |\tMSE loss: 0.019 |\tPSNR value: 17.202 |\tSSIM value: 0.449\n",
            "\n",
            "Learning rate: 0.001\n",
            "Train epoch 17: [0/250 (0%)]\tLoss: 4.668 |\tMSE loss: 0.018\n",
            "Train epoch 17: [160/250 (62%)]\tLoss: 1.467 |\tMSE loss: 0.006\n",
            "Test epoch 17: Average losses:\tLoss: 2.846 |\tMSE loss: 0.011 |\tPSNR value: 19.535 |\tSSIM value: 0.458\n",
            "\n",
            "Learning rate: 0.001\n",
            "Train epoch 18: [0/250 (0%)]\tLoss: 2.740 |\tMSE loss: 0.011\n",
            "Train epoch 18: [160/250 (62%)]\tLoss: 1.606 |\tMSE loss: 0.006\n",
            "Test epoch 18: Average losses:\tLoss: 2.282 |\tMSE loss: 0.009 |\tPSNR value: 20.499 |\tSSIM value: 0.478\n",
            "\n",
            "Learning rate: 0.001\n",
            "Train epoch 19: [0/250 (0%)]\tLoss: 2.625 |\tMSE loss: 0.010\n",
            "Train epoch 19: [160/250 (62%)]\tLoss: 2.313 |\tMSE loss: 0.009\n",
            "Test epoch 19: Average losses:\tLoss: 2.200 |\tMSE loss: 0.009 |\tPSNR value: 20.657 |\tSSIM value: 0.506\n",
            "\n",
            "Learning rate: 0.001\n",
            "Train epoch 20: [0/250 (0%)]\tLoss: 1.513 |\tMSE loss: 0.006\n",
            "Train epoch 20: [160/250 (62%)]\tLoss: 2.002 |\tMSE loss: 0.008\n",
            "Test epoch 20: Average losses:\tLoss: 2.001 |\tMSE loss: 0.008 |\tPSNR value: 21.121 |\tSSIM value: 0.511\n",
            "\n",
            "Learning rate: 0.001\n",
            "Train epoch 21: [0/250 (0%)]\tLoss: 1.922 |\tMSE loss: 0.008\n",
            "Train epoch 21: [160/250 (62%)]\tLoss: 1.785 |\tMSE loss: 0.007\n",
            "Test epoch 21: Average losses:\tLoss: 2.113 |\tMSE loss: 0.008 |\tPSNR value: 20.832 |\tSSIM value: 0.524\n",
            "\n",
            "Learning rate: 0.001\n",
            "Train epoch 22: [0/250 (0%)]\tLoss: 1.384 |\tMSE loss: 0.005\n",
            "Train epoch 22: [160/250 (62%)]\tLoss: 2.017 |\tMSE loss: 0.008\n",
            "Test epoch 22: Average losses:\tLoss: 1.835 |\tMSE loss: 0.007 |\tPSNR value: 21.449 |\tSSIM value: 0.537\n",
            "\n",
            "Learning rate: 0.001\n",
            "Train epoch 23: [0/250 (0%)]\tLoss: 1.415 |\tMSE loss: 0.006\n",
            "Train epoch 23: [160/250 (62%)]\tLoss: 2.537 |\tMSE loss: 0.010\n",
            "Test epoch 23: Average losses:\tLoss: 2.334 |\tMSE loss: 0.009 |\tPSNR value: 20.421 |\tSSIM value: 0.539\n",
            "\n",
            "Learning rate: 0.001\n",
            "Train epoch 24: [0/250 (0%)]\tLoss: 2.890 |\tMSE loss: 0.011\n",
            "Train epoch 24: [160/250 (62%)]\tLoss: 1.992 |\tMSE loss: 0.008\n",
            "Test epoch 24: Average losses:\tLoss: 1.661 |\tMSE loss: 0.007 |\tPSNR value: 21.925 |\tSSIM value: 0.557\n",
            "\n",
            "Learning rate: 0.001\n",
            "Train epoch 25: [0/250 (0%)]\tLoss: 1.288 |\tMSE loss: 0.005\n",
            "Train epoch 25: [160/250 (62%)]\tLoss: 1.915 |\tMSE loss: 0.008\n",
            "Test epoch 25: Average losses:\tLoss: 1.647 |\tMSE loss: 0.006 |\tPSNR value: 21.920 |\tSSIM value: 0.564\n",
            "\n",
            "Learning rate: 0.001\n",
            "Train epoch 26: [0/250 (0%)]\tLoss: 2.125 |\tMSE loss: 0.008\n",
            "Train epoch 26: [160/250 (62%)]\tLoss: 1.696 |\tMSE loss: 0.007\n",
            "Test epoch 26: Average losses:\tLoss: 1.475 |\tMSE loss: 0.006 |\tPSNR value: 22.427 |\tSSIM value: 0.539\n",
            "\n",
            "Learning rate: 0.001\n",
            "Train epoch 27: [0/250 (0%)]\tLoss: 1.220 |\tMSE loss: 0.005\n",
            "Train epoch 27: [160/250 (62%)]\tLoss: 1.117 |\tMSE loss: 0.004\n",
            "Test epoch 27: Average losses:\tLoss: 1.782 |\tMSE loss: 0.007 |\tPSNR value: 21.597 |\tSSIM value: 0.498\n",
            "\n",
            "Learning rate: 0.001\n",
            "Train epoch 28: [0/250 (0%)]\tLoss: 1.105 |\tMSE loss: 0.004\n",
            "Train epoch 28: [160/250 (62%)]\tLoss: 2.290 |\tMSE loss: 0.009\n",
            "Test epoch 28: Average losses:\tLoss: 1.610 |\tMSE loss: 0.006 |\tPSNR value: 22.035 |\tSSIM value: 0.563\n",
            "\n",
            "Learning rate: 0.001\n",
            "Train epoch 29: [0/250 (0%)]\tLoss: 1.789 |\tMSE loss: 0.007\n",
            "Train epoch 29: [160/250 (62%)]\tLoss: 1.338 |\tMSE loss: 0.005\n",
            "Test epoch 29: Average losses:\tLoss: 1.646 |\tMSE loss: 0.006 |\tPSNR value: 21.953 |\tSSIM value: 0.580\n",
            "\n"
          ]
        }
      ]
    },
    {
      "cell_type": "markdown",
      "source": [
        "#### 1.4.1.4 When learning rate = 1e-4"
      ],
      "metadata": {
        "id": "eCsSxBzac2vO"
      }
    },
    {
      "cell_type": "code",
      "source": [
        "def save_checkpoint2(state, is_best, filename=\"checkpoint2.pth.tar\"):\n",
        "    torch.save(state, filename)\n",
        "    if is_best:\n",
        "        shutil.copyfile(filename, \"checkpoint_best_loss2.pth.tar\")"
      ],
      "metadata": {
        "id": "l0MzYvX9f5o5"
      },
      "execution_count": null,
      "outputs": []
    },
    {
      "cell_type": "code",
      "source": [
        "learning_rate = 1e-4\n",
        "\n",
        "net = Network(N, M)\n",
        "net = net.to(device)\n",
        "optimizer = configure_optimizers(net, learning_rate)\n",
        "lr_scheduler = optim.lr_scheduler.ReduceLROnPlateau(optimizer, \"min\")\n",
        "criterion = Loss()\n",
        "\n",
        "last_epoch = 0\n",
        "if checkpoint:  # load from previous checkpoint\n",
        "    print(\"Loading\", checkpoint)\n",
        "    checkpoint = torch.load(checkpoint, map_location=device)\n",
        "    last_epoch = checkpoint[\"epoch\"] + 1\n",
        "    net.load_state_dict(checkpoint[\"state_dict\"])\n",
        "    optimizer.load_state_dict(checkpoint[\"optimizer\"])\n",
        "    lr_scheduler.load_state_dict(checkpoint[\"lr_scheduler\"])\n",
        "\n",
        "best_loss = float(\"inf\")\n",
        "\n",
        "loss_epoch2 = [] # set up a list to store the loss value after each epoch\n",
        "MSE_epoch2 = [] # set up a list to store the loss value after each epoch\n",
        "PSNR_epoch2 = [] # set up a list to store the loss value after each epoch\n",
        "ssim_epoch2 = [] # set up a list to store the loss value after each epoch\n",
        "\n",
        "for epoch in range(last_epoch, epochs):\n",
        "    print(f\"Learning rate: {optimizer.param_groups[0]['lr']}\")\n",
        "    train_one_epoch(\n",
        "        net,\n",
        "        criterion,\n",
        "        train_dataloader,\n",
        "        optimizer,\n",
        "        epoch,\n",
        "        clip_max_norm,\n",
        "    )\n",
        "    loss, mse_avg, psnr_avg, ssim_avg = test_epoch(epoch, test_dataloader, net, criterion)\n",
        "\n",
        "    loss_epoch2.append(loss) # save the loss value in the loss_epoch list\n",
        "    MSE_epoch2.append(mse_avg)\n",
        "    PSNR_epoch2.append(psnr_avg)\n",
        "    ssim_epoch2.append(ssim_avg)\n",
        "\n",
        "    lr_scheduler.step(loss)\n",
        "\n",
        "    is_best = loss < best_loss\n",
        "    best_loss = min(loss, best_loss)\n",
        "\n",
        "    if save:\n",
        "        save_checkpoint2(\n",
        "            {\n",
        "                \"epoch\": epoch,\n",
        "                \"state_dict\": net.state_dict(),\n",
        "                \"loss\": loss,\n",
        "                \"optimizer\": optimizer.state_dict(),\n",
        "                \"lr_scheduler\": lr_scheduler.state_dict(),\n",
        "            },\n",
        "            is_best,\n",
        "        )\n",
        "  "
      ],
      "metadata": {
        "colab": {
          "base_uri": "https://localhost:8080/"
        },
        "id": "bKgGbS5mbNZw",
        "outputId": "144aa405-9048-4be3-9fab-5c3c5feba99a"
      },
      "execution_count": null,
      "outputs": [
        {
          "output_type": "stream",
          "name": "stdout",
          "text": [
            "Learning rate: 0.0001\n"
          ]
        },
        {
          "output_type": "stream",
          "name": "stderr",
          "text": [
            "/usr/local/lib/python3.7/dist-packages/torch/utils/data/dataloader.py:490: UserWarning: This DataLoader will create 3 worker processes in total. Our suggested max number of worker in current system is 2, which is smaller than what this DataLoader is going to create. Please be aware that excessive worker creation might get DataLoader running slow or even freeze, lower the worker number to avoid potential slowness/freeze if necessary.\n",
            "  cpuset_checked))\n"
          ]
        },
        {
          "output_type": "stream",
          "name": "stdout",
          "text": [
            "Train epoch 0: [0/250 (0%)]\tLoss: 575.382 |\tMSE loss: 2.256\n",
            "Train epoch 0: [160/250 (62%)]\tLoss: 89.388 |\tMSE loss: 0.351\n",
            "Test epoch 0: Average losses:\tLoss: 95.718 |\tMSE loss: 0.375 |\tPSNR value: 4.265 |\tSSIM value: 0.005\n",
            "\n",
            "Learning rate: 0.0001\n",
            "Train epoch 1: [0/250 (0%)]\tLoss: 89.705 |\tMSE loss: 0.352\n",
            "Train epoch 1: [160/250 (62%)]\tLoss: 64.066 |\tMSE loss: 0.251\n",
            "Test epoch 1: Average losses:\tLoss: 53.345 |\tMSE loss: 0.209 |\tPSNR value: 6.808 |\tSSIM value: 0.015\n",
            "\n",
            "Learning rate: 0.0001\n",
            "Train epoch 2: [0/250 (0%)]\tLoss: 38.652 |\tMSE loss: 0.152\n",
            "Train epoch 2: [160/250 (62%)]\tLoss: 25.846 |\tMSE loss: 0.101\n",
            "Test epoch 2: Average losses:\tLoss: 30.203 |\tMSE loss: 0.118 |\tPSNR value: 9.291 |\tSSIM value: 0.027\n",
            "\n",
            "Learning rate: 0.0001\n",
            "Train epoch 3: [0/250 (0%)]\tLoss: 24.817 |\tMSE loss: 0.097\n",
            "Train epoch 3: [160/250 (62%)]\tLoss: 13.957 |\tMSE loss: 0.055\n",
            "Test epoch 3: Average losses:\tLoss: 20.643 |\tMSE loss: 0.081 |\tPSNR value: 10.955 |\tSSIM value: 0.051\n",
            "\n",
            "Learning rate: 0.0001\n",
            "Train epoch 4: [0/250 (0%)]\tLoss: 13.287 |\tMSE loss: 0.052\n",
            "Train epoch 4: [160/250 (62%)]\tLoss: 11.841 |\tMSE loss: 0.046\n",
            "Test epoch 4: Average losses:\tLoss: 16.714 |\tMSE loss: 0.066 |\tPSNR value: 11.875 |\tSSIM value: 0.073\n",
            "\n",
            "Learning rate: 0.0001\n",
            "Train epoch 5: [0/250 (0%)]\tLoss: 10.645 |\tMSE loss: 0.042\n",
            "Train epoch 5: [160/250 (62%)]\tLoss: 14.448 |\tMSE loss: 0.057\n",
            "Test epoch 5: Average losses:\tLoss: 14.554 |\tMSE loss: 0.057 |\tPSNR value: 12.472 |\tSSIM value: 0.089\n",
            "\n",
            "Learning rate: 0.0001\n",
            "Train epoch 6: [0/250 (0%)]\tLoss: 12.489 |\tMSE loss: 0.049\n",
            "Train epoch 6: [160/250 (62%)]\tLoss: 12.362 |\tMSE loss: 0.048\n",
            "Test epoch 6: Average losses:\tLoss: 12.866 |\tMSE loss: 0.050 |\tPSNR value: 13.005 |\tSSIM value: 0.103\n",
            "\n",
            "Learning rate: 0.0001\n",
            "Train epoch 7: [0/250 (0%)]\tLoss: 12.041 |\tMSE loss: 0.047\n",
            "Train epoch 7: [160/250 (62%)]\tLoss: 11.346 |\tMSE loss: 0.044\n",
            "Test epoch 7: Average losses:\tLoss: 11.798 |\tMSE loss: 0.046 |\tPSNR value: 13.383 |\tSSIM value: 0.113\n",
            "\n",
            "Learning rate: 0.0001\n",
            "Train epoch 8: [0/250 (0%)]\tLoss: 9.162 |\tMSE loss: 0.036\n",
            "Train epoch 8: [160/250 (62%)]\tLoss: 10.749 |\tMSE loss: 0.042\n",
            "Test epoch 8: Average losses:\tLoss: 10.884 |\tMSE loss: 0.043 |\tPSNR value: 13.733 |\tSSIM value: 0.120\n",
            "\n",
            "Learning rate: 0.0001\n",
            "Train epoch 9: [0/250 (0%)]\tLoss: 8.781 |\tMSE loss: 0.034\n",
            "Train epoch 9: [160/250 (62%)]\tLoss: 12.237 |\tMSE loss: 0.048\n",
            "Test epoch 9: Average losses:\tLoss: 9.977 |\tMSE loss: 0.039 |\tPSNR value: 14.113 |\tSSIM value: 0.127\n",
            "\n",
            "Learning rate: 0.0001\n",
            "Train epoch 10: [0/250 (0%)]\tLoss: 6.111 |\tMSE loss: 0.024\n",
            "Train epoch 10: [160/250 (62%)]\tLoss: 7.306 |\tMSE loss: 0.029\n",
            "Test epoch 10: Average losses:\tLoss: 9.193 |\tMSE loss: 0.036 |\tPSNR value: 14.467 |\tSSIM value: 0.133\n",
            "\n",
            "Learning rate: 0.0001\n",
            "Train epoch 11: [0/250 (0%)]\tLoss: 5.309 |\tMSE loss: 0.021\n",
            "Train epoch 11: [160/250 (62%)]\tLoss: 5.939 |\tMSE loss: 0.023\n",
            "Test epoch 11: Average losses:\tLoss: 8.328 |\tMSE loss: 0.033 |\tPSNR value: 14.899 |\tSSIM value: 0.144\n",
            "\n",
            "Learning rate: 0.0001\n",
            "Train epoch 12: [0/250 (0%)]\tLoss: 6.524 |\tMSE loss: 0.026\n",
            "Train epoch 12: [160/250 (62%)]\tLoss: 5.821 |\tMSE loss: 0.023\n",
            "Test epoch 12: Average losses:\tLoss: 7.759 |\tMSE loss: 0.030 |\tPSNR value: 15.208 |\tSSIM value: 0.154\n",
            "\n",
            "Learning rate: 0.0001\n",
            "Train epoch 13: [0/250 (0%)]\tLoss: 6.382 |\tMSE loss: 0.025\n",
            "Train epoch 13: [160/250 (62%)]\tLoss: 5.413 |\tMSE loss: 0.021\n",
            "Test epoch 13: Average losses:\tLoss: 7.272 |\tMSE loss: 0.029 |\tPSNR value: 15.489 |\tSSIM value: 0.164\n",
            "\n",
            "Learning rate: 0.0001\n",
            "Train epoch 14: [0/250 (0%)]\tLoss: 6.733 |\tMSE loss: 0.026\n",
            "Train epoch 14: [160/250 (62%)]\tLoss: 5.483 |\tMSE loss: 0.022\n",
            "Test epoch 14: Average losses:\tLoss: 6.915 |\tMSE loss: 0.027 |\tPSNR value: 15.706 |\tSSIM value: 0.172\n",
            "\n",
            "Learning rate: 0.0001\n",
            "Train epoch 15: [0/250 (0%)]\tLoss: 7.234 |\tMSE loss: 0.028\n",
            "Train epoch 15: [160/250 (62%)]\tLoss: 6.357 |\tMSE loss: 0.025\n",
            "Test epoch 15: Average losses:\tLoss: 6.472 |\tMSE loss: 0.025 |\tPSNR value: 15.998 |\tSSIM value: 0.182\n",
            "\n",
            "Learning rate: 0.0001\n",
            "Train epoch 16: [0/250 (0%)]\tLoss: 5.371 |\tMSE loss: 0.021\n",
            "Train epoch 16: [160/250 (62%)]\tLoss: 4.807 |\tMSE loss: 0.019\n",
            "Test epoch 16: Average losses:\tLoss: 6.144 |\tMSE loss: 0.024 |\tPSNR value: 16.223 |\tSSIM value: 0.189\n",
            "\n",
            "Learning rate: 0.0001\n",
            "Train epoch 17: [0/250 (0%)]\tLoss: 4.220 |\tMSE loss: 0.017\n",
            "Train epoch 17: [160/250 (62%)]\tLoss: 4.900 |\tMSE loss: 0.019\n",
            "Test epoch 17: Average losses:\tLoss: 5.778 |\tMSE loss: 0.023 |\tPSNR value: 16.491 |\tSSIM value: 0.202\n",
            "\n",
            "Learning rate: 0.0001\n",
            "Train epoch 18: [0/250 (0%)]\tLoss: 4.023 |\tMSE loss: 0.016\n",
            "Train epoch 18: [160/250 (62%)]\tLoss: 3.930 |\tMSE loss: 0.015\n",
            "Test epoch 18: Average losses:\tLoss: 5.709 |\tMSE loss: 0.022 |\tPSNR value: 16.540 |\tSSIM value: 0.190\n",
            "\n",
            "Learning rate: 0.0001\n",
            "Train epoch 19: [0/250 (0%)]\tLoss: 5.565 |\tMSE loss: 0.022\n",
            "Train epoch 19: [160/250 (62%)]\tLoss: 4.256 |\tMSE loss: 0.017\n",
            "Test epoch 19: Average losses:\tLoss: 5.363 |\tMSE loss: 0.021 |\tPSNR value: 16.816 |\tSSIM value: 0.215\n",
            "\n",
            "Learning rate: 0.0001\n",
            "Train epoch 20: [0/250 (0%)]\tLoss: 4.819 |\tMSE loss: 0.019\n",
            "Train epoch 20: [160/250 (62%)]\tLoss: 4.209 |\tMSE loss: 0.017\n",
            "Test epoch 20: Average losses:\tLoss: 5.087 |\tMSE loss: 0.020 |\tPSNR value: 17.047 |\tSSIM value: 0.223\n",
            "\n",
            "Learning rate: 0.0001\n",
            "Train epoch 21: [0/250 (0%)]\tLoss: 3.980 |\tMSE loss: 0.016\n",
            "Train epoch 21: [160/250 (62%)]\tLoss: 5.056 |\tMSE loss: 0.020\n",
            "Test epoch 21: Average losses:\tLoss: 5.026 |\tMSE loss: 0.020 |\tPSNR value: 17.100 |\tSSIM value: 0.229\n",
            "\n",
            "Learning rate: 0.0001\n",
            "Train epoch 22: [0/250 (0%)]\tLoss: 5.599 |\tMSE loss: 0.022\n",
            "Train epoch 22: [160/250 (62%)]\tLoss: 3.990 |\tMSE loss: 0.016\n",
            "Test epoch 22: Average losses:\tLoss: 4.775 |\tMSE loss: 0.019 |\tPSNR value: 17.323 |\tSSIM value: 0.240\n",
            "\n",
            "Learning rate: 0.0001\n",
            "Train epoch 23: [0/250 (0%)]\tLoss: 4.076 |\tMSE loss: 0.016\n",
            "Train epoch 23: [160/250 (62%)]\tLoss: 4.173 |\tMSE loss: 0.016\n",
            "Test epoch 23: Average losses:\tLoss: 4.560 |\tMSE loss: 0.018 |\tPSNR value: 17.524 |\tSSIM value: 0.250\n",
            "\n",
            "Learning rate: 0.0001\n",
            "Train epoch 24: [0/250 (0%)]\tLoss: 5.311 |\tMSE loss: 0.021\n",
            "Train epoch 24: [160/250 (62%)]\tLoss: 3.483 |\tMSE loss: 0.014\n",
            "Test epoch 24: Average losses:\tLoss: 4.398 |\tMSE loss: 0.017 |\tPSNR value: 17.682 |\tSSIM value: 0.260\n",
            "\n",
            "Learning rate: 0.0001\n",
            "Train epoch 25: [0/250 (0%)]\tLoss: 5.936 |\tMSE loss: 0.023\n",
            "Train epoch 25: [160/250 (62%)]\tLoss: 2.074 |\tMSE loss: 0.008\n",
            "Test epoch 25: Average losses:\tLoss: 4.297 |\tMSE loss: 0.017 |\tPSNR value: 17.785 |\tSSIM value: 0.259\n",
            "\n",
            "Learning rate: 0.0001\n",
            "Train epoch 26: [0/250 (0%)]\tLoss: 2.542 |\tMSE loss: 0.010\n",
            "Train epoch 26: [160/250 (62%)]\tLoss: 2.401 |\tMSE loss: 0.009\n",
            "Test epoch 26: Average losses:\tLoss: 4.226 |\tMSE loss: 0.017 |\tPSNR value: 17.859 |\tSSIM value: 0.267\n",
            "\n",
            "Learning rate: 0.0001\n",
            "Train epoch 27: [0/250 (0%)]\tLoss: 3.076 |\tMSE loss: 0.012\n",
            "Train epoch 27: [160/250 (62%)]\tLoss: 2.726 |\tMSE loss: 0.011\n",
            "Test epoch 27: Average losses:\tLoss: 3.955 |\tMSE loss: 0.016 |\tPSNR value: 18.149 |\tSSIM value: 0.273\n",
            "\n",
            "Learning rate: 0.0001\n",
            "Train epoch 28: [0/250 (0%)]\tLoss: 3.410 |\tMSE loss: 0.013\n",
            "Train epoch 28: [160/250 (62%)]\tLoss: 2.701 |\tMSE loss: 0.011\n",
            "Test epoch 28: Average losses:\tLoss: 3.831 |\tMSE loss: 0.015 |\tPSNR value: 18.290 |\tSSIM value: 0.280\n",
            "\n",
            "Learning rate: 0.0001\n",
            "Train epoch 29: [0/250 (0%)]\tLoss: 2.069 |\tMSE loss: 0.008\n",
            "Train epoch 29: [160/250 (62%)]\tLoss: 4.844 |\tMSE loss: 0.019\n",
            "Test epoch 29: Average losses:\tLoss: 3.727 |\tMSE loss: 0.015 |\tPSNR value: 18.411 |\tSSIM value: 0.287\n",
            "\n"
          ]
        }
      ]
    },
    {
      "cell_type": "markdown",
      "source": [
        "#### 1.4.1.5 When learning rate = 1e-5"
      ],
      "metadata": {
        "id": "V-3SVFT5dNkD"
      }
    },
    {
      "cell_type": "code",
      "source": [
        "def save_checkpoint3(state, is_best, filename=\"checkpoint3.pth.tar\"):\n",
        "    torch.save(state, filename)\n",
        "    if is_best:\n",
        "        shutil.copyfile(filename, \"checkpoint_best_loss3.pth.tar\")"
      ],
      "metadata": {
        "id": "iUEQilrxi8NC"
      },
      "execution_count": null,
      "outputs": []
    },
    {
      "cell_type": "code",
      "source": [
        "learning_rate = 1e-5\n",
        "\n",
        "net = Network(N, M)\n",
        "net = net.to(device)\n",
        "optimizer = configure_optimizers(net, learning_rate)\n",
        "lr_scheduler = optim.lr_scheduler.ReduceLROnPlateau(optimizer, \"min\")\n",
        "criterion = Loss()\n",
        "\n",
        "last_epoch = 0\n",
        "if checkpoint:  # load from previous checkpoint\n",
        "    print(\"Loading\", checkpoint)\n",
        "    checkpoint = torch.load(checkpoint, map_location=device)\n",
        "    last_epoch = checkpoint[\"epoch\"] + 1\n",
        "    net.load_state_dict(checkpoint[\"state_dict\"])\n",
        "    optimizer.load_state_dict(checkpoint[\"optimizer\"])\n",
        "    lr_scheduler.load_state_dict(checkpoint[\"lr_scheduler\"])\n",
        "\n",
        "best_loss = float(\"inf\")\n",
        "\n",
        "loss_epoch3 = [] # set up a list to store the loss value after each epoch\n",
        "MSE_epoch3 = [] # set up a list to store the loss value after each epoch\n",
        "PSNR_epoch3 = [] # set up a list to store the loss value after each epoch\n",
        "ssim_epoch3 = [] # set up a list to store the loss value after each epoch\n",
        "\n",
        "for epoch in range(last_epoch, epochs):\n",
        "    print(f\"Learning rate: {optimizer.param_groups[0]['lr']}\")\n",
        "    train_one_epoch(\n",
        "        net,\n",
        "        criterion,\n",
        "        train_dataloader,\n",
        "        optimizer,\n",
        "        epoch,\n",
        "        clip_max_norm,\n",
        "    )\n",
        "    loss, mse_avg, psnr_avg, ssim_avg = test_epoch(epoch, test_dataloader, net, criterion)\n",
        "\n",
        "    loss_epoch3.append(loss) # save the loss value in the loss_epoch list\n",
        "    MSE_epoch3.append(mse_avg)\n",
        "    PSNR_epoch3.append(psnr_avg)\n",
        "    ssim_epoch3.append(ssim_avg)\n",
        "\n",
        "    lr_scheduler.step(loss)\n",
        "\n",
        "    is_best = loss < best_loss\n",
        "    best_loss = min(loss, best_loss)\n",
        "\n",
        "    if save:\n",
        "        save_checkpoint3(\n",
        "            {\n",
        "                \"epoch\": epoch,\n",
        "                \"state_dict\": net.state_dict(),\n",
        "                \"loss\": loss,\n",
        "                \"optimizer\": optimizer.state_dict(),\n",
        "                \"lr_scheduler\": lr_scheduler.state_dict(),\n",
        "            },\n",
        "            is_best,\n",
        "        )\n",
        "  "
      ],
      "metadata": {
        "colab": {
          "base_uri": "https://localhost:8080/"
        },
        "id": "A83wDYXBdQmQ",
        "outputId": "1586a4f6-ddb5-419b-d599-474bded236b4"
      },
      "execution_count": null,
      "outputs": [
        {
          "output_type": "stream",
          "name": "stdout",
          "text": [
            "Learning rate: 1e-05\n"
          ]
        },
        {
          "output_type": "stream",
          "name": "stderr",
          "text": [
            "/usr/local/lib/python3.7/dist-packages/torch/utils/data/dataloader.py:490: UserWarning: This DataLoader will create 3 worker processes in total. Our suggested max number of worker in current system is 2, which is smaller than what this DataLoader is going to create. Please be aware that excessive worker creation might get DataLoader running slow or even freeze, lower the worker number to avoid potential slowness/freeze if necessary.\n",
            "  cpuset_checked))\n"
          ]
        },
        {
          "output_type": "stream",
          "name": "stdout",
          "text": [
            "Train epoch 0: [0/250 (0%)]\tLoss: 1113.887 |\tMSE loss: 4.368\n",
            "Train epoch 0: [160/250 (62%)]\tLoss: 835.329 |\tMSE loss: 3.276\n",
            "Test epoch 0: Average losses:\tLoss: 549.616 |\tMSE loss: 2.155 |\tPSNR value: -3.332 |\tSSIM value: 0.000\n",
            "\n",
            "Learning rate: 1e-05\n",
            "Train epoch 1: [0/250 (0%)]\tLoss: 442.228 |\tMSE loss: 1.734\n",
            "Train epoch 1: [160/250 (62%)]\tLoss: 340.548 |\tMSE loss: 1.335\n",
            "Test epoch 1: Average losses:\tLoss: 338.400 |\tMSE loss: 1.327 |\tPSNR value: -1.225 |\tSSIM value: 0.000\n",
            "\n",
            "Learning rate: 1e-05\n",
            "Train epoch 2: [0/250 (0%)]\tLoss: 277.769 |\tMSE loss: 1.089\n",
            "Train epoch 2: [160/250 (62%)]\tLoss: 227.906 |\tMSE loss: 0.894\n",
            "Test epoch 2: Average losses:\tLoss: 229.630 |\tMSE loss: 0.901 |\tPSNR value: 0.462 |\tSSIM value: 0.000\n",
            "\n",
            "Learning rate: 1e-05\n",
            "Train epoch 3: [0/250 (0%)]\tLoss: 210.732 |\tMSE loss: 0.826\n",
            "Train epoch 3: [160/250 (62%)]\tLoss: 162.293 |\tMSE loss: 0.636\n",
            "Test epoch 3: Average losses:\tLoss: 172.959 |\tMSE loss: 0.678 |\tPSNR value: 1.696 |\tSSIM value: 0.000\n",
            "\n",
            "Learning rate: 1e-05\n",
            "Train epoch 4: [0/250 (0%)]\tLoss: 103.504 |\tMSE loss: 0.406\n",
            "Train epoch 4: [160/250 (62%)]\tLoss: 127.110 |\tMSE loss: 0.498\n",
            "Test epoch 4: Average losses:\tLoss: 142.598 |\tMSE loss: 0.559 |\tPSNR value: 2.537 |\tSSIM value: 0.001\n",
            "\n",
            "Learning rate: 1e-05\n",
            "Train epoch 5: [0/250 (0%)]\tLoss: 132.989 |\tMSE loss: 0.522\n",
            "Train epoch 5: [160/250 (62%)]\tLoss: 148.473 |\tMSE loss: 0.582\n",
            "Test epoch 5: Average losses:\tLoss: 124.582 |\tMSE loss: 0.489 |\tPSNR value: 3.124 |\tSSIM value: 0.002\n",
            "\n",
            "Learning rate: 1e-05\n",
            "Train epoch 6: [0/250 (0%)]\tLoss: 123.109 |\tMSE loss: 0.483\n",
            "Train epoch 6: [160/250 (62%)]\tLoss: 103.125 |\tMSE loss: 0.404\n",
            "Test epoch 6: Average losses:\tLoss: 112.686 |\tMSE loss: 0.442 |\tPSNR value: 3.560 |\tSSIM value: 0.002\n",
            "\n",
            "Learning rate: 1e-05\n",
            "Train epoch 7: [0/250 (0%)]\tLoss: 97.766 |\tMSE loss: 0.383\n",
            "Train epoch 7: [160/250 (62%)]\tLoss: 100.944 |\tMSE loss: 0.396\n",
            "Test epoch 7: Average losses:\tLoss: 104.041 |\tMSE loss: 0.408 |\tPSNR value: 3.907 |\tSSIM value: 0.004\n",
            "\n",
            "Learning rate: 1e-05\n",
            "Train epoch 8: [0/250 (0%)]\tLoss: 60.881 |\tMSE loss: 0.239\n",
            "Train epoch 8: [160/250 (62%)]\tLoss: 77.366 |\tMSE loss: 0.303\n",
            "Test epoch 8: Average losses:\tLoss: 96.376 |\tMSE loss: 0.378 |\tPSNR value: 4.239 |\tSSIM value: 0.005\n",
            "\n",
            "Learning rate: 1e-05\n",
            "Train epoch 9: [0/250 (0%)]\tLoss: 69.976 |\tMSE loss: 0.274\n",
            "Train epoch 9: [160/250 (62%)]\tLoss: 93.637 |\tMSE loss: 0.367\n",
            "Test epoch 9: Average losses:\tLoss: 88.966 |\tMSE loss: 0.349 |\tPSNR value: 4.587 |\tSSIM value: 0.007\n",
            "\n",
            "Learning rate: 1e-05\n",
            "Train epoch 10: [0/250 (0%)]\tLoss: 85.950 |\tMSE loss: 0.337\n",
            "Train epoch 10: [160/250 (62%)]\tLoss: 74.614 |\tMSE loss: 0.293\n",
            "Test epoch 10: Average losses:\tLoss: 81.645 |\tMSE loss: 0.320 |\tPSNR value: 4.961 |\tSSIM value: 0.008\n",
            "\n",
            "Learning rate: 1e-05\n",
            "Train epoch 11: [0/250 (0%)]\tLoss: 67.234 |\tMSE loss: 0.264\n",
            "Train epoch 11: [160/250 (62%)]\tLoss: 72.257 |\tMSE loss: 0.283\n",
            "Test epoch 11: Average losses:\tLoss: 74.427 |\tMSE loss: 0.292 |\tPSNR value: 5.364 |\tSSIM value: 0.010\n",
            "\n",
            "Learning rate: 1e-05\n",
            "Train epoch 12: [0/250 (0%)]\tLoss: 59.143 |\tMSE loss: 0.232\n",
            "Train epoch 12: [160/250 (62%)]\tLoss: 53.805 |\tMSE loss: 0.211\n",
            "Test epoch 12: Average losses:\tLoss: 67.541 |\tMSE loss: 0.265 |\tPSNR value: 5.786 |\tSSIM value: 0.011\n",
            "\n",
            "Learning rate: 1e-05\n",
            "Train epoch 13: [0/250 (0%)]\tLoss: 67.551 |\tMSE loss: 0.265\n",
            "Train epoch 13: [160/250 (62%)]\tLoss: 71.215 |\tMSE loss: 0.279\n",
            "Test epoch 13: Average losses:\tLoss: 61.040 |\tMSE loss: 0.239 |\tPSNR value: 6.227 |\tSSIM value: 0.012\n",
            "\n",
            "Learning rate: 1e-05\n",
            "Train epoch 14: [0/250 (0%)]\tLoss: 59.338 |\tMSE loss: 0.233\n",
            "Train epoch 14: [160/250 (62%)]\tLoss: 50.065 |\tMSE loss: 0.196\n",
            "Test epoch 14: Average losses:\tLoss: 55.175 |\tMSE loss: 0.216 |\tPSNR value: 6.667 |\tSSIM value: 0.014\n",
            "\n",
            "Learning rate: 1e-05\n",
            "Train epoch 15: [0/250 (0%)]\tLoss: 55.020 |\tMSE loss: 0.216\n",
            "Train epoch 15: [160/250 (62%)]\tLoss: 41.104 |\tMSE loss: 0.161\n",
            "Test epoch 15: Average losses:\tLoss: 50.030 |\tMSE loss: 0.196 |\tPSNR value: 7.093 |\tSSIM value: 0.015\n",
            "\n",
            "Learning rate: 1e-05\n",
            "Train epoch 16: [0/250 (0%)]\tLoss: 40.139 |\tMSE loss: 0.157\n",
            "Train epoch 16: [160/250 (62%)]\tLoss: 44.016 |\tMSE loss: 0.173\n",
            "Test epoch 16: Average losses:\tLoss: 45.553 |\tMSE loss: 0.179 |\tPSNR value: 7.501 |\tSSIM value: 0.017\n",
            "\n",
            "Learning rate: 1e-05\n",
            "Train epoch 17: [0/250 (0%)]\tLoss: 29.507 |\tMSE loss: 0.116\n",
            "Train epoch 17: [160/250 (62%)]\tLoss: 34.671 |\tMSE loss: 0.136\n",
            "Test epoch 17: Average losses:\tLoss: 41.676 |\tMSE loss: 0.163 |\tPSNR value: 7.888 |\tSSIM value: 0.019\n",
            "\n",
            "Learning rate: 1e-05\n",
            "Train epoch 18: [0/250 (0%)]\tLoss: 40.173 |\tMSE loss: 0.158\n",
            "Train epoch 18: [160/250 (62%)]\tLoss: 27.177 |\tMSE loss: 0.107\n",
            "Test epoch 18: Average losses:\tLoss: 38.356 |\tMSE loss: 0.150 |\tPSNR value: 8.250 |\tSSIM value: 0.021\n",
            "\n",
            "Learning rate: 1e-05\n",
            "Train epoch 19: [0/250 (0%)]\tLoss: 35.450 |\tMSE loss: 0.139\n",
            "Train epoch 19: [160/250 (62%)]\tLoss: 24.196 |\tMSE loss: 0.095\n",
            "Test epoch 19: Average losses:\tLoss: 35.450 |\tMSE loss: 0.139 |\tPSNR value: 8.593 |\tSSIM value: 0.023\n",
            "\n",
            "Learning rate: 1e-05\n",
            "Train epoch 20: [0/250 (0%)]\tLoss: 31.552 |\tMSE loss: 0.124\n",
            "Train epoch 20: [160/250 (62%)]\tLoss: 34.114 |\tMSE loss: 0.134\n",
            "Test epoch 20: Average losses:\tLoss: 32.847 |\tMSE loss: 0.129 |\tPSNR value: 8.925 |\tSSIM value: 0.025\n",
            "\n",
            "Learning rate: 1e-05\n",
            "Train epoch 21: [0/250 (0%)]\tLoss: 32.732 |\tMSE loss: 0.128\n",
            "Train epoch 21: [160/250 (62%)]\tLoss: 23.045 |\tMSE loss: 0.090\n",
            "Test epoch 21: Average losses:\tLoss: 30.495 |\tMSE loss: 0.120 |\tPSNR value: 9.249 |\tSSIM value: 0.028\n",
            "\n",
            "Learning rate: 1e-05\n",
            "Train epoch 22: [0/250 (0%)]\tLoss: 29.840 |\tMSE loss: 0.117\n",
            "Train epoch 22: [160/250 (62%)]\tLoss: 24.918 |\tMSE loss: 0.098\n",
            "Test epoch 22: Average losses:\tLoss: 28.416 |\tMSE loss: 0.111 |\tPSNR value: 9.558 |\tSSIM value: 0.030\n",
            "\n",
            "Learning rate: 1e-05\n",
            "Train epoch 23: [0/250 (0%)]\tLoss: 28.519 |\tMSE loss: 0.112\n",
            "Train epoch 23: [160/250 (62%)]\tLoss: 20.225 |\tMSE loss: 0.079\n",
            "Test epoch 23: Average losses:\tLoss: 26.531 |\tMSE loss: 0.104 |\tPSNR value: 9.858 |\tSSIM value: 0.034\n",
            "\n",
            "Learning rate: 1e-05\n",
            "Train epoch 24: [0/250 (0%)]\tLoss: 18.532 |\tMSE loss: 0.073\n",
            "Train epoch 24: [160/250 (62%)]\tLoss: 20.908 |\tMSE loss: 0.082\n",
            "Test epoch 24: Average losses:\tLoss: 24.876 |\tMSE loss: 0.098 |\tPSNR value: 10.140 |\tSSIM value: 0.037\n",
            "\n",
            "Learning rate: 1e-05\n",
            "Train epoch 25: [0/250 (0%)]\tLoss: 21.637 |\tMSE loss: 0.085\n",
            "Train epoch 25: [160/250 (62%)]\tLoss: 13.944 |\tMSE loss: 0.055\n",
            "Test epoch 25: Average losses:\tLoss: 23.387 |\tMSE loss: 0.092 |\tPSNR value: 10.411 |\tSSIM value: 0.041\n",
            "\n",
            "Learning rate: 1e-05\n",
            "Train epoch 26: [0/250 (0%)]\tLoss: 15.275 |\tMSE loss: 0.060\n",
            "Train epoch 26: [160/250 (62%)]\tLoss: 19.559 |\tMSE loss: 0.077\n",
            "Test epoch 26: Average losses:\tLoss: 22.121 |\tMSE loss: 0.087 |\tPSNR value: 10.655 |\tSSIM value: 0.045\n",
            "\n",
            "Learning rate: 1e-05\n",
            "Train epoch 27: [0/250 (0%)]\tLoss: 17.370 |\tMSE loss: 0.068\n",
            "Train epoch 27: [160/250 (62%)]\tLoss: 18.632 |\tMSE loss: 0.073\n",
            "Test epoch 27: Average losses:\tLoss: 21.010 |\tMSE loss: 0.082 |\tPSNR value: 10.879 |\tSSIM value: 0.051\n",
            "\n",
            "Learning rate: 1e-05\n",
            "Train epoch 28: [0/250 (0%)]\tLoss: 23.007 |\tMSE loss: 0.090\n",
            "Train epoch 28: [160/250 (62%)]\tLoss: 15.686 |\tMSE loss: 0.062\n",
            "Test epoch 28: Average losses:\tLoss: 20.022 |\tMSE loss: 0.079 |\tPSNR value: 11.089 |\tSSIM value: 0.055\n",
            "\n",
            "Learning rate: 1e-05\n",
            "Train epoch 29: [0/250 (0%)]\tLoss: 18.587 |\tMSE loss: 0.073\n",
            "Train epoch 29: [160/250 (62%)]\tLoss: 16.541 |\tMSE loss: 0.065\n",
            "Test epoch 29: Average losses:\tLoss: 19.109 |\tMSE loss: 0.075 |\tPSNR value: 11.294 |\tSSIM value: 0.060\n",
            "\n"
          ]
        }
      ]
    },
    {
      "cell_type": "markdown",
      "source": [
        "#### 1.4.1.6 Combine all the results for different learning rates"
      ],
      "metadata": {
        "id": "mGTxeoCLdRRG"
      }
    },
    {
      "cell_type": "code",
      "source": [
        "\n",
        "combine_loss = [loss_epoch,loss_epoch2,loss_epoch3]\n",
        "\n",
        "combine_mse = [MSE_epoch,MSE_epoch2,MSE_epoch3]\n",
        "\n",
        "combine_psnr = [PSNR_epoch,PSNR_epoch2,PSNR_epoch3]\n",
        "\n",
        "combine_ssim = [ssim_epoch,ssim_epoch2,ssim_epoch3]"
      ],
      "metadata": {
        "id": "qAKcUB8GkAPx"
      },
      "execution_count": null,
      "outputs": []
    },
    {
      "cell_type": "code",
      "source": [
        "from matplotlib import pyplot as plt\n",
        "\n",
        "xs = list(range(1, epochs+1))\n",
        "print(xs)\n",
        "print(type(xs))\n",
        "print(loss_epoch)\n",
        "print(type(loss_epoch))\n",
        "\n",
        "for i in range(0,len(loss_epoch)):\n",
        "  loss_epoch[i] = loss_epoch[i].cpu().item()\n",
        "\n",
        "print(loss_epoch)\n",
        "print(type(loss_epoch))"
      ],
      "metadata": {
        "colab": {
          "base_uri": "https://localhost:8080/"
        },
        "id": "Dedew57ajHMN",
        "outputId": "78e12719-d602-45c0-8ad5-a0c371ad809a"
      },
      "execution_count": null,
      "outputs": [
        {
          "output_type": "stream",
          "name": "stdout",
          "text": [
            "[1, 2, 3, 4, 5, 6, 7, 8, 9, 10, 11, 12, 13, 14, 15, 16, 17, 18, 19, 20, 21, 22, 23, 24, 25, 26, 27, 28, 29, 30]\n",
            "<class 'list'>\n",
            "[tensor(30.1376, device='cuda:0'), tensor(12.9447, device='cuda:0'), tensor(11.6268, device='cuda:0'), tensor(22.6287, device='cuda:0'), tensor(9.2793, device='cuda:0'), tensor(6.4353, device='cuda:0'), tensor(6.1676, device='cuda:0'), tensor(4.6969, device='cuda:0'), tensor(4.7473, device='cuda:0'), tensor(3.6421, device='cuda:0'), tensor(3.5687, device='cuda:0'), tensor(3.1811, device='cuda:0'), tensor(3.1572, device='cuda:0'), tensor(2.3284, device='cuda:0'), tensor(2.3710, device='cuda:0'), tensor(3.0700, device='cuda:0'), tensor(4.8709, device='cuda:0'), tensor(2.8460, device='cuda:0'), tensor(2.2822, device='cuda:0'), tensor(2.1996, device='cuda:0'), tensor(2.0013, device='cuda:0'), tensor(2.1125, device='cuda:0'), tensor(1.8352, device='cuda:0'), tensor(2.3343, device='cuda:0'), tensor(1.6608, device='cuda:0'), tensor(1.6468, device='cuda:0'), tensor(1.4749, device='cuda:0'), tensor(1.7825, device='cuda:0'), tensor(1.6099, device='cuda:0'), tensor(1.6464, device='cuda:0')]\n",
            "<class 'list'>\n",
            "[30.137601852416992, 12.944664001464844, 11.626788139343262, 22.628734588623047, 9.279348373413086, 6.435349941253662, 6.16760778427124, 4.696927070617676, 4.747294902801514, 3.642103910446167, 3.568690776824951, 3.1811156272888184, 3.157205104827881, 2.328383445739746, 2.3710238933563232, 3.0700340270996094, 4.87087345123291, 2.846047878265381, 2.282243251800537, 2.1996095180511475, 2.0013046264648438, 2.112517833709717, 1.8351519107818604, 2.3343393802642822, 1.6608375310897827, 1.6468238830566406, 1.4748724699020386, 1.7824819087982178, 1.6098756790161133, 1.6464252471923828]\n",
            "<class 'list'>\n"
          ]
        }
      ]
    },
    {
      "cell_type": "code",
      "source": [
        "for i in range(0,len(loss_epoch2)):\n",
        "  loss_epoch2[i] = loss_epoch2[i].cpu().item()\n",
        "\n",
        "for i in range(0,len(loss_epoch3)):\n",
        "  loss_epoch3[i] = loss_epoch3[i].cpu().item()\n",
        "\n",
        "for i in range(0,len(MSE_epoch)):\n",
        "  MSE_epoch[i] = MSE_epoch[i].cpu().item()\n",
        "print(MSE_epoch)\n",
        "print(type(MSE_epoch))\n",
        "\n",
        "for i in range(0,len(MSE_epoch2)):\n",
        "  MSE_epoch2[i] = MSE_epoch2[i].cpu().item()\n",
        "\n",
        "for i in range(0,len(MSE_epoch3)):\n",
        "  MSE_epoch3[i] = MSE_epoch3[i].cpu().item()\n",
        "\n",
        "for i in range(0,len(PSNR_epoch)):\n",
        "  PSNR_epoch[i] = PSNR_epoch[i].cpu().item()\n",
        "print(PSNR_epoch)\n",
        "print(type(PSNR_epoch))\n",
        "\n",
        "for i in range(0,len(PSNR_epoch2)):\n",
        "  PSNR_epoch2[i] = PSNR_epoch2[i].cpu().item()\n",
        "\n",
        "for i in range(0,len(PSNR_epoch3)):\n",
        "  PSNR_epoch3[i] = PSNR_epoch3[i].cpu().item()\n"
      ],
      "metadata": {
        "colab": {
          "base_uri": "https://localhost:8080/"
        },
        "id": "2LaQrmUYdU7y",
        "outputId": "031887f6-4235-4562-d6c5-3e3431caa02d"
      },
      "execution_count": null,
      "outputs": [
        {
          "output_type": "stream",
          "name": "stdout",
          "text": [
            "[0.11818667501211166, 0.050763390958309174, 0.04559525102376938, 0.08874013274908066, 0.03638960048556328, 0.025236666202545166, 0.024186698719859123, 0.01841932162642479, 0.018616843968629837, 0.01428276114165783, 0.013994865119457245, 0.012474961578845978, 0.012381195090711117, 0.009130915626883507, 0.009298132732510567, 0.012039350345730782, 0.01910146325826645, 0.011160971596837044, 0.008949973620474339, 0.008625919930636883, 0.007848253473639488, 0.00828438252210617, 0.00719667412340641, 0.009154272265732288, 0.006513088010251522, 0.0064581334590911865, 0.005783814005553722, 0.006990125402808189, 0.00631323829293251, 0.0064565702341496944]\n",
            "<class 'list'>\n",
            "[9.283283233642578, 12.975863456726074, 13.447761535644531, 10.565749168395996, 14.394208908081055, 16.04964256286621, 16.17264175415039, 17.38468360900879, 17.350358963012695, 18.478261947631836, 18.58368492126465, 19.06418228149414, 19.081802368164062, 20.465797424316406, 20.37305450439453, 19.28565788269043, 17.20183563232422, 19.53450584411621, 20.498645782470703, 20.657432556152344, 21.120983123779297, 20.831724166870117, 21.449485778808594, 20.42131805419922, 21.925392150878906, 21.919837951660156, 22.426830291748047, 21.596527099609375, 22.035385131835938, 21.95301055908203]\n",
            "<class 'list'>\n"
          ]
        }
      ]
    },
    {
      "cell_type": "code",
      "source": [
        "for i in range(0,len(ssim_epoch)):\n",
        "  ssim_epoch[i] = ssim_epoch[i].cpu().item()\n",
        "print(ssim_epoch)\n",
        "print(type(ssim_epoch))\n",
        "\n",
        "for i in range(0,len(ssim_epoch2)):\n",
        "  ssim_epoch2[i] = ssim_epoch2[i].cpu().item()\n",
        "\n",
        "for i in range(0,len(ssim_epoch3)):\n",
        "  ssim_epoch3[i] = ssim_epoch3[i].cpu().item()"
      ],
      "metadata": {
        "colab": {
          "base_uri": "https://localhost:8080/"
        },
        "id": "dlip2WZ3msiE",
        "outputId": "bf317268-b39e-4784-9723-6a719fd8fece"
      },
      "execution_count": null,
      "outputs": [
        {
          "output_type": "stream",
          "name": "stdout",
          "text": [
            "[0.023697227239608765, 0.09158860146999359, 0.10336276143789291, 0.09349767863750458, 0.14853224158287048, 0.19006946682929993, 0.24258825182914734, 0.2536367177963257, 0.26955968141555786, 0.32085418701171875, 0.34656772017478943, 0.38577836751937866, 0.4247337281703949, 0.4509234130382538, 0.41564926505088806, 0.42875319719314575, 0.4487387537956238, 0.45811232924461365, 0.4777413308620453, 0.5064997673034668, 0.5106992125511169, 0.5237587690353394, 0.5374866724014282, 0.5389093160629272, 0.5568112134933472, 0.5637311339378357, 0.538942277431488, 0.4980084300041199, 0.5629961490631104, 0.5802609324455261]\n",
            "<class 'list'>\n"
          ]
        }
      ]
    },
    {
      "cell_type": "markdown",
      "source": [
        "#### 1.4.1.7 Print out the value of Loss, MSE, PSNR, SSIM when epoch = 0, 10, 20, 30 respectively "
      ],
      "metadata": {
        "id": "7OrJRub7y1we"
      }
    },
    {
      "cell_type": "code",
      "source": [
        "print(\"LR = 1e-3\")\n",
        "print(loss_epoch[0])\n",
        "print(loss_epoch[9])\n",
        "print(loss_epoch[19])\n",
        "print(loss_epoch[29])\n",
        "print(\"LR = 1e-4\")\n",
        "print(loss_epoch2[0])\n",
        "print(loss_epoch2[9])\n",
        "print(loss_epoch2[19])\n",
        "print(loss_epoch2[29])\n",
        "print(\"LR = 1e-5\")\n",
        "print(loss_epoch3[0])\n",
        "print(loss_epoch3[9])\n",
        "print(loss_epoch3[19])\n",
        "print(loss_epoch3[29])\n"
      ],
      "metadata": {
        "colab": {
          "base_uri": "https://localhost:8080/"
        },
        "id": "gVF6Wq3hn6aW",
        "outputId": "0afdd511-4ce0-4a7d-9e1c-dd50984f2f7a"
      },
      "execution_count": null,
      "outputs": [
        {
          "output_type": "stream",
          "name": "stdout",
          "text": [
            "LR = 1e-3\n",
            "30.137601852416992\n",
            "3.642103910446167\n",
            "2.1996095180511475\n",
            "1.6464252471923828\n",
            "LR = 1e-4\n",
            "95.71846008300781\n",
            "9.977217674255371\n",
            "5.363204002380371\n",
            "3.7265496253967285\n",
            "LR = 1e-5\n",
            "549.6160888671875\n",
            "88.96602630615234\n",
            "35.449554443359375\n",
            "19.10933494567871\n"
          ]
        }
      ]
    },
    {
      "cell_type": "code",
      "source": [
        "print(\"LR = 1e-3\")\n",
        "print(MSE_epoch[0])\n",
        "print(MSE_epoch[9])\n",
        "print(MSE_epoch[19])\n",
        "print(MSE_epoch[29])\n",
        "print(\"LR = 1e-4\")\n",
        "print(MSE_epoch2[0])\n",
        "print(MSE_epoch2[9])\n",
        "print(MSE_epoch2[19])\n",
        "print(MSE_epoch2[29])\n",
        "print(\"LR = 1e-5\")\n",
        "print(MSE_epoch3[0])\n",
        "print(MSE_epoch3[9])\n",
        "print(MSE_epoch3[19])\n",
        "print(MSE_epoch3[29])"
      ],
      "metadata": {
        "colab": {
          "base_uri": "https://localhost:8080/"
        },
        "id": "OGXIS5s6oTRO",
        "outputId": "7e11cfb5-de0a-49fb-d268-ad659c7884b2"
      },
      "execution_count": null,
      "outputs": [
        {
          "output_type": "stream",
          "name": "stdout",
          "text": [
            "LR = 1e-3\n",
            "0.11818667501211166\n",
            "0.01428276114165783\n",
            "0.008625919930636883\n",
            "0.0064565702341496944\n",
            "LR = 1e-4\n",
            "0.3753665089607239\n",
            "0.03912634775042534\n",
            "0.021032169461250305\n",
            "0.014613918960094452\n",
            "LR = 1e-5\n",
            "2.1553571224212646\n",
            "0.3488863706588745\n",
            "0.13901785016059875\n",
            "0.07493856549263\n"
          ]
        }
      ]
    },
    {
      "cell_type": "code",
      "source": [
        "print(\"LR = 1e-3\")\n",
        "print(PSNR_epoch[0])\n",
        "print(PSNR_epoch[9])\n",
        "print(PSNR_epoch[19])\n",
        "print(PSNR_epoch[29])\n",
        "print(\"LR = 1e-4\")\n",
        "print(PSNR_epoch2[0])\n",
        "print(PSNR_epoch2[9])\n",
        "print(PSNR_epoch2[19])\n",
        "print(PSNR_epoch2[29])\n",
        "print(\"LR = 1e-5\")\n",
        "print(PSNR_epoch3[0])\n",
        "print(PSNR_epoch3[9])\n",
        "print(PSNR_epoch3[19])\n",
        "print(PSNR_epoch3[29])"
      ],
      "metadata": {
        "colab": {
          "base_uri": "https://localhost:8080/"
        },
        "id": "GmNc3L6eod-K",
        "outputId": "00f66ea0-7733-469b-f717-f4ceddfc52e9"
      },
      "execution_count": null,
      "outputs": [
        {
          "output_type": "stream",
          "name": "stdout",
          "text": [
            "LR = 1e-3\n",
            "9.283283233642578\n",
            "18.478261947631836\n",
            "20.657432556152344\n",
            "21.95301055908203\n",
            "LR = 1e-4\n",
            "4.2654266357421875\n",
            "14.11274242401123\n",
            "16.816129684448242\n",
            "18.41132354736328\n",
            "LR = 1e-5\n",
            "-3.331775188446045\n",
            "4.586845874786377\n",
            "8.593061447143555\n",
            "11.294047355651855\n"
          ]
        }
      ]
    },
    {
      "cell_type": "code",
      "source": [
        "print(\"LR = 1e-3\")\n",
        "print(ssim_epoch[0])\n",
        "print(ssim_epoch[9])\n",
        "print(ssim_epoch[19])\n",
        "print(ssim_epoch[29])\n",
        "\n",
        "\n",
        "print(\"LR = 1e-4\")\n",
        "print(ssim_epoch2[0])\n",
        "print(ssim_epoch2[9])\n",
        "print(ssim_epoch2[19])\n",
        "print(ssim_epoch2[29])\n",
        "\n",
        "print(\"LR = 1e-5\")\n",
        "print(ssim_epoch3[0])\n",
        "print(ssim_epoch3[9])\n",
        "print(ssim_epoch3[19])\n",
        "print(ssim_epoch3[29])"
      ],
      "metadata": {
        "colab": {
          "base_uri": "https://localhost:8080/"
        },
        "id": "-EVxM2KBoech",
        "outputId": "a501348e-b8ba-412a-f414-192366c60ef9"
      },
      "execution_count": null,
      "outputs": [
        {
          "output_type": "stream",
          "name": "stdout",
          "text": [
            "LR = 1e-3\n",
            "0.023697227239608765\n",
            "0.32085418701171875\n",
            "0.5064997673034668\n",
            "0.5802609324455261\n",
            "LR = 1e-4\n",
            "0.005448970478028059\n",
            "0.1267472505569458\n",
            "0.21482740342617035\n",
            "0.2866825461387634\n",
            "LR = 1e-5\n",
            "5.8095432905247435e-05\n",
            "0.006698545068502426\n",
            "0.022908467799425125\n",
            "0.06000635027885437\n"
          ]
        }
      ]
    },
    {
      "cell_type": "markdown",
      "source": [
        "#### 1.4.1.8 Plot the results for (N,M) = (32,48)"
      ],
      "metadata": {
        "id": "EvQK6hDvzE2g"
      }
    },
    {
      "cell_type": "code",
      "source": [
        "import numpy as np\n",
        "plt.figure\n",
        "plt.figure(figsize=(12,10))\n",
        "plt.subplot(3,2,1)\n",
        "\n",
        "plt.title('learning rate = 1e-3')\n",
        "plt.plot(xs, loss_epoch, color='green', label='loss')\n",
        "plt.plot(xs, PSNR_epoch,  color='skyblue', label='PSNR')\n",
        "plt.legend(['loss','PSNR'],loc = 'upper right')\n",
        "plt.xlabel('Epoch')\n",
        "\n",
        "plt.subplot(3,2,2)\n",
        "plt.title('learning rate = 1e-3')\n",
        "plt.plot(xs, MSE_epoch, color='red', label='MSE')\n",
        "plt.plot(xs, ssim_epoch, color='blue', label='ssim')\n",
        "plt.legend(['MSE','ssim'],loc = 'upper right')\n",
        "plt.xlabel('Epoch')\n",
        "\n",
        "\n",
        "plt.subplot(3,2,3)\n",
        "plt.title('learning rate = 1e-4')\n",
        "plt.plot(xs, loss_epoch2, color='green', label='loss')\n",
        "plt.plot(xs, PSNR_epoch2,  color='skyblue', label='PSNR')\n",
        "plt.legend(['loss','PSNR'],loc = 'upper right')\n",
        "plt.xlabel('Epoch')\n",
        "\n",
        "plt.subplot(3,2,4)\n",
        "plt.title('learning rate = 1e-4')\n",
        "plt.plot(xs, MSE_epoch2, color='red', label='MSE')\n",
        "plt.plot(xs, ssim_epoch2, color='blue', label='ssim')\n",
        "plt.legend(['MSE','ssim'],loc = 'upper right')\n",
        "plt.xlabel('Epoch')\n",
        "\n",
        "\n",
        "plt.subplot(3,2,5)\n",
        "plt.title('learning rate = 1e-5')\n",
        "plt.plot(xs, loss_epoch3, color='green', label='loss')\n",
        "plt.plot(xs, PSNR_epoch3,  color='skyblue', label='PSNR')\n",
        "plt.legend(['loss','PSNR'],loc = 'upper right')\n",
        "plt.xlabel('Epoch')\n",
        "\n",
        "plt.subplot(3,2,6)\n",
        "plt.title('learning rate = 1e-5')\n",
        "plt.plot(xs, MSE_epoch3, color='red', label='MSE')\n",
        "plt.plot(xs, ssim_epoch3, color='blue', label='ssim')\n",
        "plt.legend(['MSE','ssim'],loc = 'upper right')\n",
        "plt.xlabel('Epoch')\n",
        "\n",
        "plt.tight_layout()                                       "
      ],
      "metadata": {
        "colab": {
          "base_uri": "https://localhost:8080/",
          "height": 729
        },
        "id": "z6r6C1_vjbZ3",
        "outputId": "987318bc-3aa2-4dd9-d606-79b3214226b0"
      },
      "execution_count": null,
      "outputs": [
        {
          "output_type": "display_data",
          "data": {
            "text/plain": [
              "<Figure size 864x720 with 6 Axes>"
            ],
            "image/png": "[encoded data removed]"
          },
          "metadata": {
            "needs_background": "light"
          }
        }
      ]
    },
    {
      "cell_type": "code",
      "source": [
        "plt.figure\n",
        "plt.figure(figsize=(10,10))\n",
        "plt.subplot(3,1,1)\n",
        "\n",
        "plt.title('learning rate = 1e-3')\n",
        "plt.plot(xs, loss_epoch,color = 'b',marker = 'o')\n",
        "plt.plot(xs, PSNR_epoch,color = 'y',marker = 'o')\n",
        "plt.yticks(np.arange(0,50,10))\n",
        "plt.legend(['loss','PSNR'],loc = 'upper left')\n",
        "plt.xlabel('Epoch')\n",
        "plt.ylabel('Loss & PSNR')\n",
        "plt.twinx()\n",
        "plt.plot(xs, MSE_epoch,color = 'r',marker = 'o')\n",
        "plt.plot(xs, ssim_epoch,color = 'g',marker = 'o')\n",
        "plt.yticks(np.arange(0,1,0.1))\n",
        "plt.ylabel('MSE & SSIM')\n",
        "plt.legend(['MSE','SSIM'],loc = 'upper right')\n",
        "plt.tight_layout()\n",
        "\n",
        "plt.subplot(3,1,2)\n",
        "\n",
        "plt.title('learning rate = 1e-4')\n",
        "plt.plot(xs, loss_epoch2,color = 'b',marker = 'o')\n",
        "plt.plot(xs, PSNR_epoch2,color = 'y',marker = 'o')\n",
        "plt.yticks(np.arange(0,100,10))\n",
        "plt.legend(['loss','PSNR'],loc = 'upper left')\n",
        "plt.xlabel('Epoch')\n",
        "plt.ylabel('Loss & PSNR')\n",
        "plt.twinx()\n",
        "plt.plot(xs, MSE_epoch2,color = 'r',marker = 'o')\n",
        "plt.plot(xs, ssim_epoch2,color = 'g',marker = 'o')\n",
        "plt.yticks(np.arange(0,1,0.1))\n",
        "plt.ylabel('MSE & SSIM')\n",
        "plt.legend(['MSE','SSIM'],loc = 'upper right')\n",
        "plt.tight_layout()\n",
        "\n",
        "plt.subplot(3,1,3)\n",
        "plt.title('learning rate = 1e-5')\n",
        "plt.plot(xs, loss_epoch3,color = 'b',marker = 'o')\n",
        "plt.plot(xs, PSNR_epoch3,color = 'y',marker = 'o')\n",
        "plt.yticks(np.arange(0,600,60))\n",
        "plt.legend(['loss','PSNR'],loc = 'upper left')\n",
        "plt.xlabel('Epoch')\n",
        "plt.ylabel('Loss & PSNR')\n",
        "plt.twinx()\n",
        "plt.plot(xs, MSE_epoch3,color = 'r',marker = 'o')\n",
        "plt.plot(xs, ssim_epoch3,color = 'g',marker = 'o')\n",
        "plt.yticks(np.arange(0,3,0.3))\n",
        "plt.ylabel('MSE & SSIM')\n",
        "plt.legend(['MSE','SSIM'],loc = 'upper right')\n",
        "plt.tight_layout()"
      ],
      "metadata": {
        "colab": {
          "base_uri": "https://localhost:8080/",
          "height": 729
        },
        "id": "3ScImt8Svp82",
        "outputId": "dd6ac740-27df-41fd-e0ca-93920b10c345"
      },
      "execution_count": null,
      "outputs": [
        {
          "output_type": "display_data",
          "data": {
            "text/plain": [
              "<Figure size 720x720 with 6 Axes>"
            ],
            "image/png": "[encoded data removed]"
          },
          "metadata": {
            "needs_background": "light"
          }
        }
      ]
    },
    {
      "cell_type": "markdown",
      "source": [
        "### 1.4.2 (N, M): (64, 96)"
      ],
      "metadata": {
        "id": "OEmdPV-mUdAh"
      }
    },
    {
      "cell_type": "markdown",
      "source": [
        "#### 1.4.2.1 Re-define the Network and other parameters"
      ],
      "metadata": {
        "id": "ctXUfsExUdAm"
      }
    },
    {
      "cell_type": "code",
      "source": [
        "class Network(nn.Module):\n",
        "\n",
        "    def __init__(self, N, M, init_weights=True, **kwargs):\n",
        "        super().__init__(**kwargs)\n",
        "\n",
        "        self.g_a = nn.Sequential(\n",
        "            conv(3, N),\n",
        "            conv(N, N),\n",
        "            conv(N, N),\n",
        "            conv(N, M),\n",
        "        )\n",
        "\n",
        "        self.g_s = nn.Sequential(\n",
        "            deconv(M, N),\n",
        "            deconv(N, N),\n",
        "            deconv(N, N),\n",
        "            deconv(N, 3),\n",
        "        )\n",
        "\n",
        "        self.N = N\n",
        "        self.M = M\n",
        "\n",
        "        if init_weights:\n",
        "            self._initialize_weights()\n",
        "\n",
        "    def forward(self, x):\n",
        "        y = self.g_a(x)\n",
        "        x_hat = self.g_s(y)\n",
        "\n",
        "        return {\n",
        "            \"x_hat\": x_hat,\n",
        "        }\n",
        "\n",
        "    def _initialize_weights(self):\n",
        "        for m in self.modules():\n",
        "            if isinstance(m, (nn.Conv2d, nn.ConvTranspose2d)):\n",
        "                nn.init.kaiming_normal_(m.weight)\n",
        "                if m.bias is not None:\n",
        "                    nn.init.zeros_(m.bias)\n",
        "\n",
        "    def compress(self, x):\n",
        "        y = self.g_a(x)\n",
        "        return y\n",
        "\n",
        "    def decompress(self, y_hat):\n",
        "        x_hat = self.g_s(y_hat).clamp_(0, 1) # Limiting. Limit the value of input to [min, max], output as a tensor\n",
        "        return {\"x_hat\": x_hat}"
      ],
      "metadata": {
        "id": "7S-xUn8nUdAm"
      },
      "execution_count": null,
      "outputs": []
    },
    {
      "cell_type": "code",
      "source": [
        "seed = 123                                        # for reproducibility\n",
        "cuda = True                                       # use GPU\n",
        "save = True                                       # save trained model\n",
        "dataset = '/content/drive/MyDrive/ELEC5306-2022'  # path to the root of the dataset\n",
        "checkpoint = ''                                   # load pretrained model\n",
        "epochs = 30                                       # total training epochs\n",
        "num_workers = 3                          # multi-process for loading training data\n",
        "clip_max_norm = 1.0                               # avoid gradient explosion\n",
        "patch_size = (256, 256)                           # input size for the training network\n",
        "# learning_rate = 1e-4  \n",
        "batch_size = 16\n",
        "test_batch_size = 16 \n",
        "N = 64\n",
        "M = 96"
      ],
      "metadata": {
        "id": "rFaFfT30UdAm"
      },
      "execution_count": null,
      "outputs": []
    },
    {
      "cell_type": "code",
      "source": [
        "torch.manual_seed(seed)\n",
        "random.seed(seed)\n",
        "\n",
        "train_transforms = transforms.Compose(\n",
        "    [transforms.RandomCrop(patch_size), transforms.ToTensor()]\n",
        ")\n",
        "\n",
        "test_transforms = transforms.Compose(\n",
        "    [transforms.CenterCrop(patch_size), transforms.ToTensor()]\n",
        ")\n",
        "\n",
        "train_dataset = ImageFolder(dataset, split=\"train\", transform=train_transforms)\n",
        "test_dataset = ImageFolder(dataset, split=\"valid\", transform=test_transforms)\n",
        "\n",
        "device = \"cuda\" if cuda and torch.cuda.is_available() else \"cpu\"\n",
        "\n",
        "train_dataloader = DataLoader(\n",
        "    train_dataset,\n",
        "    batch_size=batch_size,\n",
        "    num_workers=num_workers,\n",
        "    shuffle=True,\n",
        "    pin_memory=(device == \"cuda\"),\n",
        ")\n",
        "\n",
        "test_dataloader = DataLoader(\n",
        "    test_dataset,\n",
        "    batch_size=test_batch_size,\n",
        "    num_workers=num_workers,\n",
        "    shuffle=False,\n",
        "    pin_memory=(device == \"cuda\"),\n",
        ")\n"
      ],
      "metadata": {
        "colab": {
          "base_uri": "https://localhost:8080/"
        },
        "outputId": "af6e3e4c-d0c6-4555-9866-411e1aefd4e4",
        "id": "P07g1hO5UdAm"
      },
      "execution_count": null,
      "outputs": [
        {
          "output_type": "stream",
          "name": "stderr",
          "text": [
            "/usr/local/lib/python3.7/dist-packages/torch/utils/data/dataloader.py:490: UserWarning: This DataLoader will create 3 worker processes in total. Our suggested max number of worker in current system is 2, which is smaller than what this DataLoader is going to create. Please be aware that excessive worker creation might get DataLoader running slow or even freeze, lower the worker number to avoid potential slowness/freeze if necessary.\n",
            "  cpuset_checked))\n"
          ]
        }
      ]
    },
    {
      "cell_type": "markdown",
      "source": [
        "#### 1.4.2.2 Re-define the test-epoch function so that it will also return the value for MSE, PSNR, SSIM."
      ],
      "metadata": {
        "id": "xPm3KxmyUdAn"
      }
    },
    {
      "cell_type": "code",
      "source": [
        "def test_epoch(epoch, test_dataloader, model, criterion):\n",
        "    model.eval()\n",
        "    device = next(model.parameters()).device\n",
        "\n",
        "    loss = AverageMeter()\n",
        "    mse_loss = AverageMeter()\n",
        "    psnr = AverageMeter()\n",
        "    myssim = AverageMeter()\n",
        "\n",
        "    with torch.no_grad():\n",
        "        for d in test_dataloader:\n",
        "            d = d.to(device)\n",
        "            out_net = model(d)\n",
        "            d_out = out_net['x_hat']\n",
        "            out_criterion = criterion(out_net, d)\n",
        "\n",
        "            loss.update(out_criterion[\"loss\"])\n",
        "            mse_loss.update(out_criterion[\"mse_loss\"])\n",
        "            \n",
        "            psnr.update(PSNR(d_out, d))\n",
        "            ssim_val = ssim(d * 255, d_out * 255, data_range=255, size_average=True)\n",
        "            # print(ssim_val)\n",
        "            myssim.update(ssim_val)\n",
        "            \n",
        "\n",
        "    print(\n",
        "        f\"Test epoch {epoch}: Average losses:\"\n",
        "        f\"\\tLoss: {loss.avg:.3f} |\"\n",
        "        f\"\\tMSE loss: {mse_loss.avg:.3f} |\"\n",
        "        f\"\\tPSNR value: {psnr.avg:.3f} |\"\n",
        "        f\"\\tSSIM value: {myssim.avg:.3f}\\n\"\n",
        "    )\n",
        "\n",
        "    return loss.avg, mse_loss.avg, psnr.avg, myssim.avg\n",
        "\n",
        "# do the test on valid split"
      ],
      "metadata": {
        "id": "VjnBoaYpUdAn"
      },
      "execution_count": null,
      "outputs": []
    },
    {
      "cell_type": "markdown",
      "source": [
        "#### 1.4.2.3 When learning rate = 1e-3"
      ],
      "metadata": {
        "id": "FrBz8XAMUdAn"
      }
    },
    {
      "cell_type": "code",
      "source": [
        "learning_rate = 1e-3\n",
        "combine_loss = []\n",
        "combine_mse = []\n",
        "combine_psnr = []\n",
        "combine_ssim = []\n",
        "net = Network(N, M)\n",
        "net = net.to(device)\n",
        "optimizer = configure_optimizers(net, learning_rate)\n",
        "lr_scheduler = optim.lr_scheduler.ReduceLROnPlateau(optimizer, \"min\")\n",
        "criterion = Loss()\n",
        "\n",
        "last_epoch = 0\n",
        "if checkpoint:  # load from previous checkpoint\n",
        "    print(\"Loading\", checkpoint)\n",
        "    checkpoint = torch.load(checkpoint, map_location=device)\n",
        "    last_epoch = checkpoint[\"epoch\"] + 1\n",
        "    net.load_state_dict(checkpoint[\"state_dict\"])\n",
        "    optimizer.load_state_dict(checkpoint[\"optimizer\"])\n",
        "    lr_scheduler.load_state_dict(checkpoint[\"lr_scheduler\"])\n",
        "\n",
        "best_loss = float(\"inf\")\n",
        "\n",
        "loss_epoch = [] # set up a list to store the loss value after each epoch\n",
        "MSE_epoch = [] # set up a list to store the loss value after each epoch\n",
        "PSNR_epoch = [] # set up a list to store the loss value after each epoch\n",
        "ssim_epoch = [] # set up a list to store the loss value after each epoch\n",
        "\n",
        "for epoch in range(last_epoch, epochs):\n",
        "    print(f\"Learning rate: {optimizer.param_groups[0]['lr']}\")\n",
        "    train_one_epoch(\n",
        "        net,\n",
        "        criterion,\n",
        "        train_dataloader,\n",
        "        optimizer,\n",
        "        epoch,\n",
        "        clip_max_norm,\n",
        "    )\n",
        "    loss, mse_avg, psnr_avg, ssim_avg = test_epoch(epoch, test_dataloader, net, criterion)\n",
        "\n",
        "    loss_epoch.append(loss) # save the loss value in the loss_epoch list\n",
        "    MSE_epoch.append(mse_avg)\n",
        "    PSNR_epoch.append(psnr_avg)\n",
        "    ssim_epoch.append(ssim_avg)\n",
        "\n",
        "    lr_scheduler.step(loss)\n",
        "\n",
        "    is_best = loss < best_loss\n",
        "    best_loss = min(loss, best_loss)\n",
        "\n",
        "    if save:\n",
        "        save_checkpoint(\n",
        "            {\n",
        "                \"epoch\": epoch,\n",
        "                \"state_dict\": net.state_dict(),\n",
        "                \"loss\": loss,\n",
        "                \"optimizer\": optimizer.state_dict(),\n",
        "                \"lr_scheduler\": lr_scheduler.state_dict(),\n",
        "            },\n",
        "            is_best,\n",
        "        )\n",
        "  "
      ],
      "metadata": {
        "colab": {
          "base_uri": "https://localhost:8080/"
        },
        "outputId": "624cd8bf-d968-4213-a047-4c1c7ad1f05a",
        "id": "7rsplwhmUdAn"
      },
      "execution_count": null,
      "outputs": [
        {
          "output_type": "stream",
          "name": "stdout",
          "text": [
            "Learning rate: 0.001\n"
          ]
        },
        {
          "output_type": "stream",
          "name": "stderr",
          "text": [
            "/usr/local/lib/python3.7/dist-packages/torch/utils/data/dataloader.py:490: UserWarning: This DataLoader will create 3 worker processes in total. Our suggested max number of worker in current system is 2, which is smaller than what this DataLoader is going to create. Please be aware that excessive worker creation might get DataLoader running slow or even freeze, lower the worker number to avoid potential slowness/freeze if necessary.\n",
            "  cpuset_checked))\n"
          ]
        },
        {
          "output_type": "stream",
          "name": "stdout",
          "text": [
            "Train epoch 0: [0/250 (0%)]\tLoss: 1513.246 |\tMSE loss: 5.934\n",
            "Train epoch 0: [160/250 (62%)]\tLoss: 99.357 |\tMSE loss: 0.390\n",
            "Test epoch 0: Average losses:\tLoss: 45.010 |\tMSE loss: 0.177 |\tPSNR value: 7.562 |\tSSIM value: 0.015\n",
            "\n",
            "Learning rate: 0.001\n",
            "Train epoch 1: [0/250 (0%)]\tLoss: 41.264 |\tMSE loss: 0.162\n",
            "Train epoch 1: [160/250 (62%)]\tLoss: 31.004 |\tMSE loss: 0.122\n",
            "Test epoch 1: Average losses:\tLoss: 31.401 |\tMSE loss: 0.123 |\tPSNR value: 9.101 |\tSSIM value: 0.041\n",
            "\n",
            "Learning rate: 0.001\n",
            "Train epoch 2: [0/250 (0%)]\tLoss: 34.358 |\tMSE loss: 0.135\n",
            "Train epoch 2: [160/250 (62%)]\tLoss: 21.433 |\tMSE loss: 0.084\n",
            "Test epoch 2: Average losses:\tLoss: 23.062 |\tMSE loss: 0.090 |\tPSNR value: 10.450 |\tSSIM value: 0.060\n",
            "\n",
            "Learning rate: 0.001\n",
            "Train epoch 3: [0/250 (0%)]\tLoss: 23.097 |\tMSE loss: 0.091\n",
            "Train epoch 3: [160/250 (62%)]\tLoss: 23.352 |\tMSE loss: 0.092\n",
            "Test epoch 3: Average losses:\tLoss: 13.767 |\tMSE loss: 0.054 |\tPSNR value: 12.688 |\tSSIM value: 0.071\n",
            "\n",
            "Learning rate: 0.001\n",
            "Train epoch 4: [0/250 (0%)]\tLoss: 11.495 |\tMSE loss: 0.045\n",
            "Train epoch 4: [160/250 (62%)]\tLoss: 6.490 |\tMSE loss: 0.025\n",
            "Test epoch 4: Average losses:\tLoss: 20.508 |\tMSE loss: 0.080 |\tPSNR value: 10.949 |\tSSIM value: 0.137\n",
            "\n",
            "Learning rate: 0.001\n",
            "Train epoch 5: [0/250 (0%)]\tLoss: 16.594 |\tMSE loss: 0.065\n",
            "Train epoch 5: [160/250 (62%)]\tLoss: 2.835 |\tMSE loss: 0.011\n",
            "Test epoch 5: Average losses:\tLoss: 5.813 |\tMSE loss: 0.023 |\tPSNR value: 16.438 |\tSSIM value: 0.207\n",
            "\n",
            "Learning rate: 0.001\n",
            "Train epoch 6: [0/250 (0%)]\tLoss: 5.252 |\tMSE loss: 0.021\n",
            "Train epoch 6: [160/250 (62%)]\tLoss: 10.334 |\tMSE loss: 0.041\n",
            "Test epoch 6: Average losses:\tLoss: 10.801 |\tMSE loss: 0.042 |\tPSNR value: 13.757 |\tSSIM value: 0.184\n",
            "\n",
            "Learning rate: 0.001\n",
            "Train epoch 7: [0/250 (0%)]\tLoss: 9.197 |\tMSE loss: 0.036\n",
            "Train epoch 7: [160/250 (62%)]\tLoss: 10.892 |\tMSE loss: 0.043\n",
            "Test epoch 7: Average losses:\tLoss: 7.480 |\tMSE loss: 0.029 |\tPSNR value: 15.339 |\tSSIM value: 0.168\n",
            "\n",
            "Learning rate: 0.001\n",
            "Train epoch 8: [0/250 (0%)]\tLoss: 6.041 |\tMSE loss: 0.024\n",
            "Train epoch 8: [160/250 (62%)]\tLoss: 5.664 |\tMSE loss: 0.022\n",
            "Test epoch 8: Average losses:\tLoss: 8.556 |\tMSE loss: 0.034 |\tPSNR value: 14.744 |\tSSIM value: 0.234\n",
            "\n",
            "Learning rate: 0.001\n",
            "Train epoch 9: [0/250 (0%)]\tLoss: 7.988 |\tMSE loss: 0.031\n",
            "Train epoch 9: [160/250 (62%)]\tLoss: 5.563 |\tMSE loss: 0.022\n",
            "Test epoch 9: Average losses:\tLoss: 5.338 |\tMSE loss: 0.021 |\tPSNR value: 16.793 |\tSSIM value: 0.300\n",
            "\n",
            "Learning rate: 0.001\n",
            "Train epoch 10: [0/250 (0%)]\tLoss: 4.234 |\tMSE loss: 0.017\n",
            "Train epoch 10: [160/250 (62%)]\tLoss: 1.703 |\tMSE loss: 0.007\n",
            "Test epoch 10: Average losses:\tLoss: 4.530 |\tMSE loss: 0.018 |\tPSNR value: 17.514 |\tSSIM value: 0.331\n",
            "\n",
            "Learning rate: 0.001\n",
            "Train epoch 11: [0/250 (0%)]\tLoss: 3.050 |\tMSE loss: 0.012\n",
            "Train epoch 11: [160/250 (62%)]\tLoss: 4.052 |\tMSE loss: 0.016\n",
            "Test epoch 11: Average losses:\tLoss: 7.434 |\tMSE loss: 0.029 |\tPSNR value: 15.392 |\tSSIM value: 0.296\n",
            "\n",
            "Learning rate: 0.001\n",
            "Train epoch 12: [0/250 (0%)]\tLoss: 8.870 |\tMSE loss: 0.035\n",
            "Train epoch 12: [160/250 (62%)]\tLoss: 4.731 |\tMSE loss: 0.019\n",
            "Test epoch 12: Average losses:\tLoss: 4.281 |\tMSE loss: 0.017 |\tPSNR value: 17.759 |\tSSIM value: 0.330\n",
            "\n",
            "Learning rate: 0.001\n",
            "Train epoch 13: [0/250 (0%)]\tLoss: 3.704 |\tMSE loss: 0.015\n",
            "Train epoch 13: [160/250 (62%)]\tLoss: 3.746 |\tMSE loss: 0.015\n",
            "Test epoch 13: Average losses:\tLoss: 5.782 |\tMSE loss: 0.023 |\tPSNR value: 16.631 |\tSSIM value: 0.365\n",
            "\n",
            "Learning rate: 0.001\n",
            "Train epoch 14: [0/250 (0%)]\tLoss: 4.514 |\tMSE loss: 0.018\n",
            "Train epoch 14: [160/250 (62%)]\tLoss: 2.381 |\tMSE loss: 0.009\n",
            "Test epoch 14: Average losses:\tLoss: 3.971 |\tMSE loss: 0.016 |\tPSNR value: 18.103 |\tSSIM value: 0.397\n",
            "\n",
            "Learning rate: 0.001\n",
            "Train epoch 15: [0/250 (0%)]\tLoss: 4.134 |\tMSE loss: 0.016\n",
            "Train epoch 15: [160/250 (62%)]\tLoss: 2.408 |\tMSE loss: 0.009\n",
            "Test epoch 15: Average losses:\tLoss: 3.083 |\tMSE loss: 0.012 |\tPSNR value: 19.198 |\tSSIM value: 0.404\n",
            "\n",
            "Learning rate: 0.001\n",
            "Train epoch 16: [0/250 (0%)]\tLoss: 3.528 |\tMSE loss: 0.014\n",
            "Train epoch 16: [160/250 (62%)]\tLoss: 2.839 |\tMSE loss: 0.011\n",
            "Test epoch 16: Average losses:\tLoss: 2.793 |\tMSE loss: 0.011 |\tPSNR value: 19.606 |\tSSIM value: 0.424\n",
            "\n",
            "Learning rate: 0.001\n",
            "Train epoch 17: [0/250 (0%)]\tLoss: 2.701 |\tMSE loss: 0.011\n",
            "Train epoch 17: [160/250 (62%)]\tLoss: 2.916 |\tMSE loss: 0.011\n",
            "Test epoch 17: Average losses:\tLoss: 2.933 |\tMSE loss: 0.012 |\tPSNR value: 19.417 |\tSSIM value: 0.475\n",
            "\n",
            "Learning rate: 0.001\n",
            "Train epoch 18: [0/250 (0%)]\tLoss: 2.988 |\tMSE loss: 0.012\n",
            "Train epoch 18: [160/250 (62%)]\tLoss: 2.981 |\tMSE loss: 0.012\n",
            "Test epoch 18: Average losses:\tLoss: 2.739 |\tMSE loss: 0.011 |\tPSNR value: 19.715 |\tSSIM value: 0.478\n",
            "\n",
            "Learning rate: 0.001\n",
            "Train epoch 19: [0/250 (0%)]\tLoss: 3.167 |\tMSE loss: 0.012\n",
            "Train epoch 19: [160/250 (62%)]\tLoss: 1.658 |\tMSE loss: 0.007\n",
            "Test epoch 19: Average losses:\tLoss: 2.227 |\tMSE loss: 0.009 |\tPSNR value: 20.625 |\tSSIM value: 0.507\n",
            "\n",
            "Learning rate: 0.001\n",
            "Train epoch 20: [0/250 (0%)]\tLoss: 1.651 |\tMSE loss: 0.006\n",
            "Train epoch 20: [160/250 (62%)]\tLoss: 3.715 |\tMSE loss: 0.015\n",
            "Test epoch 20: Average losses:\tLoss: 2.449 |\tMSE loss: 0.010 |\tPSNR value: 20.250 |\tSSIM value: 0.483\n",
            "\n",
            "Learning rate: 0.001\n",
            "Train epoch 21: [0/250 (0%)]\tLoss: 1.907 |\tMSE loss: 0.007\n",
            "Train epoch 21: [160/250 (62%)]\tLoss: 1.670 |\tMSE loss: 0.007\n",
            "Test epoch 21: Average losses:\tLoss: 2.357 |\tMSE loss: 0.009 |\tPSNR value: 20.364 |\tSSIM value: 0.398\n",
            "\n",
            "Learning rate: 0.001\n",
            "Train epoch 22: [0/250 (0%)]\tLoss: 1.691 |\tMSE loss: 0.007\n",
            "Train epoch 22: [160/250 (62%)]\tLoss: 1.882 |\tMSE loss: 0.007\n",
            "Test epoch 22: Average losses:\tLoss: 2.166 |\tMSE loss: 0.008 |\tPSNR value: 20.775 |\tSSIM value: 0.546\n",
            "\n",
            "Learning rate: 0.001\n",
            "Train epoch 23: [0/250 (0%)]\tLoss: 1.424 |\tMSE loss: 0.006\n",
            "Train epoch 23: [160/250 (62%)]\tLoss: 1.240 |\tMSE loss: 0.005\n",
            "Test epoch 23: Average losses:\tLoss: 1.625 |\tMSE loss: 0.006 |\tPSNR value: 21.983 |\tSSIM value: 0.562\n",
            "\n",
            "Learning rate: 0.001\n",
            "Train epoch 24: [0/250 (0%)]\tLoss: 1.686 |\tMSE loss: 0.007\n",
            "Train epoch 24: [160/250 (62%)]\tLoss: 1.876 |\tMSE loss: 0.007\n",
            "Test epoch 24: Average losses:\tLoss: 1.572 |\tMSE loss: 0.006 |\tPSNR value: 22.121 |\tSSIM value: 0.582\n",
            "\n",
            "Learning rate: 0.001\n",
            "Train epoch 25: [0/250 (0%)]\tLoss: 1.103 |\tMSE loss: 0.004\n",
            "Train epoch 25: [160/250 (62%)]\tLoss: 0.986 |\tMSE loss: 0.004\n",
            "Test epoch 25: Average losses:\tLoss: 1.893 |\tMSE loss: 0.007 |\tPSNR value: 21.295 |\tSSIM value: 0.596\n",
            "\n",
            "Learning rate: 0.001\n",
            "Train epoch 26: [0/250 (0%)]\tLoss: 1.983 |\tMSE loss: 0.008\n",
            "Train epoch 26: [160/250 (62%)]\tLoss: 1.302 |\tMSE loss: 0.005\n",
            "Test epoch 26: Average losses:\tLoss: 3.234 |\tMSE loss: 0.013 |\tPSNR value: 18.978 |\tSSIM value: 0.576\n",
            "\n",
            "Learning rate: 0.001\n",
            "Train epoch 27: [0/250 (0%)]\tLoss: 2.312 |\tMSE loss: 0.009\n",
            "Train epoch 27: [160/250 (62%)]\tLoss: 2.514 |\tMSE loss: 0.010\n",
            "Test epoch 27: Average losses:\tLoss: 1.554 |\tMSE loss: 0.006 |\tPSNR value: 22.184 |\tSSIM value: 0.535\n",
            "\n",
            "Learning rate: 0.001\n",
            "Train epoch 28: [0/250 (0%)]\tLoss: 1.281 |\tMSE loss: 0.005\n",
            "Train epoch 28: [160/250 (62%)]\tLoss: 2.326 |\tMSE loss: 0.009\n",
            "Test epoch 28: Average losses:\tLoss: 2.538 |\tMSE loss: 0.010 |\tPSNR value: 20.021 |\tSSIM value: 0.581\n",
            "\n",
            "Learning rate: 0.001\n",
            "Train epoch 29: [0/250 (0%)]\tLoss: 2.091 |\tMSE loss: 0.008\n",
            "Train epoch 29: [160/250 (62%)]\tLoss: 1.116 |\tMSE loss: 0.004\n",
            "Test epoch 29: Average losses:\tLoss: 1.620 |\tMSE loss: 0.006 |\tPSNR value: 22.010 |\tSSIM value: 0.529\n",
            "\n"
          ]
        }
      ]
    },
    {
      "cell_type": "markdown",
      "source": [
        "#### 1.4.2.4 When learning rate = 1e-4"
      ],
      "metadata": {
        "id": "4WMZGvEtUdAn"
      }
    },
    {
      "cell_type": "code",
      "source": [
        "def save_checkpoint2(state, is_best, filename=\"checkpoint2.pth.tar\"):\n",
        "    torch.save(state, filename)\n",
        "    if is_best:\n",
        "        shutil.copyfile(filename, \"checkpoint_best_loss2.pth.tar\")"
      ],
      "metadata": {
        "id": "xL8Y_BsmUdAn"
      },
      "execution_count": null,
      "outputs": []
    },
    {
      "cell_type": "code",
      "source": [
        "learning_rate = 1e-4\n",
        "\n",
        "net = Network(N, M)\n",
        "net = net.to(device)\n",
        "optimizer = configure_optimizers(net, learning_rate)\n",
        "lr_scheduler = optim.lr_scheduler.ReduceLROnPlateau(optimizer, \"min\")\n",
        "criterion = Loss()\n",
        "\n",
        "last_epoch = 0\n",
        "if checkpoint:  # load from previous checkpoint\n",
        "    print(\"Loading\", checkpoint)\n",
        "    checkpoint = torch.load(checkpoint, map_location=device)\n",
        "    last_epoch = checkpoint[\"epoch\"] + 1\n",
        "    net.load_state_dict(checkpoint[\"state_dict\"])\n",
        "    optimizer.load_state_dict(checkpoint[\"optimizer\"])\n",
        "    lr_scheduler.load_state_dict(checkpoint[\"lr_scheduler\"])\n",
        "\n",
        "best_loss = float(\"inf\")\n",
        "\n",
        "loss_epoch2 = [] # set up a list to store the loss value after each epoch\n",
        "MSE_epoch2 = [] # set up a list to store the loss value after each epoch\n",
        "PSNR_epoch2 = [] # set up a list to store the loss value after each epoch\n",
        "ssim_epoch2 = [] # set up a list to store the loss value after each epoch\n",
        "\n",
        "for epoch in range(last_epoch, epochs):\n",
        "    print(f\"Learning rate: {optimizer.param_groups[0]['lr']}\")\n",
        "    train_one_epoch(\n",
        "        net,\n",
        "        criterion,\n",
        "        train_dataloader,\n",
        "        optimizer,\n",
        "        epoch,\n",
        "        clip_max_norm,\n",
        "    )\n",
        "    loss, mse_avg, psnr_avg, ssim_avg = test_epoch(epoch, test_dataloader, net, criterion)\n",
        "\n",
        "    loss_epoch2.append(loss) # save the loss value in the loss_epoch list\n",
        "    MSE_epoch2.append(mse_avg)\n",
        "    PSNR_epoch2.append(psnr_avg)\n",
        "    ssim_epoch2.append(ssim_avg)\n",
        "\n",
        "    lr_scheduler.step(loss)\n",
        "\n",
        "    is_best = loss < best_loss\n",
        "    best_loss = min(loss, best_loss)\n",
        "\n",
        "    if save:\n",
        "        save_checkpoint2(\n",
        "            {\n",
        "                \"epoch\": epoch,\n",
        "                \"state_dict\": net.state_dict(),\n",
        "                \"loss\": loss,\n",
        "                \"optimizer\": optimizer.state_dict(),\n",
        "                \"lr_scheduler\": lr_scheduler.state_dict(),\n",
        "            },\n",
        "            is_best,\n",
        "        )\n",
        "  "
      ],
      "metadata": {
        "colab": {
          "base_uri": "https://localhost:8080/"
        },
        "outputId": "5b74d054-bd8c-4a5c-e13c-f68acd48e210",
        "id": "KM16Z1OPUdAn"
      },
      "execution_count": null,
      "outputs": [
        {
          "output_type": "stream",
          "name": "stdout",
          "text": [
            "Learning rate: 0.0001\n"
          ]
        },
        {
          "output_type": "stream",
          "name": "stderr",
          "text": [
            "/usr/local/lib/python3.7/dist-packages/torch/utils/data/dataloader.py:490: UserWarning: This DataLoader will create 3 worker processes in total. Our suggested max number of worker in current system is 2, which is smaller than what this DataLoader is going to create. Please be aware that excessive worker creation might get DataLoader running slow or even freeze, lower the worker number to avoid potential slowness/freeze if necessary.\n",
            "  cpuset_checked))\n"
          ]
        },
        {
          "output_type": "stream",
          "name": "stdout",
          "text": [
            "Train epoch 0: [0/250 (0%)]\tLoss: 2942.731 |\tMSE loss: 11.540\n",
            "Train epoch 0: [160/250 (62%)]\tLoss: 148.307 |\tMSE loss: 0.582\n",
            "Test epoch 0: Average losses:\tLoss: 126.532 |\tMSE loss: 0.496 |\tPSNR value: 3.080 |\tSSIM value: 0.004\n",
            "\n",
            "Learning rate: 0.0001\n",
            "Train epoch 1: [0/250 (0%)]\tLoss: 130.167 |\tMSE loss: 0.510\n",
            "Train epoch 1: [160/250 (62%)]\tLoss: 55.478 |\tMSE loss: 0.218\n",
            "Test epoch 1: Average losses:\tLoss: 45.598 |\tMSE loss: 0.179 |\tPSNR value: 7.544 |\tSSIM value: 0.019\n",
            "\n",
            "Learning rate: 0.0001\n",
            "Train epoch 2: [0/250 (0%)]\tLoss: 41.958 |\tMSE loss: 0.165\n",
            "Train epoch 2: [160/250 (62%)]\tLoss: 20.771 |\tMSE loss: 0.081\n",
            "Test epoch 2: Average losses:\tLoss: 31.215 |\tMSE loss: 0.122 |\tPSNR value: 9.186 |\tSSIM value: 0.036\n",
            "\n",
            "Learning rate: 0.0001\n",
            "Train epoch 3: [0/250 (0%)]\tLoss: 32.897 |\tMSE loss: 0.129\n",
            "Train epoch 3: [160/250 (62%)]\tLoss: 25.787 |\tMSE loss: 0.101\n",
            "Test epoch 3: Average losses:\tLoss: 25.207 |\tMSE loss: 0.099 |\tPSNR value: 10.108 |\tSSIM value: 0.049\n",
            "\n",
            "Learning rate: 0.0001\n",
            "Train epoch 4: [0/250 (0%)]\tLoss: 16.899 |\tMSE loss: 0.066\n",
            "Train epoch 4: [160/250 (62%)]\tLoss: 21.731 |\tMSE loss: 0.085\n",
            "Test epoch 4: Average losses:\tLoss: 21.230 |\tMSE loss: 0.083 |\tPSNR value: 10.851 |\tSSIM value: 0.062\n",
            "\n",
            "Learning rate: 0.0001\n",
            "Train epoch 5: [0/250 (0%)]\tLoss: 24.050 |\tMSE loss: 0.094\n",
            "Train epoch 5: [160/250 (62%)]\tLoss: 21.164 |\tMSE loss: 0.083\n",
            "Test epoch 5: Average losses:\tLoss: 17.698 |\tMSE loss: 0.069 |\tPSNR value: 11.630 |\tSSIM value: 0.068\n",
            "\n",
            "Learning rate: 0.0001\n",
            "Train epoch 6: [0/250 (0%)]\tLoss: 16.463 |\tMSE loss: 0.065\n",
            "Train epoch 6: [160/250 (62%)]\tLoss: 9.530 |\tMSE loss: 0.037\n",
            "Test epoch 6: Average losses:\tLoss: 14.492 |\tMSE loss: 0.057 |\tPSNR value: 12.499 |\tSSIM value: 0.084\n",
            "\n",
            "Learning rate: 0.0001\n",
            "Train epoch 7: [0/250 (0%)]\tLoss: 12.511 |\tMSE loss: 0.049\n",
            "Train epoch 7: [160/250 (62%)]\tLoss: 9.704 |\tMSE loss: 0.038\n",
            "Test epoch 7: Average losses:\tLoss: 12.105 |\tMSE loss: 0.047 |\tPSNR value: 13.280 |\tSSIM value: 0.095\n",
            "\n",
            "Learning rate: 0.0001\n",
            "Train epoch 8: [0/250 (0%)]\tLoss: 8.483 |\tMSE loss: 0.033\n",
            "Train epoch 8: [160/250 (62%)]\tLoss: 14.156 |\tMSE loss: 0.056\n",
            "Test epoch 8: Average losses:\tLoss: 10.377 |\tMSE loss: 0.041 |\tPSNR value: 13.948 |\tSSIM value: 0.108\n",
            "\n",
            "Learning rate: 0.0001\n",
            "Train epoch 9: [0/250 (0%)]\tLoss: 8.188 |\tMSE loss: 0.032\n",
            "Train epoch 9: [160/250 (62%)]\tLoss: 6.350 |\tMSE loss: 0.025\n",
            "Test epoch 9: Average losses:\tLoss: 8.894 |\tMSE loss: 0.035 |\tPSNR value: 14.615 |\tSSIM value: 0.131\n",
            "\n",
            "Learning rate: 0.0001\n",
            "Train epoch 10: [0/250 (0%)]\tLoss: 7.081 |\tMSE loss: 0.028\n",
            "Train epoch 10: [160/250 (62%)]\tLoss: 11.480 |\tMSE loss: 0.045\n",
            "Test epoch 10: Average losses:\tLoss: 7.902 |\tMSE loss: 0.031 |\tPSNR value: 15.133 |\tSSIM value: 0.143\n",
            "\n",
            "Learning rate: 0.0001\n",
            "Train epoch 11: [0/250 (0%)]\tLoss: 6.084 |\tMSE loss: 0.024\n",
            "Train epoch 11: [160/250 (62%)]\tLoss: 7.631 |\tMSE loss: 0.030\n",
            "Test epoch 11: Average losses:\tLoss: 6.875 |\tMSE loss: 0.027 |\tPSNR value: 15.739 |\tSSIM value: 0.166\n",
            "\n",
            "Learning rate: 0.0001\n",
            "Train epoch 12: [0/250 (0%)]\tLoss: 6.434 |\tMSE loss: 0.025\n",
            "Train epoch 12: [160/250 (62%)]\tLoss: 8.342 |\tMSE loss: 0.033\n",
            "Test epoch 12: Average losses:\tLoss: 6.255 |\tMSE loss: 0.025 |\tPSNR value: 16.149 |\tSSIM value: 0.181\n",
            "\n",
            "Learning rate: 0.0001\n",
            "Train epoch 13: [0/250 (0%)]\tLoss: 5.674 |\tMSE loss: 0.022\n",
            "Train epoch 13: [160/250 (62%)]\tLoss: 6.144 |\tMSE loss: 0.024\n",
            "Test epoch 13: Average losses:\tLoss: 5.673 |\tMSE loss: 0.022 |\tPSNR value: 16.581 |\tSSIM value: 0.199\n",
            "\n",
            "Learning rate: 0.0001\n",
            "Train epoch 14: [0/250 (0%)]\tLoss: 3.204 |\tMSE loss: 0.013\n",
            "Train epoch 14: [160/250 (62%)]\tLoss: 3.314 |\tMSE loss: 0.013\n",
            "Test epoch 14: Average losses:\tLoss: 5.329 |\tMSE loss: 0.021 |\tPSNR value: 16.850 |\tSSIM value: 0.210\n",
            "\n",
            "Learning rate: 0.0001\n",
            "Train epoch 15: [0/250 (0%)]\tLoss: 3.913 |\tMSE loss: 0.015\n",
            "Train epoch 15: [160/250 (62%)]\tLoss: 5.534 |\tMSE loss: 0.022\n",
            "Test epoch 15: Average losses:\tLoss: 4.742 |\tMSE loss: 0.019 |\tPSNR value: 17.358 |\tSSIM value: 0.220\n",
            "\n",
            "Learning rate: 0.0001\n",
            "Train epoch 16: [0/250 (0%)]\tLoss: 6.733 |\tMSE loss: 0.026\n",
            "Train epoch 16: [160/250 (62%)]\tLoss: 3.047 |\tMSE loss: 0.012\n",
            "Test epoch 16: Average losses:\tLoss: 4.234 |\tMSE loss: 0.017 |\tPSNR value: 17.855 |\tSSIM value: 0.241\n",
            "\n",
            "Learning rate: 0.0001\n",
            "Train epoch 17: [0/250 (0%)]\tLoss: 2.751 |\tMSE loss: 0.011\n",
            "Train epoch 17: [160/250 (62%)]\tLoss: 4.033 |\tMSE loss: 0.016\n",
            "Test epoch 17: Average losses:\tLoss: 4.009 |\tMSE loss: 0.016 |\tPSNR value: 18.095 |\tSSIM value: 0.257\n",
            "\n",
            "Learning rate: 0.0001\n",
            "Train epoch 18: [0/250 (0%)]\tLoss: 4.180 |\tMSE loss: 0.016\n",
            "Train epoch 18: [160/250 (62%)]\tLoss: 4.545 |\tMSE loss: 0.018\n",
            "Test epoch 18: Average losses:\tLoss: 3.824 |\tMSE loss: 0.015 |\tPSNR value: 18.298 |\tSSIM value: 0.281\n",
            "\n",
            "Learning rate: 0.0001\n",
            "Train epoch 19: [0/250 (0%)]\tLoss: 1.461 |\tMSE loss: 0.006\n",
            "Train epoch 19: [160/250 (62%)]\tLoss: 3.704 |\tMSE loss: 0.015\n",
            "Test epoch 19: Average losses:\tLoss: 3.769 |\tMSE loss: 0.015 |\tPSNR value: 18.372 |\tSSIM value: 0.294\n",
            "\n",
            "Learning rate: 0.0001\n",
            "Train epoch 20: [0/250 (0%)]\tLoss: 2.877 |\tMSE loss: 0.011\n",
            "Train epoch 20: [160/250 (62%)]\tLoss: 2.146 |\tMSE loss: 0.008\n",
            "Test epoch 20: Average losses:\tLoss: 3.488 |\tMSE loss: 0.014 |\tPSNR value: 18.692 |\tSSIM value: 0.305\n",
            "\n",
            "Learning rate: 0.0001\n",
            "Train epoch 21: [0/250 (0%)]\tLoss: 4.701 |\tMSE loss: 0.018\n",
            "Train epoch 21: [160/250 (62%)]\tLoss: 3.220 |\tMSE loss: 0.013\n",
            "Test epoch 21: Average losses:\tLoss: 3.298 |\tMSE loss: 0.013 |\tPSNR value: 18.944 |\tSSIM value: 0.317\n",
            "\n",
            "Learning rate: 0.0001\n",
            "Train epoch 22: [0/250 (0%)]\tLoss: 3.519 |\tMSE loss: 0.014\n",
            "Train epoch 22: [160/250 (62%)]\tLoss: 5.023 |\tMSE loss: 0.020\n",
            "Test epoch 22: Average losses:\tLoss: 3.118 |\tMSE loss: 0.012 |\tPSNR value: 19.196 |\tSSIM value: 0.329\n",
            "\n",
            "Learning rate: 0.0001\n",
            "Train epoch 23: [0/250 (0%)]\tLoss: 2.620 |\tMSE loss: 0.010\n",
            "Train epoch 23: [160/250 (62%)]\tLoss: 2.773 |\tMSE loss: 0.011\n",
            "Test epoch 23: Average losses:\tLoss: 3.015 |\tMSE loss: 0.012 |\tPSNR value: 19.339 |\tSSIM value: 0.338\n",
            "\n",
            "Learning rate: 0.0001\n",
            "Train epoch 24: [0/250 (0%)]\tLoss: 3.028 |\tMSE loss: 0.012\n",
            "Train epoch 24: [160/250 (62%)]\tLoss: 1.515 |\tMSE loss: 0.006\n",
            "Test epoch 24: Average losses:\tLoss: 2.947 |\tMSE loss: 0.012 |\tPSNR value: 19.437 |\tSSIM value: 0.347\n",
            "\n",
            "Learning rate: 0.0001\n",
            "Train epoch 25: [0/250 (0%)]\tLoss: 1.486 |\tMSE loss: 0.006\n",
            "Train epoch 25: [160/250 (62%)]\tLoss: 2.357 |\tMSE loss: 0.009\n",
            "Test epoch 25: Average losses:\tLoss: 2.849 |\tMSE loss: 0.011 |\tPSNR value: 19.590 |\tSSIM value: 0.355\n",
            "\n",
            "Learning rate: 0.0001\n",
            "Train epoch 26: [0/250 (0%)]\tLoss: 1.998 |\tMSE loss: 0.008\n",
            "Train epoch 26: [160/250 (62%)]\tLoss: 3.205 |\tMSE loss: 0.013\n",
            "Test epoch 26: Average losses:\tLoss: 2.727 |\tMSE loss: 0.011 |\tPSNR value: 19.779 |\tSSIM value: 0.364\n",
            "\n",
            "Learning rate: 0.0001\n",
            "Train epoch 27: [0/250 (0%)]\tLoss: 2.029 |\tMSE loss: 0.008\n",
            "Train epoch 27: [160/250 (62%)]\tLoss: 2.287 |\tMSE loss: 0.009\n",
            "Test epoch 27: Average losses:\tLoss: 2.628 |\tMSE loss: 0.010 |\tPSNR value: 19.937 |\tSSIM value: 0.372\n",
            "\n",
            "Learning rate: 0.0001\n",
            "Train epoch 28: [0/250 (0%)]\tLoss: 1.611 |\tMSE loss: 0.006\n",
            "Train epoch 28: [160/250 (62%)]\tLoss: 2.278 |\tMSE loss: 0.009\n",
            "Test epoch 28: Average losses:\tLoss: 2.604 |\tMSE loss: 0.010 |\tPSNR value: 19.982 |\tSSIM value: 0.380\n",
            "\n",
            "Learning rate: 0.0001\n",
            "Train epoch 29: [0/250 (0%)]\tLoss: 1.581 |\tMSE loss: 0.006\n",
            "Train epoch 29: [160/250 (62%)]\tLoss: 1.405 |\tMSE loss: 0.006\n",
            "Test epoch 29: Average losses:\tLoss: 2.490 |\tMSE loss: 0.010 |\tPSNR value: 20.169 |\tSSIM value: 0.390\n",
            "\n"
          ]
        }
      ]
    },
    {
      "cell_type": "markdown",
      "source": [
        "#### 1.4.2.5 When learning rate = 1e-5"
      ],
      "metadata": {
        "id": "OuKXAedJUdAo"
      }
    },
    {
      "cell_type": "code",
      "source": [
        "def save_checkpoint3(state, is_best, filename=\"checkpoint3.pth.tar\"):\n",
        "    torch.save(state, filename)\n",
        "    if is_best:\n",
        "        shutil.copyfile(filename, \"checkpoint_best_loss3.pth.tar\")"
      ],
      "metadata": {
        "id": "YEJLFZeEUdAo"
      },
      "execution_count": null,
      "outputs": []
    },
    {
      "cell_type": "code",
      "source": [
        "learning_rate = 1e-5\n",
        "\n",
        "net = Network(N, M)\n",
        "net = net.to(device)\n",
        "optimizer = configure_optimizers(net, learning_rate)\n",
        "lr_scheduler = optim.lr_scheduler.ReduceLROnPlateau(optimizer, \"min\")\n",
        "criterion = Loss()\n",
        "\n",
        "last_epoch = 0\n",
        "if checkpoint:  # load from previous checkpoint\n",
        "    print(\"Loading\", checkpoint)\n",
        "    checkpoint = torch.load(checkpoint, map_location=device)\n",
        "    last_epoch = checkpoint[\"epoch\"] + 1\n",
        "    net.load_state_dict(checkpoint[\"state_dict\"])\n",
        "    optimizer.load_state_dict(checkpoint[\"optimizer\"])\n",
        "    lr_scheduler.load_state_dict(checkpoint[\"lr_scheduler\"])\n",
        "\n",
        "best_loss = float(\"inf\")\n",
        "\n",
        "loss_epoch3 = [] # set up a list to store the loss value after each epoch\n",
        "MSE_epoch3 = [] # set up a list to store the loss value after each epoch\n",
        "PSNR_epoch3 = [] # set up a list to store the loss value after each epoch\n",
        "ssim_epoch3 = [] # set up a list to store the loss value after each epoch\n",
        "\n",
        "for epoch in range(last_epoch, epochs):\n",
        "    print(f\"Learning rate: {optimizer.param_groups[0]['lr']}\")\n",
        "    train_one_epoch(\n",
        "        net,\n",
        "        criterion,\n",
        "        train_dataloader,\n",
        "        optimizer,\n",
        "        epoch,\n",
        "        clip_max_norm,\n",
        "    )\n",
        "    loss, mse_avg, psnr_avg, ssim_avg = test_epoch(epoch, test_dataloader, net, criterion)\n",
        "\n",
        "    loss_epoch3.append(loss) # save the loss value in the loss_epoch list\n",
        "    MSE_epoch3.append(mse_avg)\n",
        "    PSNR_epoch3.append(psnr_avg)\n",
        "    ssim_epoch3.append(ssim_avg)\n",
        "\n",
        "    lr_scheduler.step(loss)\n",
        "\n",
        "    is_best = loss < best_loss\n",
        "    best_loss = min(loss, best_loss)\n",
        "\n",
        "    if save:\n",
        "        save_checkpoint3(\n",
        "            {\n",
        "                \"epoch\": epoch,\n",
        "                \"state_dict\": net.state_dict(),\n",
        "                \"loss\": loss,\n",
        "                \"optimizer\": optimizer.state_dict(),\n",
        "                \"lr_scheduler\": lr_scheduler.state_dict(),\n",
        "            },\n",
        "            is_best,\n",
        "        )\n",
        "  "
      ],
      "metadata": {
        "colab": {
          "base_uri": "https://localhost:8080/"
        },
        "outputId": "63c1de32-3446-47aa-dc0c-46570474e729",
        "id": "ZoRciMu2UdAo"
      },
      "execution_count": null,
      "outputs": [
        {
          "output_type": "stream",
          "name": "stdout",
          "text": [
            "Learning rate: 1e-05\n"
          ]
        },
        {
          "output_type": "stream",
          "name": "stderr",
          "text": [
            "/usr/local/lib/python3.7/dist-packages/torch/utils/data/dataloader.py:490: UserWarning: This DataLoader will create 3 worker processes in total. Our suggested max number of worker in current system is 2, which is smaller than what this DataLoader is going to create. Please be aware that excessive worker creation might get DataLoader running slow or even freeze, lower the worker number to avoid potential slowness/freeze if necessary.\n",
            "  cpuset_checked))\n"
          ]
        },
        {
          "output_type": "stream",
          "name": "stdout",
          "text": [
            "Train epoch 0: [0/250 (0%)]\tLoss: 2925.478 |\tMSE loss: 11.472\n",
            "Train epoch 0: [160/250 (62%)]\tLoss: 1338.755 |\tMSE loss: 5.250\n",
            "Test epoch 0: Average losses:\tLoss: 933.554 |\tMSE loss: 3.661 |\tPSNR value: -5.628 |\tSSIM value: 0.000\n",
            "\n",
            "Learning rate: 1e-05\n",
            "Train epoch 1: [0/250 (0%)]\tLoss: 894.387 |\tMSE loss: 3.507\n",
            "Train epoch 1: [160/250 (62%)]\tLoss: 409.755 |\tMSE loss: 1.607\n",
            "Test epoch 1: Average losses:\tLoss: 373.398 |\tMSE loss: 1.464 |\tPSNR value: -1.648 |\tSSIM value: 0.001\n",
            "\n",
            "Learning rate: 1e-05\n",
            "Train epoch 2: [0/250 (0%)]\tLoss: 360.222 |\tMSE loss: 1.413\n",
            "Train epoch 2: [160/250 (62%)]\tLoss: 208.440 |\tMSE loss: 0.817\n",
            "Test epoch 2: Average losses:\tLoss: 206.059 |\tMSE loss: 0.808 |\tPSNR value: 0.944 |\tSSIM value: 0.002\n",
            "\n",
            "Learning rate: 1e-05\n",
            "Train epoch 3: [0/250 (0%)]\tLoss: 208.884 |\tMSE loss: 0.819\n",
            "Train epoch 3: [160/250 (62%)]\tLoss: 151.385 |\tMSE loss: 0.594\n",
            "Test epoch 3: Average losses:\tLoss: 144.681 |\tMSE loss: 0.567 |\tPSNR value: 2.488 |\tSSIM value: 0.003\n",
            "\n",
            "Learning rate: 1e-05\n",
            "Train epoch 4: [0/250 (0%)]\tLoss: 144.352 |\tMSE loss: 0.566\n",
            "Train epoch 4: [160/250 (62%)]\tLoss: 110.415 |\tMSE loss: 0.433\n",
            "Test epoch 4: Average losses:\tLoss: 109.772 |\tMSE loss: 0.430 |\tPSNR value: 3.693 |\tSSIM value: 0.005\n",
            "\n",
            "Learning rate: 1e-05\n",
            "Train epoch 5: [0/250 (0%)]\tLoss: 88.484 |\tMSE loss: 0.347\n",
            "Train epoch 5: [160/250 (62%)]\tLoss: 61.629 |\tMSE loss: 0.242\n",
            "Test epoch 5: Average losses:\tLoss: 85.737 |\tMSE loss: 0.336 |\tPSNR value: 4.773 |\tSSIM value: 0.008\n",
            "\n",
            "Learning rate: 1e-05\n",
            "Train epoch 6: [0/250 (0%)]\tLoss: 88.686 |\tMSE loss: 0.348\n",
            "Train epoch 6: [160/250 (62%)]\tLoss: 72.715 |\tMSE loss: 0.285\n",
            "Test epoch 6: Average losses:\tLoss: 69.126 |\tMSE loss: 0.271 |\tPSNR value: 5.716 |\tSSIM value: 0.010\n",
            "\n",
            "Learning rate: 1e-05\n",
            "Train epoch 7: [0/250 (0%)]\tLoss: 50.237 |\tMSE loss: 0.197\n",
            "Train epoch 7: [160/250 (62%)]\tLoss: 68.404 |\tMSE loss: 0.268\n",
            "Test epoch 7: Average losses:\tLoss: 57.421 |\tMSE loss: 0.225 |\tPSNR value: 6.530 |\tSSIM value: 0.014\n",
            "\n",
            "Learning rate: 1e-05\n",
            "Train epoch 8: [0/250 (0%)]\tLoss: 56.367 |\tMSE loss: 0.221\n",
            "Train epoch 8: [160/250 (62%)]\tLoss: 25.013 |\tMSE loss: 0.098\n",
            "Test epoch 8: Average losses:\tLoss: 48.948 |\tMSE loss: 0.192 |\tPSNR value: 7.227 |\tSSIM value: 0.018\n",
            "\n",
            "Learning rate: 1e-05\n",
            "Train epoch 9: [0/250 (0%)]\tLoss: 45.955 |\tMSE loss: 0.180\n",
            "Train epoch 9: [160/250 (62%)]\tLoss: 30.444 |\tMSE loss: 0.119\n",
            "Test epoch 9: Average losses:\tLoss: 42.870 |\tMSE loss: 0.168 |\tPSNR value: 7.804 |\tSSIM value: 0.022\n",
            "\n",
            "Learning rate: 1e-05\n",
            "Train epoch 10: [0/250 (0%)]\tLoss: 41.027 |\tMSE loss: 0.161\n",
            "Train epoch 10: [160/250 (62%)]\tLoss: 45.753 |\tMSE loss: 0.179\n",
            "Test epoch 10: Average losses:\tLoss: 38.412 |\tMSE loss: 0.151 |\tPSNR value: 8.282 |\tSSIM value: 0.027\n",
            "\n",
            "Learning rate: 1e-05\n",
            "Train epoch 11: [0/250 (0%)]\tLoss: 21.630 |\tMSE loss: 0.085\n",
            "Train epoch 11: [160/250 (62%)]\tLoss: 46.273 |\tMSE loss: 0.181\n",
            "Test epoch 11: Average losses:\tLoss: 34.945 |\tMSE loss: 0.137 |\tPSNR value: 8.691 |\tSSIM value: 0.032\n",
            "\n",
            "Learning rate: 1e-05\n",
            "Train epoch 12: [0/250 (0%)]\tLoss: 24.255 |\tMSE loss: 0.095\n",
            "Train epoch 12: [160/250 (62%)]\tLoss: 25.909 |\tMSE loss: 0.102\n",
            "Test epoch 12: Average losses:\tLoss: 32.126 |\tMSE loss: 0.126 |\tPSNR value: 9.054 |\tSSIM value: 0.036\n",
            "\n",
            "Learning rate: 1e-05\n",
            "Train epoch 13: [0/250 (0%)]\tLoss: 29.152 |\tMSE loss: 0.114\n",
            "Train epoch 13: [160/250 (62%)]\tLoss: 22.179 |\tMSE loss: 0.087\n",
            "Test epoch 13: Average losses:\tLoss: 29.930 |\tMSE loss: 0.117 |\tPSNR value: 9.361 |\tSSIM value: 0.040\n",
            "\n",
            "Learning rate: 1e-05\n",
            "Train epoch 14: [0/250 (0%)]\tLoss: 24.523 |\tMSE loss: 0.096\n",
            "Train epoch 14: [160/250 (62%)]\tLoss: 25.258 |\tMSE loss: 0.099\n",
            "Test epoch 14: Average losses:\tLoss: 28.180 |\tMSE loss: 0.111 |\tPSNR value: 9.621 |\tSSIM value: 0.043\n",
            "\n",
            "Learning rate: 1e-05\n",
            "Train epoch 15: [0/250 (0%)]\tLoss: 18.573 |\tMSE loss: 0.073\n",
            "Train epoch 15: [160/250 (62%)]\tLoss: 26.359 |\tMSE loss: 0.103\n",
            "Test epoch 15: Average losses:\tLoss: 26.488 |\tMSE loss: 0.104 |\tPSNR value: 9.889 |\tSSIM value: 0.046\n",
            "\n",
            "Learning rate: 1e-05\n",
            "Train epoch 16: [0/250 (0%)]\tLoss: 26.863 |\tMSE loss: 0.105\n",
            "Train epoch 16: [160/250 (62%)]\tLoss: 35.035 |\tMSE loss: 0.137\n",
            "Test epoch 16: Average losses:\tLoss: 25.062 |\tMSE loss: 0.098 |\tPSNR value: 10.128 |\tSSIM value: 0.050\n",
            "\n",
            "Learning rate: 1e-05\n",
            "Train epoch 17: [0/250 (0%)]\tLoss: 20.244 |\tMSE loss: 0.079\n",
            "Train epoch 17: [160/250 (62%)]\tLoss: 21.065 |\tMSE loss: 0.083\n",
            "Test epoch 17: Average losses:\tLoss: 23.520 |\tMSE loss: 0.092 |\tPSNR value: 10.401 |\tSSIM value: 0.054\n",
            "\n",
            "Learning rate: 1e-05\n",
            "Train epoch 18: [0/250 (0%)]\tLoss: 25.900 |\tMSE loss: 0.102\n",
            "Train epoch 18: [160/250 (62%)]\tLoss: 14.973 |\tMSE loss: 0.059\n",
            "Test epoch 18: Average losses:\tLoss: 22.125 |\tMSE loss: 0.087 |\tPSNR value: 10.666 |\tSSIM value: 0.057\n",
            "\n",
            "Learning rate: 1e-05\n",
            "Train epoch 19: [0/250 (0%)]\tLoss: 23.551 |\tMSE loss: 0.092\n",
            "Train epoch 19: [160/250 (62%)]\tLoss: 14.535 |\tMSE loss: 0.057\n",
            "Test epoch 19: Average losses:\tLoss: 20.937 |\tMSE loss: 0.082 |\tPSNR value: 10.903 |\tSSIM value: 0.061\n",
            "\n",
            "Learning rate: 1e-05\n",
            "Train epoch 20: [0/250 (0%)]\tLoss: 18.131 |\tMSE loss: 0.071\n"
          ]
        },
        {
          "output_type": "stream",
          "name": "stderr",
          "text": [
            "Exception ignored in: <function _MultiProcessingDataLoaderIter.__del__ at 0x7f1f0efbf5f0>\n",
            "Traceback (most recent call last):\n",
            "  File \"/usr/local/lib/python3.7/dist-packages/torch/utils/data/dataloader.py\", line 1358, in __del__\n",
            "    self._shutdown_workers()\n",
            "  File \"/usr/local/lib/python3.7/dist-packages/torch/utils/data/dataloader.py\", line 1341, in _shutdown_workers\n",
            "    if w.is_alive():\n",
            "  File \"/usr/lib/python3.7/multiprocessing/process.py\", line 151, in is_alive\n",
            "    assert self._parent_pid == os.getpid(), 'can only test a child process'\n",
            "AssertionError: can only test a child process\n",
            "Exception ignored in: <function _MultiProcessingDataLoaderIter.__del__ at 0x7f1f0efbf5f0>\n",
            "Traceback (most recent call last):\n",
            "  File \"/usr/local/lib/python3.7/dist-packages/torch/utils/data/dataloader.py\", line 1358, in __del__\n",
            "    self._shutdown_workers()\n",
            "  File \"/usr/local/lib/python3.7/dist-packages/torch/utils/data/dataloader.py\", line 1341, in _shutdown_workers\n",
            "    if w.is_alive():\n",
            "  File \"/usr/lib/python3.7/multiprocessing/process.py\", line 151, in is_alive\n",
            "    assert self._parent_pid == os.getpid(), 'can only test a child process'\n",
            "AssertionError: can only test a child process\n"
          ]
        },
        {
          "output_type": "stream",
          "name": "stdout",
          "text": [
            "Train epoch 20: [160/250 (62%)]\tLoss: 18.717 |\tMSE loss: 0.073\n"
          ]
        },
        {
          "output_type": "stream",
          "name": "stderr",
          "text": [
            "Exception ignored in: <function _MultiProcessingDataLoaderIter.__del__ at 0x7f1f0efbf5f0>\n",
            "Traceback (most recent call last):\n",
            "  File \"/usr/local/lib/python3.7/dist-packages/torch/utils/data/dataloader.py\", line 1358, in __del__\n",
            "    self._shutdown_workers()\n",
            "  File \"/usr/local/lib/python3.7/dist-packages/torch/utils/data/dataloader.py\", line 1341, in _shutdown_workers\n",
            "    if w.is_alive():\n",
            "  File \"/usr/lib/python3.7/multiprocessing/process.py\", line 151, in is_alive\n",
            "    assert self._parent_pid == os.getpid(), 'can only test a child process'\n",
            "AssertionError: can only test a child process\n",
            "Exception ignored in: <function _MultiProcessingDataLoaderIter.__del__ at 0x7f1f0efbf5f0>\n",
            "Traceback (most recent call last):\n",
            "  File \"/usr/local/lib/python3.7/dist-packages/torch/utils/data/dataloader.py\", line 1358, in __del__\n",
            "    self._shutdown_workers()\n",
            "  File \"/usr/local/lib/python3.7/dist-packages/torch/utils/data/dataloader.py\", line 1341, in _shutdown_workers\n",
            "    if w.is_alive():\n",
            "  File \"/usr/lib/python3.7/multiprocessing/process.py\", line 151, in is_alive\n",
            "    assert self._parent_pid == os.getpid(), 'can only test a child process'\n",
            "AssertionError: can only test a child process\n",
            "Exception ignored in: <function _MultiProcessingDataLoaderIter.__del__ at 0x7f1f0efbf5f0>\n",
            "Traceback (most recent call last):\n",
            "  File \"/usr/local/lib/python3.7/dist-packages/torch/utils/data/dataloader.py\", line 1358, in __del__\n",
            "    self._shutdown_workers()\n",
            "  File \"/usr/local/lib/python3.7/dist-packages/torch/utils/data/dataloader.py\", line 1341, in _shutdown_workers\n",
            "    if w.is_alive():\n",
            "  File \"/usr/lib/python3.7/multiprocessing/process.py\", line 151, in is_alive\n",
            "    assert self._parent_pid == os.getpid(), 'can only test a child process'\n",
            "AssertionError: can only test a child process\n",
            "Exception ignored in: <function _MultiProcessingDataLoaderIter.__del__ at 0x7f1f0efbf5f0>\n",
            "Traceback (most recent call last):\n",
            "  File \"/usr/local/lib/python3.7/dist-packages/torch/utils/data/dataloader.py\", line 1358, in __del__\n",
            "    self._shutdown_workers()\n",
            "  File \"/usr/local/lib/python3.7/dist-packages/torch/utils/data/dataloader.py\", line 1341, in _shutdown_workers\n",
            "    if w.is_alive():\n",
            "  File \"/usr/lib/python3.7/multiprocessing/process.py\", line 151, in is_alive\n",
            "    assert self._parent_pid == os.getpid(), 'can only test a child process'\n",
            "AssertionError: can only test a child process\n"
          ]
        },
        {
          "output_type": "stream",
          "name": "stdout",
          "text": [
            "Test epoch 20: Average losses:\tLoss: 20.017 |\tMSE loss: 0.078 |\tPSNR value: 11.099 |\tSSIM value: 0.064\n",
            "\n",
            "Learning rate: 1e-05\n",
            "Train epoch 21: [0/250 (0%)]\tLoss: 25.286 |\tMSE loss: 0.099\n"
          ]
        },
        {
          "output_type": "stream",
          "name": "stderr",
          "text": [
            "Exception ignored in: <function _MultiProcessingDataLoaderIter.__del__ at 0x7f1f0efbf5f0>\n",
            "Traceback (most recent call last):\n",
            "  File \"/usr/local/lib/python3.7/dist-packages/torch/utils/data/dataloader.py\", line 1358, in __del__\n",
            "    self._shutdown_workers()\n",
            "  File \"/usr/local/lib/python3.7/dist-packages/torch/utils/data/dataloader.py\", line 1341, in _shutdown_workers\n",
            "  File \"/usr/lib/python3.7/multiprocessing/process.py\", line 151, in is_alive\n",
            "    if w.is_alive():\n",
            "    assert self._parent_pid == os.getpid(), 'can only test a child process'\n",
            "AssertionError: can only test a child process\n",
            "Exception ignored in: <function _MultiProcessingDataLoaderIter.__del__ at 0x7f1f0efbf5f0>\n",
            "Traceback (most recent call last):\n",
            "  File \"/usr/local/lib/python3.7/dist-packages/torch/utils/data/dataloader.py\", line 1358, in __del__\n",
            "    self._shutdown_workers()\n",
            "  File \"/usr/local/lib/python3.7/dist-packages/torch/utils/data/dataloader.py\", line 1341, in _shutdown_workers\n",
            "    if w.is_alive():\n",
            "  File \"/usr/lib/python3.7/multiprocessing/process.py\", line 151, in is_alive\n",
            "    assert self._parent_pid == os.getpid(), 'can only test a child process'\n",
            "AssertionError: can only test a child process\n",
            "Exception ignored in: <function _MultiProcessingDataLoaderIter.__del__ at 0x7f1f0efbf5f0>\n",
            "Traceback (most recent call last):\n",
            "  File \"/usr/local/lib/python3.7/dist-packages/torch/utils/data/dataloader.py\", line 1358, in __del__\n",
            "    self._shutdown_workers()\n",
            "  File \"/usr/local/lib/python3.7/dist-packages/torch/utils/data/dataloader.py\", line 1341, in _shutdown_workers\n",
            "    if w.is_alive():\n",
            "  File \"/usr/lib/python3.7/multiprocessing/process.py\", line 151, in is_alive\n",
            "    assert self._parent_pid == os.getpid(), 'can only test a child process'\n",
            "AssertionError: can only test a child process\n",
            "Exception ignored in: <function _MultiProcessingDataLoaderIter.__del__ at 0x7f1f0efbf5f0>\n",
            "Traceback (most recent call last):\n",
            "  File \"/usr/local/lib/python3.7/dist-packages/torch/utils/data/dataloader.py\", line 1358, in __del__\n",
            "    self._shutdown_workers()\n",
            "  File \"/usr/local/lib/python3.7/dist-packages/torch/utils/data/dataloader.py\", line 1341, in _shutdown_workers\n",
            "    if w.is_alive():\n",
            "  File \"/usr/lib/python3.7/multiprocessing/process.py\", line 151, in is_alive\n",
            "    assert self._parent_pid == os.getpid(), 'can only test a child process'\n",
            "AssertionError: can only test a child process\n",
            "Exception ignored in: <function _MultiProcessingDataLoaderIter.__del__ at 0x7f1f0efbf5f0>\n",
            "Traceback (most recent call last):\n",
            "  File \"/usr/local/lib/python3.7/dist-packages/torch/utils/data/dataloader.py\", line 1358, in __del__\n",
            "    self._shutdown_workers()\n",
            "  File \"/usr/local/lib/python3.7/dist-packages/torch/utils/data/dataloader.py\", line 1341, in _shutdown_workers\n",
            "    if w.is_alive():\n",
            "  File \"/usr/lib/python3.7/multiprocessing/process.py\", line 151, in is_alive\n",
            "    assert self._parent_pid == os.getpid(), 'can only test a child process'\n",
            "AssertionError: can only test a child process\n",
            "Exception ignored in: <function _MultiProcessingDataLoaderIter.__del__ at 0x7f1f0efbf5f0>\n",
            "Traceback (most recent call last):\n",
            "  File \"/usr/local/lib/python3.7/dist-packages/torch/utils/data/dataloader.py\", line 1358, in __del__\n",
            "    self._shutdown_workers()\n",
            "  File \"/usr/local/lib/python3.7/dist-packages/torch/utils/data/dataloader.py\", line 1341, in _shutdown_workers\n",
            "    if w.is_alive():\n",
            "  File \"/usr/lib/python3.7/multiprocessing/process.py\", line 151, in is_alive\n",
            "    assert self._parent_pid == os.getpid(), 'can only test a child process'\n",
            "AssertionError: can only test a child process\n"
          ]
        },
        {
          "output_type": "stream",
          "name": "stdout",
          "text": [
            "Train epoch 21: [160/250 (62%)]\tLoss: 12.513 |\tMSE loss: 0.049\n",
            "Test epoch 21: Average losses:\tLoss: 18.961 |\tMSE loss: 0.074 |\tPSNR value: 11.333 |\tSSIM value: 0.067\n",
            "\n",
            "Learning rate: 1e-05\n",
            "Train epoch 22: [0/250 (0%)]\tLoss: 12.776 |\tMSE loss: 0.050\n"
          ]
        },
        {
          "output_type": "stream",
          "name": "stderr",
          "text": [
            "Exception ignored in: <function _MultiProcessingDataLoaderIter.__del__ at 0x7f1f0efbf5f0>\n",
            "Traceback (most recent call last):\n",
            "  File \"/usr/local/lib/python3.7/dist-packages/torch/utils/data/dataloader.py\", line 1358, in __del__\n",
            "    self._shutdown_workers()\n",
            "  File \"/usr/local/lib/python3.7/dist-packages/torch/utils/data/dataloader.py\", line 1341, in _shutdown_workers\n",
            "    if w.is_alive():\n",
            "  File \"/usr/lib/python3.7/multiprocessing/process.py\", line 151, in is_alive\n",
            "    assert self._parent_pid == os.getpid(), 'can only test a child process'\n",
            "AssertionError: can only test a child process\n",
            "Exception ignored in: <function _MultiProcessingDataLoaderIter.__del__ at 0x7f1f0efbf5f0>\n",
            "Traceback (most recent call last):\n",
            "  File \"/usr/local/lib/python3.7/dist-packages/torch/utils/data/dataloader.py\", line 1358, in __del__\n",
            "    self._shutdown_workers()\n",
            "  File \"/usr/local/lib/python3.7/dist-packages/torch/utils/data/dataloader.py\", line 1341, in _shutdown_workers\n",
            "    if w.is_alive():\n",
            "  File \"/usr/lib/python3.7/multiprocessing/process.py\", line 151, in is_alive\n",
            "    assert self._parent_pid == os.getpid(), 'can only test a child process'\n",
            "AssertionError: can only test a child process\n",
            "Exception ignored in: <function _MultiProcessingDataLoaderIter.__del__ at 0x7f1f0efbf5f0>\n",
            "Traceback (most recent call last):\n",
            "  File \"/usr/local/lib/python3.7/dist-packages/torch/utils/data/dataloader.py\", line 1358, in __del__\n",
            "    self._shutdown_workers()\n",
            "  File \"/usr/local/lib/python3.7/dist-packages/torch/utils/data/dataloader.py\", line 1341, in _shutdown_workers\n",
            "    if w.is_alive():\n",
            "  File \"/usr/lib/python3.7/multiprocessing/process.py\", line 151, in is_alive\n",
            "    assert self._parent_pid == os.getpid(), 'can only test a child process'\n",
            "AssertionError: can only test a child process\n",
            "Exception ignored in: <function _MultiProcessingDataLoaderIter.__del__ at 0x7f1f0efbf5f0>\n",
            "Traceback (most recent call last):\n",
            "  File \"/usr/local/lib/python3.7/dist-packages/torch/utils/data/dataloader.py\", line 1358, in __del__\n",
            "    self._shutdown_workers()\n",
            "  File \"/usr/local/lib/python3.7/dist-packages/torch/utils/data/dataloader.py\", line 1341, in _shutdown_workers\n",
            "    if w.is_alive():\n",
            "  File \"/usr/lib/python3.7/multiprocessing/process.py\", line 151, in is_alive\n",
            "    assert self._parent_pid == os.getpid(), 'can only test a child process'\n",
            "AssertionError: can only test a child process\n",
            "Exception ignored in: <function _MultiProcessingDataLoaderIter.__del__ at 0x7f1f0efbf5f0>\n",
            "Traceback (most recent call last):\n",
            "  File \"/usr/local/lib/python3.7/dist-packages/torch/utils/data/dataloader.py\", line 1358, in __del__\n",
            "    self._shutdown_workers()\n",
            "  File \"/usr/local/lib/python3.7/dist-packages/torch/utils/data/dataloader.py\", line 1341, in _shutdown_workers\n",
            "    if w.is_alive():\n",
            "  File \"/usr/lib/python3.7/multiprocessing/process.py\", line 151, in is_alive\n",
            "    assert self._parent_pid == os.getpid(), 'can only test a child process'\n",
            "AssertionError: can only test a child process\n",
            "Exception ignored in: <function _MultiProcessingDataLoaderIter.__del__ at 0x7f1f0efbf5f0>\n",
            "Traceback (most recent call last):\n",
            "  File \"/usr/local/lib/python3.7/dist-packages/torch/utils/data/dataloader.py\", line 1358, in __del__\n",
            "    self._shutdown_workers()\n",
            "  File \"/usr/local/lib/python3.7/dist-packages/torch/utils/data/dataloader.py\", line 1341, in _shutdown_workers\n",
            "    if w.is_alive():\n",
            "  File \"/usr/lib/python3.7/multiprocessing/process.py\", line 151, in is_alive\n",
            "    assert self._parent_pid == os.getpid(), 'can only test a child process'\n",
            "AssertionError: can only test a child process\n"
          ]
        },
        {
          "output_type": "stream",
          "name": "stdout",
          "text": [
            "Train epoch 22: [160/250 (62%)]\tLoss: 13.178 |\tMSE loss: 0.052\n",
            "Test epoch 22: Average losses:\tLoss: 18.066 |\tMSE loss: 0.071 |\tPSNR value: 11.541 |\tSSIM value: 0.070\n",
            "\n",
            "Learning rate: 1e-05\n"
          ]
        },
        {
          "output_type": "stream",
          "name": "stderr",
          "text": [
            "Exception ignored in: <function _MultiProcessingDataLoaderIter.__del__ at 0x7f1f0efbf5f0>\n",
            "Traceback (most recent call last):\n",
            "  File \"/usr/local/lib/python3.7/dist-packages/torch/utils/data/dataloader.py\", line 1358, in __del__\n",
            "    self._shutdown_workers()\n",
            "  File \"/usr/local/lib/python3.7/dist-packages/torch/utils/data/dataloader.py\", line 1341, in _shutdown_workers\n",
            "    if w.is_alive():\n",
            "  File \"/usr/lib/python3.7/multiprocessing/process.py\", line 151, in is_alive\n",
            "    assert self._parent_pid == os.getpid(), 'can only test a child process'\n",
            "AssertionError: can only test a child process\n",
            "Exception ignored in: <function _MultiProcessingDataLoaderIter.__del__ at 0x7f1f0efbf5f0>\n",
            "Traceback (most recent call last):\n",
            "  File \"/usr/local/lib/python3.7/dist-packages/torch/utils/data/dataloader.py\", line 1358, in __del__\n",
            "    self._shutdown_workers()\n",
            "  File \"/usr/local/lib/python3.7/dist-packages/torch/utils/data/dataloader.py\", line 1341, in _shutdown_workers\n",
            "    if w.is_alive():\n",
            "  File \"/usr/lib/python3.7/multiprocessing/process.py\", line 151, in is_alive\n",
            "    assert self._parent_pid == os.getpid(), 'can only test a child process'\n",
            "AssertionError: can only test a child process\n",
            "Exception ignored in: <function _MultiProcessingDataLoaderIter.__del__ at 0x7f1f0efbf5f0>\n",
            "Traceback (most recent call last):\n",
            "  File \"/usr/local/lib/python3.7/dist-packages/torch/utils/data/dataloader.py\", line 1358, in __del__\n",
            "    self._shutdown_workers()\n",
            "  File \"/usr/local/lib/python3.7/dist-packages/torch/utils/data/dataloader.py\", line 1341, in _shutdown_workers\n",
            "    if w.is_alive():\n",
            "  File \"/usr/lib/python3.7/multiprocessing/process.py\", line 151, in is_alive\n",
            "    assert self._parent_pid == os.getpid(), 'can only test a child process'\n",
            "AssertionError: can only test a child process\n",
            "Exception ignored in: <function _MultiProcessingDataLoaderIter.__del__ at 0x7f1f0efbf5f0>\n",
            "Traceback (most recent call last):\n",
            "  File \"/usr/local/lib/python3.7/dist-packages/torch/utils/data/dataloader.py\", line 1358, in __del__\n",
            "    self._shutdown_workers()\n",
            "Traceback (most recent call last):\n",
            "  File \"/usr/local/lib/python3.7/dist-packages/torch/utils/data/dataloader.py\", line 1341, in _shutdown_workers\n",
            "  File \"/usr/lib/python3.7/multiprocessing/queues.py\", line 242, in _feed\n",
            "    send_bytes(obj)\n",
            "  File \"/usr/lib/python3.7/multiprocessing/connection.py\", line 200, in send_bytes\n",
            "    self._send_bytes(m[offset:offset + size])\n",
            "    if w.is_alive():\n",
            "  File \"/usr/lib/python3.7/multiprocessing/connection.py\", line 404, in _send_bytes\n",
            "    self._send(header + buf)\n",
            "  File \"/usr/lib/python3.7/multiprocessing/connection.py\", line 368, in _send\n",
            "    n = write(self._handle, buf)\n",
            "Exception ignored in: <function _MultiProcessingDataLoaderIter.__del__ at 0x7f1f0efbf5f0>\n",
            "  File \"/usr/lib/python3.7/multiprocessing/process.py\", line 151, in is_alive\n",
            "Traceback (most recent call last):\n",
            "BrokenPipeError: [Errno 32] Broken pipe\n",
            "  File \"/usr/local/lib/python3.7/dist-packages/torch/utils/data/dataloader.py\", line 1358, in __del__\n",
            "    assert self._parent_pid == os.getpid(), 'can only test a child process'\n",
            "    self._shutdown_workers()\n",
            "AssertionError: can only test a child process\n",
            "  File \"/usr/local/lib/python3.7/dist-packages/torch/utils/data/dataloader.py\", line 1341, in _shutdown_workers\n",
            "    if w.is_alive():\n",
            "  File \"/usr/lib/python3.7/multiprocessing/process.py\", line 151, in is_alive\n",
            "    assert self._parent_pid == os.getpid(), 'can only test a child process'\n",
            "AssertionError: can only test a child process\n",
            "Traceback (most recent call last):\n",
            "  File \"/usr/lib/python3.7/multiprocessing/queues.py\", line 242, in _feed\n",
            "    send_bytes(obj)\n",
            "Exception ignored in: <function _MultiProcessingDataLoaderIter.__del__ at 0x7f1f0efbf5f0>\n",
            "  File \"/usr/lib/python3.7/multiprocessing/connection.py\", line 200, in send_bytes\n",
            "    self._send_bytes(m[offset:offset + size])\n",
            "Traceback (most recent call last):\n",
            "  File \"/usr/local/lib/python3.7/dist-packages/torch/utils/data/dataloader.py\", line 1358, in __del__\n",
            "  File \"/usr/lib/python3.7/multiprocessing/connection.py\", line 404, in _send_bytes\n",
            "    self._send(header + buf)\n",
            "  File \"/usr/lib/python3.7/multiprocessing/connection.py\", line 368, in _send\n",
            "    n = write(self._handle, buf)\n",
            "    self._shutdown_workers()\n",
            "BrokenPipeError: [Errno 32] Broken pipe\n",
            "  File \"/usr/local/lib/python3.7/dist-packages/torch/utils/data/dataloader.py\", line 1341, in _shutdown_workers\n",
            "    if w.is_alive():\n",
            "  File \"/usr/lib/python3.7/multiprocessing/process.py\", line 151, in is_alive\n",
            "    assert self._parent_pid == os.getpid(), 'can only test a child process'\n",
            "AssertionError: can only test a child process\n"
          ]
        },
        {
          "output_type": "stream",
          "name": "stdout",
          "text": [
            "Train epoch 23: [0/250 (0%)]\tLoss: 14.468 |\tMSE loss: 0.057\n",
            "Train epoch 23: [160/250 (62%)]\tLoss: 19.478 |\tMSE loss: 0.076\n",
            "Test epoch 23: Average losses:\tLoss: 17.373 |\tMSE loss: 0.068 |\tPSNR value: 11.710 |\tSSIM value: 0.073\n",
            "\n",
            "Learning rate: 1e-05\n",
            "Train epoch 24: [0/250 (0%)]\tLoss: 23.834 |\tMSE loss: 0.093\n",
            "Train epoch 24: [160/250 (62%)]\tLoss: 15.310 |\tMSE loss: 0.060\n",
            "Test epoch 24: Average losses:\tLoss: 16.621 |\tMSE loss: 0.065 |\tPSNR value: 11.902 |\tSSIM value: 0.076\n",
            "\n",
            "Learning rate: 1e-05\n",
            "Train epoch 25: [0/250 (0%)]\tLoss: 14.275 |\tMSE loss: 0.056\n",
            "Train epoch 25: [160/250 (62%)]\tLoss: 8.759 |\tMSE loss: 0.034\n",
            "Test epoch 25: Average losses:\tLoss: 15.998 |\tMSE loss: 0.063 |\tPSNR value: 12.068 |\tSSIM value: 0.079\n",
            "\n",
            "Learning rate: 1e-05\n",
            "Train epoch 26: [0/250 (0%)]\tLoss: 12.690 |\tMSE loss: 0.050\n",
            "Train epoch 26: [160/250 (62%)]\tLoss: 10.919 |\tMSE loss: 0.043\n",
            "Test epoch 26: Average losses:\tLoss: 15.373 |\tMSE loss: 0.060 |\tPSNR value: 12.241 |\tSSIM value: 0.082\n",
            "\n",
            "Learning rate: 1e-05\n",
            "Train epoch 27: [0/250 (0%)]\tLoss: 16.826 |\tMSE loss: 0.066\n",
            "Train epoch 27: [160/250 (62%)]\tLoss: 14.885 |\tMSE loss: 0.058\n",
            "Test epoch 27: Average losses:\tLoss: 14.791 |\tMSE loss: 0.058 |\tPSNR value: 12.409 |\tSSIM value: 0.085\n",
            "\n",
            "Learning rate: 1e-05\n",
            "Train epoch 28: [0/250 (0%)]\tLoss: 15.791 |\tMSE loss: 0.062\n",
            "Train epoch 28: [160/250 (62%)]\tLoss: 20.517 |\tMSE loss: 0.080\n",
            "Test epoch 28: Average losses:\tLoss: 14.306 |\tMSE loss: 0.056 |\tPSNR value: 12.553 |\tSSIM value: 0.087\n",
            "\n",
            "Learning rate: 1e-05\n",
            "Train epoch 29: [0/250 (0%)]\tLoss: 8.543 |\tMSE loss: 0.034\n",
            "Train epoch 29: [160/250 (62%)]\tLoss: 12.914 |\tMSE loss: 0.051\n",
            "Test epoch 29: Average losses:\tLoss: 13.894 |\tMSE loss: 0.054 |\tPSNR value: 12.680 |\tSSIM value: 0.088\n",
            "\n"
          ]
        }
      ]
    },
    {
      "cell_type": "markdown",
      "source": [
        "#### 1.4.2.6 Combine all the results for different learning rates"
      ],
      "metadata": {
        "id": "PZVE24QqUdAo"
      }
    },
    {
      "cell_type": "code",
      "source": [
        "\n",
        "combine_loss = [loss_epoch,loss_epoch2,loss_epoch3]\n",
        "\n",
        "combine_mse = [MSE_epoch,MSE_epoch2,MSE_epoch3]\n",
        "\n",
        "combine_psnr = [PSNR_epoch,PSNR_epoch2,PSNR_epoch3]\n",
        "\n",
        "combine_ssim = [ssim_epoch,ssim_epoch2,ssim_epoch3]"
      ],
      "metadata": {
        "id": "p3h37H56UdAo"
      },
      "execution_count": null,
      "outputs": []
    },
    {
      "cell_type": "code",
      "source": [
        "from matplotlib import pyplot as plt\n",
        "\n",
        "xs = list(range(1, epochs+1))\n",
        "print(xs)\n",
        "print(type(xs))\n",
        "print(loss_epoch)\n",
        "print(type(loss_epoch))\n",
        "\n",
        "for i in range(0,len(loss_epoch)):\n",
        "  loss_epoch[i] = loss_epoch[i].cpu().item()\n",
        "\n",
        "print(loss_epoch)\n",
        "print(type(loss_epoch))"
      ],
      "metadata": {
        "colab": {
          "base_uri": "https://localhost:8080/"
        },
        "outputId": "328628ea-618c-4834-ba9e-d22afbd35624",
        "id": "hKWbZsA0UdAo"
      },
      "execution_count": null,
      "outputs": [
        {
          "output_type": "stream",
          "name": "stdout",
          "text": [
            "[1, 2, 3, 4, 5, 6, 7, 8, 9, 10, 11, 12, 13, 14, 15, 16, 17, 18, 19, 20, 21, 22, 23, 24, 25, 26, 27, 28, 29, 30]\n",
            "<class 'list'>\n",
            "[tensor(45.0099, device='cuda:0'), tensor(31.4007, device='cuda:0'), tensor(23.0624, device='cuda:0'), tensor(13.7672, device='cuda:0'), tensor(20.5083, device='cuda:0'), tensor(5.8127, device='cuda:0'), tensor(10.8014, device='cuda:0'), tensor(7.4803, device='cuda:0'), tensor(8.5556, device='cuda:0'), tensor(5.3381, device='cuda:0'), tensor(4.5300, device='cuda:0'), tensor(7.4341, device='cuda:0'), tensor(4.2812, device='cuda:0'), tensor(5.7816, device='cuda:0'), tensor(3.9711, device='cuda:0'), tensor(3.0827, device='cuda:0'), tensor(2.7934, device='cuda:0'), tensor(2.9334, device='cuda:0'), tensor(2.7390, device='cuda:0'), tensor(2.2267, device='cuda:0'), tensor(2.4491, device='cuda:0'), tensor(2.3572, device='cuda:0'), tensor(2.1657, device='cuda:0'), tensor(1.6249, device='cuda:0'), tensor(1.5722, device='cuda:0'), tensor(1.8933, device='cuda:0'), tensor(3.2336, device='cuda:0'), tensor(1.5542, device='cuda:0'), tensor(2.5379, device='cuda:0'), tensor(1.6201, device='cuda:0')]\n",
            "<class 'list'>\n",
            "[45.009918212890625, 31.400657653808594, 23.062429428100586, 13.767240524291992, 20.508338928222656, 5.8126678466796875, 10.801405906677246, 7.480344772338867, 8.55555248260498, 5.338102340698242, 4.529993534088135, 7.434106349945068, 4.281155109405518, 5.78164005279541, 3.97113299369812, 3.082703113555908, 2.7934350967407227, 2.9334371089935303, 2.739008665084839, 2.226743698120117, 2.44913911819458, 2.3571834564208984, 2.165748119354248, 1.624921202659607, 1.5722240209579468, 1.8932783603668213, 3.2336440086364746, 1.5542049407958984, 2.5379018783569336, 1.6200981140136719]\n",
            "<class 'list'>\n"
          ]
        }
      ]
    },
    {
      "cell_type": "code",
      "source": [
        "for i in range(0,len(loss_epoch2)):\n",
        "  loss_epoch2[i] = loss_epoch2[i].cpu().item()\n",
        "\n",
        "for i in range(0,len(loss_epoch3)):\n",
        "  loss_epoch3[i] = loss_epoch3[i].cpu().item()\n",
        "\n",
        "for i in range(0,len(MSE_epoch)):\n",
        "  MSE_epoch[i] = MSE_epoch[i].cpu().item()\n",
        "print(MSE_epoch)\n",
        "print(type(MSE_epoch))\n",
        "\n",
        "for i in range(0,len(MSE_epoch2)):\n",
        "  MSE_epoch2[i] = MSE_epoch2[i].cpu().item()\n",
        "\n",
        "for i in range(0,len(MSE_epoch3)):\n",
        "  MSE_epoch3[i] = MSE_epoch3[i].cpu().item()\n",
        "\n",
        "for i in range(0,len(PSNR_epoch)):\n",
        "  PSNR_epoch[i] = PSNR_epoch[i].cpu().item()\n",
        "print(PSNR_epoch)\n",
        "print(type(PSNR_epoch))\n",
        "\n",
        "for i in range(0,len(PSNR_epoch2)):\n",
        "  PSNR_epoch2[i] = PSNR_epoch2[i].cpu().item()\n",
        "\n",
        "for i in range(0,len(PSNR_epoch3)):\n",
        "  PSNR_epoch3[i] = PSNR_epoch3[i].cpu().item()\n"
      ],
      "metadata": {
        "colab": {
          "base_uri": "https://localhost:8080/"
        },
        "outputId": "dc424503-092d-442c-c374-3a39b88f1bdc",
        "id": "PoM05GARUdAo"
      },
      "execution_count": null,
      "outputs": [
        {
          "output_type": "stream",
          "name": "stdout",
          "text": [
            "[0.17650949954986572, 0.12313982844352722, 0.09044089913368225, 0.05398917198181152, 0.08042486011981964, 0.022794775664806366, 0.04235845431685448, 0.02933468483388424, 0.033551186323165894, 0.020933736115694046, 0.017764680087566376, 0.029153358191251755, 0.016788844019174576, 0.022673100233078003, 0.015573069453239441, 0.012089031748473644, 0.01095464825630188, 0.0115036740899086, 0.010741211473941803, 0.008732328191399574, 0.009604467079043388, 0.009243857115507126, 0.008493129163980484, 0.006372240372002125, 0.006165584083646536, 0.007424620911478996, 0.012680955231189728, 0.006094921380281448, 0.009952555410563946, 0.006353326141834259]\n",
            "<class 'list'>\n",
            "[7.561656951904297, 9.101018905639648, 10.449617385864258, 12.688203811645508, 10.949348449707031, 16.437522888183594, 13.756561279296875, 15.338979721069336, 14.744421005249023, 16.793201446533203, 17.513530731201172, 15.391569137573242, 17.758899688720703, 16.6307373046875, 18.103181838989258, 19.198165893554688, 19.60590362548828, 19.417442321777344, 19.715438842773438, 20.624740600585938, 20.249713897705078, 20.363910675048828, 20.775434494018555, 21.983230590820312, 22.1212215423584, 21.295446395874023, 18.978309631347656, 22.183517456054688, 20.02068328857422, 22.01036834716797]\n",
            "<class 'list'>\n"
          ]
        }
      ]
    },
    {
      "cell_type": "code",
      "source": [
        "for i in range(0,len(ssim_epoch)):\n",
        "  ssim_epoch[i] = ssim_epoch[i].cpu().item()\n",
        "print(ssim_epoch)\n",
        "print(type(ssim_epoch))\n",
        "\n",
        "for i in range(0,len(ssim_epoch2)):\n",
        "  ssim_epoch2[i] = ssim_epoch2[i].cpu().item()\n",
        "\n",
        "for i in range(0,len(ssim_epoch3)):\n",
        "  ssim_epoch3[i] = ssim_epoch3[i].cpu().item()"
      ],
      "metadata": {
        "colab": {
          "base_uri": "https://localhost:8080/"
        },
        "outputId": "1075909c-94f3-4733-8ad5-a69990a6c894",
        "id": "B6DNk_oPUdAo"
      },
      "execution_count": null,
      "outputs": [
        {
          "output_type": "stream",
          "name": "stdout",
          "text": [
            "[0.01471959799528122, 0.04099690541625023, 0.06025981158018112, 0.07055529952049255, 0.13726699352264404, 0.20676755905151367, 0.18355068564414978, 0.16820000112056732, 0.23445181548595428, 0.2999694049358368, 0.3310871124267578, 0.2959232032299042, 0.32964885234832764, 0.36487525701522827, 0.3968658447265625, 0.4042430520057678, 0.4236757457256317, 0.4751198887825012, 0.47802847623825073, 0.506639838218689, 0.48292550444602966, 0.39841943979263306, 0.5463771224021912, 0.562065601348877, 0.581717312335968, 0.5962836146354675, 0.5755236148834229, 0.5352895259857178, 0.5807867050170898, 0.5290794372558594]\n",
            "<class 'list'>\n"
          ]
        }
      ]
    },
    {
      "cell_type": "markdown",
      "source": [
        "#### 1.4.2.7 Print out the value of Loss, MSE, PSNR, SSIM when epoch = 0, 10, 20, 30 respectively "
      ],
      "metadata": {
        "id": "JWECNkjvUdAo"
      }
    },
    {
      "cell_type": "code",
      "source": [
        "print(\"LR = 1e-3\")\n",
        "print(loss_epoch[0])\n",
        "print(loss_epoch[9])\n",
        "print(loss_epoch[19])\n",
        "print(loss_epoch[29])\n",
        "print(\"LR = 1e-4\")\n",
        "print(loss_epoch2[0])\n",
        "print(loss_epoch2[9])\n",
        "print(loss_epoch2[19])\n",
        "print(loss_epoch2[29])\n",
        "print(\"LR = 1e-5\")\n",
        "print(loss_epoch3[0])\n",
        "print(loss_epoch3[9])\n",
        "print(loss_epoch3[19])\n",
        "print(loss_epoch3[29])\n"
      ],
      "metadata": {
        "colab": {
          "base_uri": "https://localhost:8080/"
        },
        "outputId": "4491c4ef-1d0d-4970-9c1d-c1155cd7317b",
        "id": "dOoTGSL3UdAp"
      },
      "execution_count": null,
      "outputs": [
        {
          "output_type": "stream",
          "name": "stdout",
          "text": [
            "LR = 1e-3\n",
            "45.009918212890625\n",
            "5.338102340698242\n",
            "2.226743698120117\n",
            "1.6200981140136719\n",
            "LR = 1e-4\n",
            "126.53218841552734\n",
            "8.894161224365234\n",
            "3.769211769104004\n",
            "2.4896481037139893\n",
            "LR = 1e-5\n",
            "933.5538940429688\n",
            "42.86994552612305\n",
            "20.937381744384766\n",
            "13.894472122192383\n"
          ]
        }
      ]
    },
    {
      "cell_type": "code",
      "source": [
        "print(\"LR = 1e-3\")\n",
        "print(MSE_epoch[0])\n",
        "print(MSE_epoch[9])\n",
        "print(MSE_epoch[19])\n",
        "print(MSE_epoch[29])\n",
        "print(\"LR = 1e-4\")\n",
        "print(MSE_epoch2[0])\n",
        "print(MSE_epoch2[9])\n",
        "print(MSE_epoch2[19])\n",
        "print(MSE_epoch2[29])\n",
        "print(\"LR = 1e-5\")\n",
        "print(MSE_epoch3[0])\n",
        "print(MSE_epoch3[9])\n",
        "print(MSE_epoch3[19])\n",
        "print(MSE_epoch3[29])"
      ],
      "metadata": {
        "colab": {
          "base_uri": "https://localhost:8080/"
        },
        "outputId": "b30abc68-2a80-448b-d970-45736cd52f89",
        "id": "-_sjieUXUdAp"
      },
      "execution_count": null,
      "outputs": [
        {
          "output_type": "stream",
          "name": "stdout",
          "text": [
            "LR = 1e-3\n",
            "0.17650949954986572\n",
            "0.020933736115694046\n",
            "0.008732328191399574\n",
            "0.006353326141834259\n",
            "LR = 1e-4\n",
            "0.4962046146392822\n",
            "0.03487906605005264\n",
            "0.014781223610043526\n",
            "0.009763325564563274\n",
            "LR = 1e-5\n",
            "3.6609954833984375\n",
            "0.1681174486875534\n",
            "0.08210738748311996\n",
            "0.05448812246322632\n"
          ]
        }
      ]
    },
    {
      "cell_type": "code",
      "source": [
        "print(\"LR = 1e-3\")\n",
        "print(PSNR_epoch[0])\n",
        "print(PSNR_epoch[9])\n",
        "print(PSNR_epoch[19])\n",
        "print(PSNR_epoch[29])\n",
        "print(\"LR = 1e-4\")\n",
        "print(PSNR_epoch2[0])\n",
        "print(PSNR_epoch2[9])\n",
        "print(PSNR_epoch2[19])\n",
        "print(PSNR_epoch2[29])\n",
        "print(\"LR = 1e-5\")\n",
        "print(PSNR_epoch3[0])\n",
        "print(PSNR_epoch3[9])\n",
        "print(PSNR_epoch3[19])\n",
        "print(PSNR_epoch3[29])"
      ],
      "metadata": {
        "colab": {
          "base_uri": "https://localhost:8080/"
        },
        "outputId": "3c4c038f-c76f-45ca-a94d-29dc1d1eeb1b",
        "id": "46SaJRpwUdAp"
      },
      "execution_count": null,
      "outputs": [
        {
          "output_type": "stream",
          "name": "stdout",
          "text": [
            "LR = 1e-3\n",
            "7.561656951904297\n",
            "16.793201446533203\n",
            "20.624740600585938\n",
            "22.01036834716797\n",
            "LR = 1e-4\n",
            "3.080413341522217\n",
            "14.614852905273438\n",
            "18.371936798095703\n",
            "20.1689453125\n",
            "LR = 1e-5\n",
            "-5.62770938873291\n",
            "7.8041791915893555\n",
            "10.903470993041992\n",
            "12.68012809753418\n"
          ]
        }
      ]
    },
    {
      "cell_type": "code",
      "source": [
        "print(\"LR = 1e-3\")\n",
        "print(ssim_epoch[0])\n",
        "print(ssim_epoch[9])\n",
        "print(ssim_epoch[19])\n",
        "print(ssim_epoch[29])\n",
        "\n",
        "\n",
        "print(\"LR = 1e-4\")\n",
        "print(ssim_epoch2[0])\n",
        "print(ssim_epoch2[9])\n",
        "print(ssim_epoch2[19])\n",
        "print(ssim_epoch2[29])\n",
        "\n",
        "print(\"LR = 1e-5\")\n",
        "print(ssim_epoch3[0])\n",
        "print(ssim_epoch3[9])\n",
        "print(ssim_epoch3[19])\n",
        "print(ssim_epoch3[29])"
      ],
      "metadata": {
        "colab": {
          "base_uri": "https://localhost:8080/"
        },
        "outputId": "b543f6d0-b4f1-4fb2-be55-f9adaaf145ee",
        "id": "H9vkA9d0UdAp"
      },
      "execution_count": null,
      "outputs": [
        {
          "output_type": "stream",
          "name": "stdout",
          "text": [
            "LR = 1e-3\n",
            "0.01471959799528122\n",
            "0.2999694049358368\n",
            "0.506639838218689\n",
            "0.5290794372558594\n",
            "LR = 1e-4\n",
            "0.0038169417530298233\n",
            "0.13060441613197327\n",
            "0.2940943241119385\n",
            "0.38955578207969666\n",
            "LR = 1e-5\n",
            "0.00016298724221996963\n",
            "0.02227514237165451\n",
            "0.06086909770965576\n",
            "0.08848860114812851\n"
          ]
        }
      ]
    },
    {
      "cell_type": "markdown",
      "source": [
        "#### 1.4.2.8 Plot the results (N, M) = (64, 96)"
      ],
      "metadata": {
        "id": "zAALmkdMUdAp"
      }
    },
    {
      "cell_type": "code",
      "source": [
        "import numpy as np\n",
        "plt.figure\n",
        "plt.figure(figsize=(12,10))\n",
        "plt.subplot(3,2,1)\n",
        "\n",
        "plt.title('learning rate = 1e-3')\n",
        "plt.plot(xs, loss_epoch, color='green', label='loss')\n",
        "plt.plot(xs, PSNR_epoch,  color='skyblue', label='PSNR')\n",
        "plt.legend(['loss','PSNR'],loc = 'upper right')\n",
        "plt.xlabel('Epoch')\n",
        "\n",
        "plt.subplot(3,2,2)\n",
        "plt.title('learning rate = 1e-3')\n",
        "plt.plot(xs, MSE_epoch, color='red', label='MSE')\n",
        "plt.plot(xs, ssim_epoch, color='blue', label='ssim')\n",
        "plt.legend(['MSE','ssim'],loc = 'upper right')\n",
        "plt.xlabel('Epoch')\n",
        "\n",
        "\n",
        "plt.subplot(3,2,3)\n",
        "plt.title('learning rate = 1e-4')\n",
        "plt.plot(xs, loss_epoch2, color='green', label='loss')\n",
        "plt.plot(xs, PSNR_epoch2,  color='skyblue', label='PSNR')\n",
        "plt.legend(['loss','PSNR'],loc = 'upper right')\n",
        "plt.xlabel('Epoch')\n",
        "\n",
        "plt.subplot(3,2,4)\n",
        "plt.title('learning rate = 1e-4')\n",
        "plt.plot(xs, MSE_epoch2, color='red', label='MSE')\n",
        "plt.plot(xs, ssim_epoch2, color='blue', label='ssim')\n",
        "plt.legend(['MSE','ssim'],loc = 'upper right')\n",
        "plt.xlabel('Epoch')\n",
        "\n",
        "\n",
        "plt.subplot(3,2,5)\n",
        "plt.title('learning rate = 1e-5')\n",
        "plt.plot(xs, loss_epoch3, color='green', label='loss')\n",
        "plt.plot(xs, PSNR_epoch3,  color='skyblue', label='PSNR')\n",
        "plt.legend(['loss','PSNR'],loc = 'upper right')\n",
        "plt.xlabel('Epoch')\n",
        "\n",
        "plt.subplot(3,2,6)\n",
        "plt.title('learning rate = 1e-5')\n",
        "plt.plot(xs, MSE_epoch3, color='red', label='MSE')\n",
        "plt.plot(xs, ssim_epoch3, color='blue', label='ssim')\n",
        "plt.legend(['MSE','ssim'],loc = 'upper right')\n",
        "plt.xlabel('Epoch')\n",
        "\n",
        "plt.tight_layout()                                       "
      ],
      "metadata": {
        "colab": {
          "base_uri": "https://localhost:8080/",
          "height": 729
        },
        "outputId": "b0edb855-8f2d-4f51-f61c-92ff1b7ba8cd",
        "id": "pLDzenaoUdAp"
      },
      "execution_count": null,
      "outputs": [
        {
          "output_type": "display_data",
          "data": {
            "text/plain": [
              "<Figure size 864x720 with 6 Axes>"
            ],
            "image/png": "[encoded data removed]"
          },
          "metadata": {
            "needs_background": "light"
          }
        }
      ]
    },
    {
      "cell_type": "code",
      "source": [
        "plt.figure\n",
        "plt.figure(figsize=(10,10))\n",
        "plt.subplot(3,1,1)\n",
        "\n",
        "plt.title('learning rate = 1e-3')\n",
        "plt.plot(xs, loss_epoch,color = 'b',marker = 'o')\n",
        "plt.plot(xs, PSNR_epoch,color = 'y',marker = 'o')\n",
        "plt.yticks(np.arange(0,50,10))\n",
        "plt.legend(['loss','PSNR'],loc = 'upper left')\n",
        "plt.xlabel('Epoch')\n",
        "plt.ylabel('Loss & PSNR')\n",
        "plt.twinx()\n",
        "plt.plot(xs, MSE_epoch,color = 'r',marker = 'o')\n",
        "plt.plot(xs, ssim_epoch,color = 'g',marker = 'o')\n",
        "plt.yticks(np.arange(0,1,0.1))\n",
        "plt.ylabel('MSE & SSIM')\n",
        "plt.legend(['MSE','SSIM'],loc = 'upper right')\n",
        "plt.tight_layout()\n",
        "\n",
        "plt.subplot(3,1,2)\n",
        "\n",
        "plt.title('learning rate = 1e-4')\n",
        "plt.plot(xs, loss_epoch2,color = 'b',marker = 'o')\n",
        "plt.plot(xs, PSNR_epoch2,color = 'y',marker = 'o')\n",
        "plt.yticks(np.arange(0,150,10))\n",
        "plt.legend(['loss','PSNR'],loc = 'upper left')\n",
        "plt.xlabel('Epoch')\n",
        "plt.ylabel('Loss & PSNR')\n",
        "plt.twinx()\n",
        "plt.plot(xs, MSE_epoch2,color = 'r',marker = 'o')\n",
        "plt.plot(xs, ssim_epoch2,color = 'g',marker = 'o')\n",
        "plt.yticks(np.arange(0,1,0.1))\n",
        "plt.ylabel('MSE & SSIM')\n",
        "plt.legend(['MSE','SSIM'],loc = 'upper right')\n",
        "plt.tight_layout()\n",
        "\n",
        "plt.subplot(3,1,3)\n",
        "plt.title('learning rate = 1e-5')\n",
        "plt.plot(xs, loss_epoch3,color = 'b',marker = 'o')\n",
        "plt.plot(xs, PSNR_epoch3,color = 'y',marker = 'o')\n",
        "plt.yticks(np.arange(0,1000,100))\n",
        "plt.legend(['loss','PSNR'],loc = 'upper left')\n",
        "plt.xlabel('Epoch')\n",
        "plt.ylabel('Loss & PSNR')\n",
        "plt.twinx()\n",
        "plt.plot(xs, MSE_epoch3,color = 'r',marker = 'o')\n",
        "plt.plot(xs, ssim_epoch3,color = 'g',marker = 'o')\n",
        "plt.yticks(np.arange(0,6,0.6))\n",
        "plt.ylabel('MSE & SSIM')\n",
        "plt.legend(['MSE','SSIM'],loc = 'upper right')\n",
        "plt.tight_layout()"
      ],
      "metadata": {
        "colab": {
          "base_uri": "https://localhost:8080/",
          "height": 729
        },
        "outputId": "973c03e7-e1a2-4fb5-f4a9-b34be1ea3847",
        "id": "nCJHKN89UdAp"
      },
      "execution_count": null,
      "outputs": [
        {
          "output_type": "display_data",
          "data": {
            "text/plain": [
              "<Figure size 720x720 with 6 Axes>"
            ],
            "image/png": "[encoded data removed]"
          },
          "metadata": {
            "needs_background": "light"
          }
        }
      ]
    },
    {
      "cell_type": "markdown",
      "source": [
        "### 1.4.3 (N, M): (128, 192)"
      ],
      "metadata": {
        "id": "I2HpAeayUn8D"
      }
    },
    {
      "cell_type": "markdown",
      "source": [
        "#### 1.4.3.1 Re-define the Network and other parameters"
      ],
      "metadata": {
        "id": "q3YZ1t9LUn8D"
      }
    },
    {
      "cell_type": "code",
      "source": [
        "class Network(nn.Module):\n",
        "\n",
        "    def __init__(self, N, M, init_weights=True, **kwargs):\n",
        "        super().__init__(**kwargs)\n",
        "\n",
        "        self.g_a = nn.Sequential(\n",
        "            conv(3, N),\n",
        "            conv(N, N),\n",
        "            conv(N, N),\n",
        "            conv(N, M),\n",
        "        )\n",
        "\n",
        "        self.g_s = nn.Sequential(\n",
        "            deconv(M, N),\n",
        "            deconv(N, N),\n",
        "            deconv(N, N),\n",
        "            deconv(N, 3),\n",
        "        )\n",
        "\n",
        "        self.N = N\n",
        "        self.M = M\n",
        "\n",
        "        if init_weights:\n",
        "            self._initialize_weights()\n",
        "\n",
        "    def forward(self, x):\n",
        "        y = self.g_a(x)\n",
        "        x_hat = self.g_s(y)\n",
        "\n",
        "        return {\n",
        "            \"x_hat\": x_hat,\n",
        "        }\n",
        "\n",
        "    def _initialize_weights(self):\n",
        "        for m in self.modules():\n",
        "            if isinstance(m, (nn.Conv2d, nn.ConvTranspose2d)):\n",
        "                nn.init.kaiming_normal_(m.weight)\n",
        "                if m.bias is not None:\n",
        "                    nn.init.zeros_(m.bias)\n",
        "\n",
        "    def compress(self, x):\n",
        "        y = self.g_a(x)\n",
        "        return y\n",
        "\n",
        "    def decompress(self, y_hat):\n",
        "        x_hat = self.g_s(y_hat).clamp_(0, 1) # Limiting. Limit the value of input to [min, max], output as a tensor\n",
        "        return {\"x_hat\": x_hat}"
      ],
      "metadata": {
        "id": "Ys16WL9sUn8D"
      },
      "execution_count": null,
      "outputs": []
    },
    {
      "cell_type": "code",
      "source": [
        "seed = 123                                        # for reproducibility\n",
        "cuda = True                                       # use GPU\n",
        "save = True                                       # save trained model\n",
        "dataset = '/content/drive/MyDrive/ELEC5306-2022'  # path to the root of the dataset\n",
        "checkpoint = ''                                   # load pretrained model\n",
        "epochs = 30                                       # total training epochs\n",
        "num_workers = 3                          # multi-process for loading training data\n",
        "clip_max_norm = 1.0                               # avoid gradient explosion\n",
        "patch_size = (256, 256)                           # input size for the training network\n",
        "# learning_rate = 1e-4  \n",
        "batch_size = 16\n",
        "test_batch_size = 16 \n",
        "N = 128\n",
        "M = 192"
      ],
      "metadata": {
        "id": "i_6vJWdbUn8D"
      },
      "execution_count": null,
      "outputs": []
    },
    {
      "cell_type": "code",
      "source": [
        "torch.manual_seed(seed)\n",
        "random.seed(seed)\n",
        "\n",
        "train_transforms = transforms.Compose(\n",
        "    [transforms.RandomCrop(patch_size), transforms.ToTensor()]\n",
        ")\n",
        "\n",
        "test_transforms = transforms.Compose(\n",
        "    [transforms.CenterCrop(patch_size), transforms.ToTensor()]\n",
        ")\n",
        "\n",
        "train_dataset = ImageFolder(dataset, split=\"train\", transform=train_transforms)\n",
        "test_dataset = ImageFolder(dataset, split=\"valid\", transform=test_transforms)\n",
        "\n",
        "device = \"cuda\" if cuda and torch.cuda.is_available() else \"cpu\"\n",
        "\n",
        "train_dataloader = DataLoader(\n",
        "    train_dataset,\n",
        "    batch_size=batch_size,\n",
        "    num_workers=num_workers,\n",
        "    shuffle=True,\n",
        "    pin_memory=(device == \"cuda\"),\n",
        ")\n",
        "\n",
        "test_dataloader = DataLoader(\n",
        "    test_dataset,\n",
        "    batch_size=test_batch_size,\n",
        "    num_workers=num_workers,\n",
        "    shuffle=False,\n",
        "    pin_memory=(device == \"cuda\"),\n",
        ")\n"
      ],
      "metadata": {
        "colab": {
          "base_uri": "https://localhost:8080/"
        },
        "outputId": "00566bcd-b874-44cf-b38b-ebcf255340b6",
        "id": "bhlwzXmzUn8D"
      },
      "execution_count": null,
      "outputs": [
        {
          "output_type": "stream",
          "name": "stderr",
          "text": [
            "/usr/local/lib/python3.7/dist-packages/torch/utils/data/dataloader.py:490: UserWarning: This DataLoader will create 3 worker processes in total. Our suggested max number of worker in current system is 2, which is smaller than what this DataLoader is going to create. Please be aware that excessive worker creation might get DataLoader running slow or even freeze, lower the worker number to avoid potential slowness/freeze if necessary.\n",
            "  cpuset_checked))\n"
          ]
        }
      ]
    },
    {
      "cell_type": "markdown",
      "source": [
        "#### 1.4.3.2 Re-define the test-epoch function so that it will also return the value for MSE, PSNR, SSIM."
      ],
      "metadata": {
        "id": "8VQ7Me4EUn8E"
      }
    },
    {
      "cell_type": "code",
      "source": [
        "def test_epoch(epoch, test_dataloader, model, criterion):\n",
        "    model.eval()\n",
        "    device = next(model.parameters()).device\n",
        "\n",
        "    loss = AverageMeter()\n",
        "    mse_loss = AverageMeter()\n",
        "    psnr = AverageMeter()\n",
        "    myssim = AverageMeter()\n",
        "\n",
        "    with torch.no_grad():\n",
        "        for d in test_dataloader:\n",
        "            d = d.to(device)\n",
        "            out_net = model(d)\n",
        "            d_out = out_net['x_hat']\n",
        "            out_criterion = criterion(out_net, d)\n",
        "\n",
        "            loss.update(out_criterion[\"loss\"])\n",
        "            mse_loss.update(out_criterion[\"mse_loss\"])\n",
        "            \n",
        "            psnr.update(PSNR(d_out, d))\n",
        "            ssim_val = ssim(d * 255, d_out * 255, data_range=255, size_average=True)\n",
        "            # print(ssim_val)\n",
        "            myssim.update(ssim_val)\n",
        "            \n",
        "\n",
        "    print(\n",
        "        f\"Test epoch {epoch}: Average losses:\"\n",
        "        f\"\\tLoss: {loss.avg:.3f} |\"\n",
        "        f\"\\tMSE loss: {mse_loss.avg:.3f} |\"\n",
        "        f\"\\tPSNR value: {psnr.avg:.3f} |\"\n",
        "        f\"\\tSSIM value: {myssim.avg:.3f}\\n\"\n",
        "    )\n",
        "\n",
        "    return loss.avg, mse_loss.avg, psnr.avg, myssim.avg\n",
        "\n",
        "# do the test on valid split"
      ],
      "metadata": {
        "id": "dda2umZ2Un8E"
      },
      "execution_count": null,
      "outputs": []
    },
    {
      "cell_type": "markdown",
      "source": [
        "#### 1.4.3.3 When learning rate = 1e-3"
      ],
      "metadata": {
        "id": "kYVefwxGUn8E"
      }
    },
    {
      "cell_type": "code",
      "source": [
        "learning_rate = 1e-3\n",
        "combine_loss = []\n",
        "combine_mse = []\n",
        "combine_psnr = []\n",
        "combine_ssim = []\n",
        "net = Network(N, M)\n",
        "net = net.to(device)\n",
        "optimizer = configure_optimizers(net, learning_rate)\n",
        "lr_scheduler = optim.lr_scheduler.ReduceLROnPlateau(optimizer, \"min\")\n",
        "criterion = Loss()\n",
        "\n",
        "last_epoch = 0\n",
        "if checkpoint:  # load from previous checkpoint\n",
        "    print(\"Loading\", checkpoint)\n",
        "    checkpoint = torch.load(checkpoint, map_location=device)\n",
        "    last_epoch = checkpoint[\"epoch\"] + 1\n",
        "    net.load_state_dict(checkpoint[\"state_dict\"])\n",
        "    optimizer.load_state_dict(checkpoint[\"optimizer\"])\n",
        "    lr_scheduler.load_state_dict(checkpoint[\"lr_scheduler\"])\n",
        "\n",
        "best_loss = float(\"inf\")\n",
        "\n",
        "loss_epoch = [] # set up a list to store the loss value after each epoch\n",
        "MSE_epoch = [] # set up a list to store the loss value after each epoch\n",
        "PSNR_epoch = [] # set up a list to store the loss value after each epoch\n",
        "ssim_epoch = [] # set up a list to store the loss value after each epoch\n",
        "\n",
        "for epoch in range(last_epoch, epochs):\n",
        "    print(f\"Learning rate: {optimizer.param_groups[0]['lr']}\")\n",
        "    train_one_epoch(\n",
        "        net,\n",
        "        criterion,\n",
        "        train_dataloader,\n",
        "        optimizer,\n",
        "        epoch,\n",
        "        clip_max_norm,\n",
        "    )\n",
        "    loss, mse_avg, psnr_avg, ssim_avg = test_epoch(epoch, test_dataloader, net, criterion)\n",
        "\n",
        "    loss_epoch.append(loss) # save the loss value in the loss_epoch list\n",
        "    MSE_epoch.append(mse_avg)\n",
        "    PSNR_epoch.append(psnr_avg)\n",
        "    ssim_epoch.append(ssim_avg)\n",
        "\n",
        "    lr_scheduler.step(loss)\n",
        "\n",
        "    is_best = loss < best_loss\n",
        "    best_loss = min(loss, best_loss)\n",
        "\n",
        "    if save:\n",
        "        save_checkpoint(\n",
        "            {\n",
        "                \"epoch\": epoch,\n",
        "                \"state_dict\": net.state_dict(),\n",
        "                \"loss\": loss,\n",
        "                \"optimizer\": optimizer.state_dict(),\n",
        "                \"lr_scheduler\": lr_scheduler.state_dict(),\n",
        "            },\n",
        "            is_best,\n",
        "        )\n",
        "  "
      ],
      "metadata": {
        "colab": {
          "base_uri": "https://localhost:8080/"
        },
        "outputId": "2cde900f-aab3-41c4-da34-12545cbe0701",
        "id": "YXGi1itlUn8E"
      },
      "execution_count": null,
      "outputs": [
        {
          "output_type": "stream",
          "name": "stdout",
          "text": [
            "Learning rate: 0.001\n"
          ]
        },
        {
          "output_type": "stream",
          "name": "stderr",
          "text": [
            "/usr/local/lib/python3.7/dist-packages/torch/utils/data/dataloader.py:490: UserWarning: This DataLoader will create 3 worker processes in total. Our suggested max number of worker in current system is 2, which is smaller than what this DataLoader is going to create. Please be aware that excessive worker creation might get DataLoader running slow or even freeze, lower the worker number to avoid potential slowness/freeze if necessary.\n",
            "  cpuset_checked))\n"
          ]
        },
        {
          "output_type": "stream",
          "name": "stdout",
          "text": [
            "Train epoch 0: [0/250 (0%)]\tLoss: 4574.635 |\tMSE loss: 17.940\n",
            "Train epoch 0: [160/250 (62%)]\tLoss: 2549.381 |\tMSE loss: 9.998\n",
            "Test epoch 0: Average losses:\tLoss: 4109.362 |\tMSE loss: 16.115 |\tPSNR value: -12.059 |\tSSIM value: 0.000\n",
            "\n",
            "Learning rate: 0.001\n",
            "Train epoch 1: [0/250 (0%)]\tLoss: 4963.037 |\tMSE loss: 19.463\n",
            "Train epoch 1: [160/250 (62%)]\tLoss: 265.813 |\tMSE loss: 1.042\n",
            "Test epoch 1: Average losses:\tLoss: 88.557 |\tMSE loss: 0.347 |\tPSNR value: 4.614 |\tSSIM value: 0.007\n",
            "\n",
            "Learning rate: 0.001\n",
            "Train epoch 2: [0/250 (0%)]\tLoss: 77.820 |\tMSE loss: 0.305\n",
            "Train epoch 2: [160/250 (62%)]\tLoss: 36.237 |\tMSE loss: 0.142\n",
            "Test epoch 2: Average losses:\tLoss: 26.256 |\tMSE loss: 0.103 |\tPSNR value: 9.883 |\tSSIM value: 0.031\n",
            "\n",
            "Learning rate: 0.001\n",
            "Train epoch 3: [0/250 (0%)]\tLoss: 25.670 |\tMSE loss: 0.101\n",
            "Train epoch 3: [160/250 (62%)]\tLoss: 44.909 |\tMSE loss: 0.176\n",
            "Test epoch 3: Average losses:\tLoss: 24.617 |\tMSE loss: 0.097 |\tPSNR value: 10.171 |\tSSIM value: 0.045\n",
            "\n",
            "Learning rate: 0.001\n",
            "Train epoch 4: [0/250 (0%)]\tLoss: 32.777 |\tMSE loss: 0.129\n",
            "Train epoch 4: [160/250 (62%)]\tLoss: 28.785 |\tMSE loss: 0.113\n",
            "Test epoch 4: Average losses:\tLoss: 33.152 |\tMSE loss: 0.130 |\tPSNR value: 9.048 |\tSSIM value: 0.050\n",
            "\n",
            "Learning rate: 0.001\n",
            "Train epoch 5: [0/250 (0%)]\tLoss: 26.658 |\tMSE loss: 0.105\n",
            "Train epoch 5: [160/250 (62%)]\tLoss: 17.999 |\tMSE loss: 0.071\n",
            "Test epoch 5: Average losses:\tLoss: 22.039 |\tMSE loss: 0.086 |\tPSNR value: 10.648 |\tSSIM value: 0.075\n",
            "\n",
            "Learning rate: 0.001\n",
            "Train epoch 6: [0/250 (0%)]\tLoss: 14.737 |\tMSE loss: 0.058\n",
            "Train epoch 6: [160/250 (62%)]\tLoss: 18.994 |\tMSE loss: 0.074\n",
            "Test epoch 6: Average losses:\tLoss: 25.018 |\tMSE loss: 0.098 |\tPSNR value: 10.091 |\tSSIM value: 0.059\n",
            "\n",
            "Learning rate: 0.001\n",
            "Train epoch 7: [0/250 (0%)]\tLoss: 27.149 |\tMSE loss: 0.106\n",
            "Train epoch 7: [160/250 (62%)]\tLoss: 19.659 |\tMSE loss: 0.077\n",
            "Test epoch 7: Average losses:\tLoss: 22.675 |\tMSE loss: 0.089 |\tPSNR value: 10.512 |\tSSIM value: 0.079\n",
            "\n",
            "Learning rate: 0.001\n",
            "Train epoch 8: [0/250 (0%)]\tLoss: 18.384 |\tMSE loss: 0.072\n",
            "Train epoch 8: [160/250 (62%)]\tLoss: 14.019 |\tMSE loss: 0.055\n",
            "Test epoch 8: Average losses:\tLoss: 19.498 |\tMSE loss: 0.076 |\tPSNR value: 11.177 |\tSSIM value: 0.116\n",
            "\n",
            "Learning rate: 0.001\n",
            "Train epoch 9: [0/250 (0%)]\tLoss: 17.202 |\tMSE loss: 0.067\n",
            "Train epoch 9: [160/250 (62%)]\tLoss: 14.667 |\tMSE loss: 0.058\n",
            "Test epoch 9: Average losses:\tLoss: 10.471 |\tMSE loss: 0.041 |\tPSNR value: 13.899 |\tSSIM value: 0.191\n",
            "\n",
            "Learning rate: 0.001\n",
            "Train epoch 10: [0/250 (0%)]\tLoss: 11.952 |\tMSE loss: 0.047\n",
            "Train epoch 10: [160/250 (62%)]\tLoss: 7.400 |\tMSE loss: 0.029\n",
            "Test epoch 10: Average losses:\tLoss: 8.500 |\tMSE loss: 0.033 |\tPSNR value: 14.833 |\tSSIM value: 0.183\n",
            "\n",
            "Learning rate: 0.001\n",
            "Train epoch 11: [0/250 (0%)]\tLoss: 9.258 |\tMSE loss: 0.036\n",
            "Train epoch 11: [160/250 (62%)]\tLoss: 7.849 |\tMSE loss: 0.031\n",
            "Test epoch 11: Average losses:\tLoss: 6.115 |\tMSE loss: 0.024 |\tPSNR value: 16.207 |\tSSIM value: 0.198\n",
            "\n",
            "Learning rate: 0.001\n",
            "Train epoch 12: [0/250 (0%)]\tLoss: 5.607 |\tMSE loss: 0.022\n",
            "Train epoch 12: [160/250 (62%)]\tLoss: 13.715 |\tMSE loss: 0.054\n",
            "Test epoch 12: Average losses:\tLoss: 5.764 |\tMSE loss: 0.023 |\tPSNR value: 16.461 |\tSSIM value: 0.219\n",
            "\n",
            "Learning rate: 0.001\n",
            "Train epoch 13: [0/250 (0%)]\tLoss: 4.342 |\tMSE loss: 0.017\n",
            "Train epoch 13: [160/250 (62%)]\tLoss: 4.300 |\tMSE loss: 0.017\n",
            "Test epoch 13: Average losses:\tLoss: 6.357 |\tMSE loss: 0.025 |\tPSNR value: 16.065 |\tSSIM value: 0.244\n",
            "\n",
            "Learning rate: 0.001\n",
            "Train epoch 14: [0/250 (0%)]\tLoss: 6.134 |\tMSE loss: 0.024\n",
            "Train epoch 14: [160/250 (62%)]\tLoss: 3.329 |\tMSE loss: 0.013\n",
            "Test epoch 14: Average losses:\tLoss: 5.604 |\tMSE loss: 0.022 |\tPSNR value: 16.627 |\tSSIM value: 0.300\n",
            "\n",
            "Learning rate: 0.001\n",
            "Train epoch 15: [0/250 (0%)]\tLoss: 3.160 |\tMSE loss: 0.012\n",
            "Train epoch 15: [160/250 (62%)]\tLoss: 5.821 |\tMSE loss: 0.023\n",
            "Test epoch 15: Average losses:\tLoss: 11.453 |\tMSE loss: 0.045 |\tPSNR value: 13.515 |\tSSIM value: 0.242\n",
            "\n",
            "Learning rate: 0.001\n",
            "Train epoch 16: [0/250 (0%)]\tLoss: 7.168 |\tMSE loss: 0.028\n",
            "Train epoch 16: [160/250 (62%)]\tLoss: 39.984 |\tMSE loss: 0.157\n",
            "Test epoch 16: Average losses:\tLoss: 21.824 |\tMSE loss: 0.086 |\tPSNR value: 10.719 |\tSSIM value: 0.068\n",
            "\n",
            "Learning rate: 0.001\n",
            "Train epoch 17: [0/250 (0%)]\tLoss: 21.526 |\tMSE loss: 0.084\n",
            "Train epoch 17: [160/250 (62%)]\tLoss: 10.386 |\tMSE loss: 0.041\n",
            "Test epoch 17: Average losses:\tLoss: 8.485 |\tMSE loss: 0.033 |\tPSNR value: 14.824 |\tSSIM value: 0.173\n",
            "\n",
            "Learning rate: 0.001\n",
            "Train epoch 18: [0/250 (0%)]\tLoss: 8.129 |\tMSE loss: 0.032\n",
            "Train epoch 18: [160/250 (62%)]\tLoss: 5.539 |\tMSE loss: 0.022\n",
            "Test epoch 18: Average losses:\tLoss: 6.077 |\tMSE loss: 0.024 |\tPSNR value: 16.267 |\tSSIM value: 0.213\n",
            "\n",
            "Learning rate: 0.001\n",
            "Train epoch 19: [0/250 (0%)]\tLoss: 6.243 |\tMSE loss: 0.024\n",
            "Train epoch 19: [160/250 (62%)]\tLoss: 5.900 |\tMSE loss: 0.023\n",
            "Test epoch 19: Average losses:\tLoss: 25.921 |\tMSE loss: 0.102 |\tPSNR value: 9.945 |\tSSIM value: 0.221\n",
            "\n",
            "Learning rate: 0.001\n",
            "Train epoch 20: [0/250 (0%)]\tLoss: 16.821 |\tMSE loss: 0.066\n",
            "Train epoch 20: [160/250 (62%)]\tLoss: 5.145 |\tMSE loss: 0.020\n",
            "Test epoch 20: Average losses:\tLoss: 16.980 |\tMSE loss: 0.067 |\tPSNR value: 11.772 |\tSSIM value: 0.171\n",
            "\n",
            "Learning rate: 0.001\n",
            "Train epoch 21: [0/250 (0%)]\tLoss: 13.893 |\tMSE loss: 0.054\n",
            "Train epoch 21: [160/250 (62%)]\tLoss: 4.641 |\tMSE loss: 0.018\n",
            "Test epoch 21: Average losses:\tLoss: 6.954 |\tMSE loss: 0.027 |\tPSNR value: 15.680 |\tSSIM value: 0.228\n",
            "\n",
            "Learning rate: 0.001\n",
            "Train epoch 22: [0/250 (0%)]\tLoss: 5.110 |\tMSE loss: 0.020\n",
            "Train epoch 22: [160/250 (62%)]\tLoss: 4.240 |\tMSE loss: 0.017\n",
            "Test epoch 22: Average losses:\tLoss: 4.533 |\tMSE loss: 0.018 |\tPSNR value: 17.510 |\tSSIM value: 0.304\n",
            "\n",
            "Learning rate: 0.001\n",
            "Train epoch 23: [0/250 (0%)]\tLoss: 4.488 |\tMSE loss: 0.018\n",
            "Train epoch 23: [160/250 (62%)]\tLoss: 6.466 |\tMSE loss: 0.025\n",
            "Test epoch 23: Average losses:\tLoss: 4.484 |\tMSE loss: 0.018 |\tPSNR value: 17.613 |\tSSIM value: 0.301\n",
            "\n",
            "Learning rate: 0.001\n",
            "Train epoch 24: [0/250 (0%)]\tLoss: 5.373 |\tMSE loss: 0.021\n",
            "Train epoch 24: [160/250 (62%)]\tLoss: 3.939 |\tMSE loss: 0.015\n",
            "Test epoch 24: Average losses:\tLoss: 4.331 |\tMSE loss: 0.017 |\tPSNR value: 17.699 |\tSSIM value: 0.306\n",
            "\n",
            "Learning rate: 0.001\n",
            "Train epoch 25: [0/250 (0%)]\tLoss: 4.726 |\tMSE loss: 0.019\n",
            "Train epoch 25: [160/250 (62%)]\tLoss: 7.290 |\tMSE loss: 0.029\n",
            "Test epoch 25: Average losses:\tLoss: 5.648 |\tMSE loss: 0.022 |\tPSNR value: 16.547 |\tSSIM value: 0.282\n",
            "\n",
            "Learning rate: 0.001\n",
            "Train epoch 26: [0/250 (0%)]\tLoss: 5.657 |\tMSE loss: 0.022\n",
            "Train epoch 26: [160/250 (62%)]\tLoss: 2.247 |\tMSE loss: 0.009\n",
            "Test epoch 26: Average losses:\tLoss: 3.578 |\tMSE loss: 0.014 |\tPSNR value: 18.530 |\tSSIM value: 0.387\n",
            "\n",
            "Learning rate: 0.001\n",
            "Train epoch 27: [0/250 (0%)]\tLoss: 2.729 |\tMSE loss: 0.011\n",
            "Train epoch 27: [160/250 (62%)]\tLoss: 4.455 |\tMSE loss: 0.017\n",
            "Test epoch 27: Average losses:\tLoss: 3.312 |\tMSE loss: 0.013 |\tPSNR value: 18.910 |\tSSIM value: 0.362\n",
            "\n",
            "Learning rate: 0.001\n",
            "Train epoch 28: [0/250 (0%)]\tLoss: 3.570 |\tMSE loss: 0.014\n",
            "Train epoch 28: [160/250 (62%)]\tLoss: 2.527 |\tMSE loss: 0.010\n",
            "Test epoch 28: Average losses:\tLoss: 2.978 |\tMSE loss: 0.012 |\tPSNR value: 19.337 |\tSSIM value: 0.363\n",
            "\n",
            "Learning rate: 0.001\n",
            "Train epoch 29: [0/250 (0%)]\tLoss: 2.141 |\tMSE loss: 0.008\n",
            "Train epoch 29: [160/250 (62%)]\tLoss: 2.811 |\tMSE loss: 0.011\n",
            "Test epoch 29: Average losses:\tLoss: 4.864 |\tMSE loss: 0.019 |\tPSNR value: 17.217 |\tSSIM value: 0.358\n",
            "\n"
          ]
        }
      ]
    },
    {
      "cell_type": "markdown",
      "source": [
        "#### 1.4.3.4 When learning rate = 1e-4"
      ],
      "metadata": {
        "id": "WGU3nqqRUn8E"
      }
    },
    {
      "cell_type": "code",
      "source": [
        "def save_checkpoint2(state, is_best, filename=\"checkpoint2.pth.tar\"):\n",
        "    torch.save(state, filename)\n",
        "    if is_best:\n",
        "        shutil.copyfile(filename, \"checkpoint_best_loss2.pth.tar\")"
      ],
      "metadata": {
        "id": "lbamwlgpUn8E"
      },
      "execution_count": null,
      "outputs": []
    },
    {
      "cell_type": "code",
      "source": [
        "learning_rate = 1e-4\n",
        "\n",
        "net = Network(N, M)\n",
        "net = net.to(device)\n",
        "optimizer = configure_optimizers(net, learning_rate)\n",
        "lr_scheduler = optim.lr_scheduler.ReduceLROnPlateau(optimizer, \"min\")\n",
        "criterion = Loss()\n",
        "\n",
        "last_epoch = 0\n",
        "if checkpoint:  # load from previous checkpoint\n",
        "    print(\"Loading\", checkpoint)\n",
        "    checkpoint = torch.load(checkpoint, map_location=device)\n",
        "    last_epoch = checkpoint[\"epoch\"] + 1\n",
        "    net.load_state_dict(checkpoint[\"state_dict\"])\n",
        "    optimizer.load_state_dict(checkpoint[\"optimizer\"])\n",
        "    lr_scheduler.load_state_dict(checkpoint[\"lr_scheduler\"])\n",
        "\n",
        "best_loss = float(\"inf\")\n",
        "\n",
        "loss_epoch2 = [] # set up a list to store the loss value after each epoch\n",
        "MSE_epoch2 = [] # set up a list to store the loss value after each epoch\n",
        "PSNR_epoch2 = [] # set up a list to store the loss value after each epoch\n",
        "ssim_epoch2 = [] # set up a list to store the loss value after each epoch\n",
        "\n",
        "for epoch in range(last_epoch, epochs):\n",
        "    print(f\"Learning rate: {optimizer.param_groups[0]['lr']}\")\n",
        "    train_one_epoch(\n",
        "        net,\n",
        "        criterion,\n",
        "        train_dataloader,\n",
        "        optimizer,\n",
        "        epoch,\n",
        "        clip_max_norm,\n",
        "    )\n",
        "    loss, mse_avg, psnr_avg, ssim_avg = test_epoch(epoch, test_dataloader, net, criterion)\n",
        "\n",
        "    loss_epoch2.append(loss) # save the loss value in the loss_epoch list\n",
        "    MSE_epoch2.append(mse_avg)\n",
        "    PSNR_epoch2.append(psnr_avg)\n",
        "    ssim_epoch2.append(ssim_avg)\n",
        "\n",
        "    lr_scheduler.step(loss)\n",
        "\n",
        "    is_best = loss < best_loss\n",
        "    best_loss = min(loss, best_loss)\n",
        "\n",
        "    if save:\n",
        "        save_checkpoint2(\n",
        "            {\n",
        "                \"epoch\": epoch,\n",
        "                \"state_dict\": net.state_dict(),\n",
        "                \"loss\": loss,\n",
        "                \"optimizer\": optimizer.state_dict(),\n",
        "                \"lr_scheduler\": lr_scheduler.state_dict(),\n",
        "            },\n",
        "            is_best,\n",
        "        )\n",
        "  "
      ],
      "metadata": {
        "colab": {
          "base_uri": "https://localhost:8080/"
        },
        "outputId": "30e47bf3-88c9-4ef8-e0f1-8c80a31ca190",
        "id": "6eB6Kf7UUn8E"
      },
      "execution_count": null,
      "outputs": [
        {
          "output_type": "stream",
          "name": "stdout",
          "text": [
            "Learning rate: 0.0001\n"
          ]
        },
        {
          "output_type": "stream",
          "name": "stderr",
          "text": [
            "/usr/local/lib/python3.7/dist-packages/torch/utils/data/dataloader.py:490: UserWarning: This DataLoader will create 3 worker processes in total. Our suggested max number of worker in current system is 2, which is smaller than what this DataLoader is going to create. Please be aware that excessive worker creation might get DataLoader running slow or even freeze, lower the worker number to avoid potential slowness/freeze if necessary.\n",
            "  cpuset_checked))\n"
          ]
        },
        {
          "output_type": "stream",
          "name": "stdout",
          "text": [
            "Train epoch 0: [0/250 (0%)]\tLoss: 4664.531 |\tMSE loss: 18.292\n",
            "Train epoch 0: [160/250 (62%)]\tLoss: 150.067 |\tMSE loss: 0.588\n",
            "Test epoch 0: Average losses:\tLoss: 91.949 |\tMSE loss: 0.361 |\tPSNR value: 4.500 |\tSSIM value: 0.009\n",
            "\n",
            "Learning rate: 0.0001\n",
            "Train epoch 1: [0/250 (0%)]\tLoss: 67.637 |\tMSE loss: 0.265\n",
            "Train epoch 1: [160/250 (62%)]\tLoss: 56.287 |\tMSE loss: 0.221\n",
            "Test epoch 1: Average losses:\tLoss: 45.058 |\tMSE loss: 0.177 |\tPSNR value: 7.581 |\tSSIM value: 0.026\n",
            "\n",
            "Learning rate: 0.0001\n",
            "Train epoch 2: [0/250 (0%)]\tLoss: 44.325 |\tMSE loss: 0.174\n",
            "Train epoch 2: [160/250 (62%)]\tLoss: 54.146 |\tMSE loss: 0.212\n",
            "Test epoch 2: Average losses:\tLoss: 31.813 |\tMSE loss: 0.125 |\tPSNR value: 9.072 |\tSSIM value: 0.031\n",
            "\n",
            "Learning rate: 0.0001\n",
            "Train epoch 3: [0/250 (0%)]\tLoss: 16.142 |\tMSE loss: 0.063\n",
            "Train epoch 3: [160/250 (62%)]\tLoss: 22.333 |\tMSE loss: 0.088\n",
            "Test epoch 3: Average losses:\tLoss: 22.619 |\tMSE loss: 0.089 |\tPSNR value: 10.557 |\tSSIM value: 0.050\n",
            "\n",
            "Learning rate: 0.0001\n",
            "Train epoch 4: [0/250 (0%)]\tLoss: 14.363 |\tMSE loss: 0.056\n",
            "Train epoch 4: [160/250 (62%)]\tLoss: 19.022 |\tMSE loss: 0.075\n",
            "Test epoch 4: Average losses:\tLoss: 19.155 |\tMSE loss: 0.075 |\tPSNR value: 11.286 |\tSSIM value: 0.067\n",
            "\n",
            "Learning rate: 0.0001\n",
            "Train epoch 5: [0/250 (0%)]\tLoss: 23.249 |\tMSE loss: 0.091\n",
            "Train epoch 5: [160/250 (62%)]\tLoss: 10.858 |\tMSE loss: 0.043\n",
            "Test epoch 5: Average losses:\tLoss: 13.719 |\tMSE loss: 0.054 |\tPSNR value: 12.724 |\tSSIM value: 0.084\n",
            "\n",
            "Learning rate: 0.0001\n",
            "Train epoch 6: [0/250 (0%)]\tLoss: 10.341 |\tMSE loss: 0.041\n",
            "Train epoch 6: [160/250 (62%)]\tLoss: 9.237 |\tMSE loss: 0.036\n",
            "Test epoch 6: Average losses:\tLoss: 10.333 |\tMSE loss: 0.041 |\tPSNR value: 13.961 |\tSSIM value: 0.120\n",
            "\n",
            "Learning rate: 0.0001\n",
            "Train epoch 7: [0/250 (0%)]\tLoss: 6.376 |\tMSE loss: 0.025\n",
            "Train epoch 7: [160/250 (62%)]\tLoss: 14.085 |\tMSE loss: 0.055\n",
            "Test epoch 7: Average losses:\tLoss: 9.354 |\tMSE loss: 0.037 |\tPSNR value: 14.392 |\tSSIM value: 0.132\n",
            "\n",
            "Learning rate: 0.0001\n",
            "Train epoch 8: [0/250 (0%)]\tLoss: 5.721 |\tMSE loss: 0.022\n",
            "Train epoch 8: [160/250 (62%)]\tLoss: 11.123 |\tMSE loss: 0.044\n",
            "Test epoch 8: Average losses:\tLoss: 7.243 |\tMSE loss: 0.028 |\tPSNR value: 15.508 |\tSSIM value: 0.147\n",
            "\n",
            "Learning rate: 0.0001\n",
            "Train epoch 9: [0/250 (0%)]\tLoss: 5.928 |\tMSE loss: 0.023\n",
            "Train epoch 9: [160/250 (62%)]\tLoss: 5.881 |\tMSE loss: 0.023\n",
            "Test epoch 9: Average losses:\tLoss: 6.871 |\tMSE loss: 0.027 |\tPSNR value: 15.729 |\tSSIM value: 0.162\n",
            "\n",
            "Learning rate: 0.0001\n",
            "Train epoch 10: [0/250 (0%)]\tLoss: 5.999 |\tMSE loss: 0.024\n",
            "Train epoch 10: [160/250 (62%)]\tLoss: 5.771 |\tMSE loss: 0.023\n",
            "Test epoch 10: Average losses:\tLoss: 6.163 |\tMSE loss: 0.024 |\tPSNR value: 16.198 |\tSSIM value: 0.166\n",
            "\n",
            "Learning rate: 0.0001\n",
            "Train epoch 11: [0/250 (0%)]\tLoss: 3.161 |\tMSE loss: 0.012\n",
            "Train epoch 11: [160/250 (62%)]\tLoss: 6.352 |\tMSE loss: 0.025\n",
            "Test epoch 11: Average losses:\tLoss: 5.707 |\tMSE loss: 0.022 |\tPSNR value: 16.539 |\tSSIM value: 0.202\n",
            "\n",
            "Learning rate: 0.0001\n",
            "Train epoch 12: [0/250 (0%)]\tLoss: 3.731 |\tMSE loss: 0.015\n",
            "Train epoch 12: [160/250 (62%)]\tLoss: 3.077 |\tMSE loss: 0.012\n",
            "Test epoch 12: Average losses:\tLoss: 4.614 |\tMSE loss: 0.018 |\tPSNR value: 17.473 |\tSSIM value: 0.221\n",
            "\n",
            "Learning rate: 0.0001\n",
            "Train epoch 13: [0/250 (0%)]\tLoss: 6.749 |\tMSE loss: 0.026\n",
            "Train epoch 13: [160/250 (62%)]\tLoss: 4.535 |\tMSE loss: 0.018\n",
            "Test epoch 13: Average losses:\tLoss: 4.293 |\tMSE loss: 0.017 |\tPSNR value: 17.777 |\tSSIM value: 0.226\n",
            "\n",
            "Learning rate: 0.0001\n",
            "Train epoch 14: [0/250 (0%)]\tLoss: 3.156 |\tMSE loss: 0.012\n",
            "Train epoch 14: [160/250 (62%)]\tLoss: 4.583 |\tMSE loss: 0.018\n",
            "Test epoch 14: Average losses:\tLoss: 4.108 |\tMSE loss: 0.016 |\tPSNR value: 17.984 |\tSSIM value: 0.261\n",
            "\n",
            "Learning rate: 0.0001\n",
            "Train epoch 15: [0/250 (0%)]\tLoss: 2.498 |\tMSE loss: 0.010\n",
            "Train epoch 15: [160/250 (62%)]\tLoss: 2.955 |\tMSE loss: 0.012\n",
            "Test epoch 15: Average losses:\tLoss: 3.621 |\tMSE loss: 0.014 |\tPSNR value: 18.520 |\tSSIM value: 0.296\n",
            "\n",
            "Learning rate: 0.0001\n",
            "Train epoch 16: [0/250 (0%)]\tLoss: 1.343 |\tMSE loss: 0.005\n",
            "Train epoch 16: [160/250 (62%)]\tLoss: 2.401 |\tMSE loss: 0.009\n",
            "Test epoch 16: Average losses:\tLoss: 3.526 |\tMSE loss: 0.014 |\tPSNR value: 18.639 |\tSSIM value: 0.292\n",
            "\n",
            "Learning rate: 0.0001\n",
            "Train epoch 17: [0/250 (0%)]\tLoss: 5.762 |\tMSE loss: 0.023\n",
            "Train epoch 17: [160/250 (62%)]\tLoss: 3.109 |\tMSE loss: 0.012\n",
            "Test epoch 17: Average losses:\tLoss: 3.644 |\tMSE loss: 0.014 |\tPSNR value: 18.543 |\tSSIM value: 0.313\n",
            "\n",
            "Learning rate: 0.0001\n",
            "Train epoch 18: [0/250 (0%)]\tLoss: 1.596 |\tMSE loss: 0.006\n",
            "Train epoch 18: [160/250 (62%)]\tLoss: 2.920 |\tMSE loss: 0.011\n",
            "Test epoch 18: Average losses:\tLoss: 3.416 |\tMSE loss: 0.013 |\tPSNR value: 18.792 |\tSSIM value: 0.308\n",
            "\n",
            "Learning rate: 0.0001\n",
            "Train epoch 19: [0/250 (0%)]\tLoss: 5.014 |\tMSE loss: 0.020\n",
            "Train epoch 19: [160/250 (62%)]\tLoss: 2.365 |\tMSE loss: 0.009\n",
            "Test epoch 19: Average losses:\tLoss: 3.410 |\tMSE loss: 0.013 |\tPSNR value: 18.779 |\tSSIM value: 0.325\n",
            "\n",
            "Learning rate: 0.0001\n",
            "Train epoch 20: [0/250 (0%)]\tLoss: 2.138 |\tMSE loss: 0.008\n",
            "Train epoch 20: [160/250 (62%)]\tLoss: 3.960 |\tMSE loss: 0.016\n",
            "Test epoch 20: Average losses:\tLoss: 2.732 |\tMSE loss: 0.011 |\tPSNR value: 19.730 |\tSSIM value: 0.373\n",
            "\n",
            "Learning rate: 0.0001\n",
            "Train epoch 21: [0/250 (0%)]\tLoss: 2.972 |\tMSE loss: 0.012\n",
            "Train epoch 21: [160/250 (62%)]\tLoss: 1.955 |\tMSE loss: 0.008\n",
            "Test epoch 21: Average losses:\tLoss: 2.443 |\tMSE loss: 0.010 |\tPSNR value: 20.230 |\tSSIM value: 0.383\n",
            "\n",
            "Learning rate: 0.0001\n",
            "Train epoch 22: [0/250 (0%)]\tLoss: 1.253 |\tMSE loss: 0.005\n",
            "Train epoch 22: [160/250 (62%)]\tLoss: 3.140 |\tMSE loss: 0.012\n",
            "Test epoch 22: Average losses:\tLoss: 2.378 |\tMSE loss: 0.009 |\tPSNR value: 20.356 |\tSSIM value: 0.397\n",
            "\n",
            "Learning rate: 0.0001\n",
            "Train epoch 23: [0/250 (0%)]\tLoss: 2.206 |\tMSE loss: 0.009\n",
            "Train epoch 23: [160/250 (62%)]\tLoss: 1.430 |\tMSE loss: 0.006\n",
            "Test epoch 23: Average losses:\tLoss: 2.247 |\tMSE loss: 0.009 |\tPSNR value: 20.589 |\tSSIM value: 0.423\n",
            "\n",
            "Learning rate: 0.0001\n",
            "Train epoch 24: [0/250 (0%)]\tLoss: 2.423 |\tMSE loss: 0.010\n",
            "Train epoch 24: [160/250 (62%)]\tLoss: 2.301 |\tMSE loss: 0.009\n",
            "Test epoch 24: Average losses:\tLoss: 2.432 |\tMSE loss: 0.010 |\tPSNR value: 20.267 |\tSSIM value: 0.425\n",
            "\n",
            "Learning rate: 0.0001\n",
            "Train epoch 25: [0/250 (0%)]\tLoss: 2.115 |\tMSE loss: 0.008\n",
            "Train epoch 25: [160/250 (62%)]\tLoss: 1.341 |\tMSE loss: 0.005\n",
            "Test epoch 25: Average losses:\tLoss: 2.125 |\tMSE loss: 0.008 |\tPSNR value: 20.831 |\tSSIM value: 0.444\n",
            "\n",
            "Learning rate: 0.0001\n",
            "Train epoch 26: [0/250 (0%)]\tLoss: 1.285 |\tMSE loss: 0.005\n",
            "Train epoch 26: [160/250 (62%)]\tLoss: 1.559 |\tMSE loss: 0.006\n",
            "Test epoch 26: Average losses:\tLoss: 2.215 |\tMSE loss: 0.009 |\tPSNR value: 20.689 |\tSSIM value: 0.452\n",
            "\n",
            "Learning rate: 0.0001\n",
            "Train epoch 27: [0/250 (0%)]\tLoss: 1.495 |\tMSE loss: 0.006\n",
            "Train epoch 27: [160/250 (62%)]\tLoss: 2.768 |\tMSE loss: 0.011\n",
            "Test epoch 27: Average losses:\tLoss: 2.820 |\tMSE loss: 0.011 |\tPSNR value: 19.639 |\tSSIM value: 0.452\n",
            "\n",
            "Learning rate: 0.0001\n",
            "Train epoch 28: [0/250 (0%)]\tLoss: 1.494 |\tMSE loss: 0.006\n",
            "Train epoch 28: [160/250 (62%)]\tLoss: 1.307 |\tMSE loss: 0.005\n",
            "Test epoch 28: Average losses:\tLoss: 2.229 |\tMSE loss: 0.009 |\tPSNR value: 20.609 |\tSSIM value: 0.434\n",
            "\n",
            "Learning rate: 0.0001\n",
            "Train epoch 29: [0/250 (0%)]\tLoss: 1.740 |\tMSE loss: 0.007\n",
            "Train epoch 29: [160/250 (62%)]\tLoss: 2.439 |\tMSE loss: 0.010\n",
            "Test epoch 29: Average losses:\tLoss: 2.237 |\tMSE loss: 0.009 |\tPSNR value: 20.594 |\tSSIM value: 0.453\n",
            "\n"
          ]
        }
      ]
    },
    {
      "cell_type": "markdown",
      "source": [
        "#### 1.4.3.5 When learning rate = 1e-5"
      ],
      "metadata": {
        "id": "w4ojKoE8Un8F"
      }
    },
    {
      "cell_type": "code",
      "source": [
        "def save_checkpoint3(state, is_best, filename=\"checkpoint3.pth.tar\"):\n",
        "    torch.save(state, filename)\n",
        "    if is_best:\n",
        "        shutil.copyfile(filename, \"checkpoint_best_loss3.pth.tar\")"
      ],
      "metadata": {
        "id": "KCAbvxCpUn8F"
      },
      "execution_count": null,
      "outputs": []
    },
    {
      "cell_type": "code",
      "source": [
        "learning_rate = 1e-5\n",
        "\n",
        "net = Network(N, M)\n",
        "net = net.to(device)\n",
        "optimizer = configure_optimizers(net, learning_rate)\n",
        "lr_scheduler = optim.lr_scheduler.ReduceLROnPlateau(optimizer, \"min\")\n",
        "criterion = Loss()\n",
        "\n",
        "last_epoch = 0\n",
        "if checkpoint:  # load from previous checkpoint\n",
        "    print(\"Loading\", checkpoint)\n",
        "    checkpoint = torch.load(checkpoint, map_location=device)\n",
        "    last_epoch = checkpoint[\"epoch\"] + 1\n",
        "    net.load_state_dict(checkpoint[\"state_dict\"])\n",
        "    optimizer.load_state_dict(checkpoint[\"optimizer\"])\n",
        "    lr_scheduler.load_state_dict(checkpoint[\"lr_scheduler\"])\n",
        "\n",
        "best_loss = float(\"inf\")\n",
        "\n",
        "loss_epoch3 = [] # set up a list to store the loss value after each epoch\n",
        "MSE_epoch3 = [] # set up a list to store the loss value after each epoch\n",
        "PSNR_epoch3 = [] # set up a list to store the loss value after each epoch\n",
        "ssim_epoch3 = [] # set up a list to store the loss value after each epoch\n",
        "\n",
        "for epoch in range(last_epoch, epochs):\n",
        "    print(f\"Learning rate: {optimizer.param_groups[0]['lr']}\")\n",
        "    train_one_epoch(\n",
        "        net,\n",
        "        criterion,\n",
        "        train_dataloader,\n",
        "        optimizer,\n",
        "        epoch,\n",
        "        clip_max_norm,\n",
        "    )\n",
        "    loss, mse_avg, psnr_avg, ssim_avg = test_epoch(epoch, test_dataloader, net, criterion)\n",
        "\n",
        "    loss_epoch3.append(loss) # save the loss value in the loss_epoch list\n",
        "    MSE_epoch3.append(mse_avg)\n",
        "    PSNR_epoch3.append(psnr_avg)\n",
        "    ssim_epoch3.append(ssim_avg)\n",
        "\n",
        "    lr_scheduler.step(loss)\n",
        "\n",
        "    is_best = loss < best_loss\n",
        "    best_loss = min(loss, best_loss)\n",
        "\n",
        "    if save:\n",
        "        save_checkpoint3(\n",
        "            {\n",
        "                \"epoch\": epoch,\n",
        "                \"state_dict\": net.state_dict(),\n",
        "                \"loss\": loss,\n",
        "                \"optimizer\": optimizer.state_dict(),\n",
        "                \"lr_scheduler\": lr_scheduler.state_dict(),\n",
        "            },\n",
        "            is_best,\n",
        "        )\n",
        "  "
      ],
      "metadata": {
        "colab": {
          "base_uri": "https://localhost:8080/"
        },
        "outputId": "ef66cc83-b1dd-4c1a-f8cf-2ae681548fdf",
        "id": "paFU1RZgUn8F"
      },
      "execution_count": null,
      "outputs": [
        {
          "output_type": "stream",
          "name": "stdout",
          "text": [
            "Learning rate: 1e-05\n"
          ]
        },
        {
          "output_type": "stream",
          "name": "stderr",
          "text": [
            "/usr/local/lib/python3.7/dist-packages/torch/utils/data/dataloader.py:490: UserWarning: This DataLoader will create 3 worker processes in total. Our suggested max number of worker in current system is 2, which is smaller than what this DataLoader is going to create. Please be aware that excessive worker creation might get DataLoader running slow or even freeze, lower the worker number to avoid potential slowness/freeze if necessary.\n",
            "  cpuset_checked))\n"
          ]
        },
        {
          "output_type": "stream",
          "name": "stdout",
          "text": [
            "Train epoch 0: [0/250 (0%)]\tLoss: 4210.945 |\tMSE loss: 16.514\n",
            "Train epoch 0: [160/250 (62%)]\tLoss: 900.704 |\tMSE loss: 3.532\n",
            "Test epoch 0: Average losses:\tLoss: 542.512 |\tMSE loss: 2.127 |\tPSNR value: -3.266 |\tSSIM value: 0.000\n",
            "\n",
            "Learning rate: 1e-05\n",
            "Train epoch 1: [0/250 (0%)]\tLoss: 401.672 |\tMSE loss: 1.575\n",
            "Train epoch 1: [160/250 (62%)]\tLoss: 231.315 |\tMSE loss: 0.907\n",
            "Test epoch 1: Average losses:\tLoss: 249.905 |\tMSE loss: 0.980 |\tPSNR value: 0.130 |\tSSIM value: 0.002\n",
            "\n",
            "Learning rate: 1e-05\n",
            "Train epoch 2: [0/250 (0%)]\tLoss: 230.362 |\tMSE loss: 0.903\n",
            "Train epoch 2: [160/250 (62%)]\tLoss: 153.733 |\tMSE loss: 0.603\n",
            "Test epoch 2: Average losses:\tLoss: 157.857 |\tMSE loss: 0.619 |\tPSNR value: 2.150 |\tSSIM value: 0.004\n",
            "\n",
            "Learning rate: 1e-05\n",
            "Train epoch 3: [0/250 (0%)]\tLoss: 113.470 |\tMSE loss: 0.445\n",
            "Train epoch 3: [160/250 (62%)]\tLoss: 110.543 |\tMSE loss: 0.434\n",
            "Test epoch 3: Average losses:\tLoss: 110.976 |\tMSE loss: 0.435 |\tPSNR value: 3.691 |\tSSIM value: 0.007\n",
            "\n",
            "Learning rate: 1e-05\n",
            "Train epoch 4: [0/250 (0%)]\tLoss: 90.995 |\tMSE loss: 0.357\n",
            "Train epoch 4: [160/250 (62%)]\tLoss: 96.474 |\tMSE loss: 0.378\n",
            "Test epoch 4: Average losses:\tLoss: 85.020 |\tMSE loss: 0.333 |\tPSNR value: 4.850 |\tSSIM value: 0.012\n",
            "\n",
            "Learning rate: 1e-05\n",
            "Train epoch 5: [0/250 (0%)]\tLoss: 69.071 |\tMSE loss: 0.271\n",
            "Train epoch 5: [160/250 (62%)]\tLoss: 45.471 |\tMSE loss: 0.178\n",
            "Test epoch 5: Average losses:\tLoss: 69.292 |\tMSE loss: 0.272 |\tPSNR value: 5.734 |\tSSIM value: 0.017\n",
            "\n",
            "Learning rate: 1e-05\n",
            "Train epoch 6: [0/250 (0%)]\tLoss: 84.663 |\tMSE loss: 0.332\n",
            "Train epoch 6: [160/250 (62%)]\tLoss: 51.656 |\tMSE loss: 0.203\n",
            "Test epoch 6: Average losses:\tLoss: 58.920 |\tMSE loss: 0.231 |\tPSNR value: 6.431 |\tSSIM value: 0.022\n",
            "\n",
            "Learning rate: 1e-05\n",
            "Train epoch 7: [0/250 (0%)]\tLoss: 70.441 |\tMSE loss: 0.276\n",
            "Train epoch 7: [160/250 (62%)]\tLoss: 37.165 |\tMSE loss: 0.146\n",
            "Test epoch 7: Average losses:\tLoss: 51.170 |\tMSE loss: 0.201 |\tPSNR value: 7.037 |\tSSIM value: 0.026\n",
            "\n",
            "Learning rate: 1e-05\n",
            "Train epoch 8: [0/250 (0%)]\tLoss: 58.970 |\tMSE loss: 0.231\n",
            "Train epoch 8: [160/250 (62%)]\tLoss: 63.786 |\tMSE loss: 0.250\n",
            "Test epoch 8: Average losses:\tLoss: 45.023 |\tMSE loss: 0.177 |\tPSNR value: 7.587 |\tSSIM value: 0.030\n",
            "\n",
            "Learning rate: 1e-05\n",
            "Train epoch 9: [0/250 (0%)]\tLoss: 39.159 |\tMSE loss: 0.154\n",
            "Train epoch 9: [160/250 (62%)]\tLoss: 45.549 |\tMSE loss: 0.179\n",
            "Test epoch 9: Average losses:\tLoss: 40.315 |\tMSE loss: 0.158 |\tPSNR value: 8.063 |\tSSIM value: 0.034\n",
            "\n",
            "Learning rate: 1e-05\n",
            "Train epoch 10: [0/250 (0%)]\tLoss: 28.552 |\tMSE loss: 0.112\n",
            "Train epoch 10: [160/250 (62%)]\tLoss: 37.180 |\tMSE loss: 0.146\n",
            "Test epoch 10: Average losses:\tLoss: 36.845 |\tMSE loss: 0.144 |\tPSNR value: 8.450 |\tSSIM value: 0.037\n",
            "\n",
            "Learning rate: 1e-05\n",
            "Train epoch 11: [0/250 (0%)]\tLoss: 35.960 |\tMSE loss: 0.141\n",
            "Train epoch 11: [160/250 (62%)]\tLoss: 29.935 |\tMSE loss: 0.117\n",
            "Test epoch 11: Average losses:\tLoss: 33.964 |\tMSE loss: 0.133 |\tPSNR value: 8.802 |\tSSIM value: 0.041\n",
            "\n",
            "Learning rate: 1e-05\n",
            "Train epoch 12: [0/250 (0%)]\tLoss: 26.490 |\tMSE loss: 0.104\n",
            "Train epoch 12: [160/250 (62%)]\tLoss: 30.069 |\tMSE loss: 0.118\n",
            "Test epoch 12: Average losses:\tLoss: 31.654 |\tMSE loss: 0.124 |\tPSNR value: 9.106 |\tSSIM value: 0.044\n",
            "\n",
            "Learning rate: 1e-05\n",
            "Train epoch 13: [0/250 (0%)]\tLoss: 22.342 |\tMSE loss: 0.088\n",
            "Train epoch 13: [160/250 (62%)]\tLoss: 21.228 |\tMSE loss: 0.083\n",
            "Test epoch 13: Average losses:\tLoss: 29.215 |\tMSE loss: 0.115 |\tPSNR value: 9.453 |\tSSIM value: 0.047\n",
            "\n",
            "Learning rate: 1e-05\n",
            "Train epoch 14: [0/250 (0%)]\tLoss: 26.246 |\tMSE loss: 0.103\n",
            "Train epoch 14: [160/250 (62%)]\tLoss: 21.726 |\tMSE loss: 0.085\n",
            "Test epoch 14: Average losses:\tLoss: 27.230 |\tMSE loss: 0.107 |\tPSNR value: 9.757 |\tSSIM value: 0.051\n",
            "\n",
            "Learning rate: 1e-05\n",
            "Train epoch 15: [0/250 (0%)]\tLoss: 35.331 |\tMSE loss: 0.139\n",
            "Train epoch 15: [160/250 (62%)]\tLoss: 17.760 |\tMSE loss: 0.070\n",
            "Test epoch 15: Average losses:\tLoss: 25.322 |\tMSE loss: 0.099 |\tPSNR value: 10.071 |\tSSIM value: 0.055\n",
            "\n",
            "Learning rate: 1e-05\n",
            "Train epoch 16: [0/250 (0%)]\tLoss: 47.642 |\tMSE loss: 0.187\n",
            "Train epoch 16: [160/250 (62%)]\tLoss: 15.974 |\tMSE loss: 0.063\n",
            "Test epoch 16: Average losses:\tLoss: 23.711 |\tMSE loss: 0.093 |\tPSNR value: 10.356 |\tSSIM value: 0.059\n",
            "\n",
            "Learning rate: 1e-05\n",
            "Train epoch 17: [0/250 (0%)]\tLoss: 20.691 |\tMSE loss: 0.081\n",
            "Train epoch 17: [160/250 (62%)]\tLoss: 24.973 |\tMSE loss: 0.098\n",
            "Test epoch 17: Average losses:\tLoss: 22.426 |\tMSE loss: 0.088 |\tPSNR value: 10.597 |\tSSIM value: 0.063\n",
            "\n",
            "Learning rate: 1e-05\n",
            "Train epoch 18: [0/250 (0%)]\tLoss: 13.836 |\tMSE loss: 0.054\n",
            "Train epoch 18: [160/250 (62%)]\tLoss: 18.521 |\tMSE loss: 0.073\n",
            "Test epoch 18: Average losses:\tLoss: 21.024 |\tMSE loss: 0.082 |\tPSNR value: 10.877 |\tSSIM value: 0.067\n",
            "\n",
            "Learning rate: 1e-05\n",
            "Train epoch 19: [0/250 (0%)]\tLoss: 9.311 |\tMSE loss: 0.037\n",
            "Train epoch 19: [160/250 (62%)]\tLoss: 11.899 |\tMSE loss: 0.047\n",
            "Test epoch 19: Average losses:\tLoss: 19.545 |\tMSE loss: 0.077 |\tPSNR value: 11.192 |\tSSIM value: 0.072\n",
            "\n",
            "Learning rate: 1e-05\n",
            "Train epoch 20: [0/250 (0%)]\tLoss: 14.492 |\tMSE loss: 0.057\n",
            "Train epoch 20: [160/250 (62%)]\tLoss: 12.175 |\tMSE loss: 0.048\n",
            "Test epoch 20: Average losses:\tLoss: 18.381 |\tMSE loss: 0.072 |\tPSNR value: 11.458 |\tSSIM value: 0.075\n",
            "\n",
            "Learning rate: 1e-05\n",
            "Train epoch 21: [0/250 (0%)]\tLoss: 9.289 |\tMSE loss: 0.036\n",
            "Train epoch 21: [160/250 (62%)]\tLoss: 21.260 |\tMSE loss: 0.083\n",
            "Test epoch 21: Average losses:\tLoss: 17.486 |\tMSE loss: 0.069 |\tPSNR value: 11.674 |\tSSIM value: 0.079\n",
            "\n",
            "Learning rate: 1e-05\n",
            "Train epoch 22: [0/250 (0%)]\tLoss: 25.557 |\tMSE loss: 0.100\n",
            "Train epoch 22: [160/250 (62%)]\tLoss: 22.078 |\tMSE loss: 0.087\n",
            "Test epoch 22: Average losses:\tLoss: 16.703 |\tMSE loss: 0.066 |\tPSNR value: 11.873 |\tSSIM value: 0.082\n",
            "\n",
            "Learning rate: 1e-05\n",
            "Train epoch 23: [0/250 (0%)]\tLoss: 8.862 |\tMSE loss: 0.035\n",
            "Train epoch 23: [160/250 (62%)]\tLoss: 6.486 |\tMSE loss: 0.025\n",
            "Test epoch 23: Average losses:\tLoss: 15.986 |\tMSE loss: 0.063 |\tPSNR value: 12.063 |\tSSIM value: 0.086\n",
            "\n",
            "Learning rate: 1e-05\n",
            "Train epoch 24: [0/250 (0%)]\tLoss: 10.059 |\tMSE loss: 0.039\n",
            "Train epoch 24: [160/250 (62%)]\tLoss: 14.502 |\tMSE loss: 0.057\n",
            "Test epoch 24: Average losses:\tLoss: 15.407 |\tMSE loss: 0.060 |\tPSNR value: 12.223 |\tSSIM value: 0.087\n",
            "\n",
            "Learning rate: 1e-05\n",
            "Train epoch 25: [0/250 (0%)]\tLoss: 16.525 |\tMSE loss: 0.065\n",
            "Train epoch 25: [160/250 (62%)]\tLoss: 8.657 |\tMSE loss: 0.034\n",
            "Test epoch 25: Average losses:\tLoss: 14.739 |\tMSE loss: 0.058 |\tPSNR value: 12.415 |\tSSIM value: 0.092\n",
            "\n",
            "Learning rate: 1e-05\n",
            "Train epoch 26: [0/250 (0%)]\tLoss: 17.393 |\tMSE loss: 0.068\n",
            "Train epoch 26: [160/250 (62%)]\tLoss: 13.327 |\tMSE loss: 0.052\n",
            "Test epoch 26: Average losses:\tLoss: 14.149 |\tMSE loss: 0.055 |\tPSNR value: 12.592 |\tSSIM value: 0.095\n",
            "\n",
            "Learning rate: 1e-05\n",
            "Train epoch 27: [0/250 (0%)]\tLoss: 14.018 |\tMSE loss: 0.055\n",
            "Train epoch 27: [160/250 (62%)]\tLoss: 18.025 |\tMSE loss: 0.071\n",
            "Test epoch 27: Average losses:\tLoss: 13.647 |\tMSE loss: 0.054 |\tPSNR value: 12.749 |\tSSIM value: 0.099\n",
            "\n",
            "Learning rate: 1e-05\n",
            "Train epoch 28: [0/250 (0%)]\tLoss: 23.281 |\tMSE loss: 0.091\n",
            "Train epoch 28: [160/250 (62%)]\tLoss: 10.344 |\tMSE loss: 0.041\n",
            "Test epoch 28: Average losses:\tLoss: 13.222 |\tMSE loss: 0.052 |\tPSNR value: 12.887 |\tSSIM value: 0.102\n",
            "\n",
            "Learning rate: 1e-05\n",
            "Train epoch 29: [0/250 (0%)]\tLoss: 11.883 |\tMSE loss: 0.047\n",
            "Train epoch 29: [160/250 (62%)]\tLoss: 12.212 |\tMSE loss: 0.048\n",
            "Test epoch 29: Average losses:\tLoss: 12.793 |\tMSE loss: 0.050 |\tPSNR value: 13.030 |\tSSIM value: 0.105\n",
            "\n"
          ]
        }
      ]
    },
    {
      "cell_type": "markdown",
      "source": [
        "#### 1.4.3.6 Combine all the results for different learning rates"
      ],
      "metadata": {
        "id": "Ybzd8QEAUn8F"
      }
    },
    {
      "cell_type": "code",
      "source": [
        "\n",
        "combine_loss = [loss_epoch,loss_epoch2,loss_epoch3]\n",
        "\n",
        "combine_mse = [MSE_epoch,MSE_epoch2,MSE_epoch3]\n",
        "\n",
        "combine_psnr = [PSNR_epoch,PSNR_epoch2,PSNR_epoch3]\n",
        "\n",
        "combine_ssim = [ssim_epoch,ssim_epoch2,ssim_epoch3]"
      ],
      "metadata": {
        "id": "h4kCQ6A-Un8F"
      },
      "execution_count": null,
      "outputs": []
    },
    {
      "cell_type": "code",
      "source": [
        "from matplotlib import pyplot as plt\n",
        "\n",
        "xs = list(range(1, epochs+1))\n",
        "print(xs)\n",
        "print(type(xs))\n",
        "print(loss_epoch)\n",
        "print(type(loss_epoch))\n",
        "\n",
        "for i in range(0,len(loss_epoch)):\n",
        "  loss_epoch[i] = loss_epoch[i].cpu().item()\n",
        "\n",
        "print(loss_epoch)\n",
        "print(type(loss_epoch))"
      ],
      "metadata": {
        "colab": {
          "base_uri": "https://localhost:8080/"
        },
        "outputId": "9a7c8229-24d6-47f3-99ce-b007f78954b2",
        "id": "MAZNeG1pUn8F"
      },
      "execution_count": null,
      "outputs": [
        {
          "output_type": "stream",
          "name": "stdout",
          "text": [
            "[1, 2, 3, 4, 5, 6, 7, 8, 9, 10, 11, 12, 13, 14, 15, 16, 17, 18, 19, 20, 21, 22, 23, 24, 25, 26, 27, 28, 29, 30]\n",
            "<class 'list'>\n",
            "[tensor(4109.3623, device='cuda:0'), tensor(88.5569, device='cuda:0'), tensor(26.2564, device='cuda:0'), tensor(24.6173, device='cuda:0'), tensor(33.1517, device='cuda:0'), tensor(22.0386, device='cuda:0'), tensor(25.0176, device='cuda:0'), tensor(22.6746, device='cuda:0'), tensor(19.4979, device='cuda:0'), tensor(10.4708, device='cuda:0'), tensor(8.4997, device='cuda:0'), tensor(6.1145, device='cuda:0'), tensor(5.7641, device='cuda:0'), tensor(6.3567, device='cuda:0'), tensor(5.6037, device='cuda:0'), tensor(11.4528, device='cuda:0'), tensor(21.8240, device='cuda:0'), tensor(8.4852, device='cuda:0'), tensor(6.0765, device='cuda:0'), tensor(25.9209, device='cuda:0'), tensor(16.9804, device='cuda:0'), tensor(6.9541, device='cuda:0'), tensor(4.5334, device='cuda:0'), tensor(4.4837, device='cuda:0'), tensor(4.3315, device='cuda:0'), tensor(5.6477, device='cuda:0'), tensor(3.5782, device='cuda:0'), tensor(3.3117, device='cuda:0'), tensor(2.9783, device='cuda:0'), tensor(4.8640, device='cuda:0')]\n",
            "<class 'list'>\n",
            "[4109.3623046875, 88.55686950683594, 26.256423950195312, 24.617347717285156, 33.151729583740234, 22.038593292236328, 25.01757049560547, 22.674556732177734, 19.497947692871094, 10.470800399780273, 8.499654769897461, 6.114511013031006, 5.764140605926514, 6.356715679168701, 5.60370397567749, 11.452750205993652, 21.824003219604492, 8.485185623168945, 6.07652473449707, 25.920873641967773, 16.980438232421875, 6.954143524169922, 4.533428192138672, 4.483737945556641, 4.331490516662598, 5.647674560546875, 3.578171491622925, 3.3117175102233887, 2.978260040283203, 4.863988876342773]\n",
            "<class 'list'>\n"
          ]
        }
      ]
    },
    {
      "cell_type": "code",
      "source": [
        "for i in range(0,len(loss_epoch2)):\n",
        "  loss_epoch2[i] = loss_epoch2[i].cpu().item()\n",
        "\n",
        "for i in range(0,len(loss_epoch3)):\n",
        "  loss_epoch3[i] = loss_epoch3[i].cpu().item()\n",
        "\n",
        "for i in range(0,len(MSE_epoch)):\n",
        "  MSE_epoch[i] = MSE_epoch[i].cpu().item()\n",
        "print(MSE_epoch)\n",
        "print(type(MSE_epoch))\n",
        "\n",
        "for i in range(0,len(MSE_epoch2)):\n",
        "  MSE_epoch2[i] = MSE_epoch2[i].cpu().item()\n",
        "\n",
        "for i in range(0,len(MSE_epoch3)):\n",
        "  MSE_epoch3[i] = MSE_epoch3[i].cpu().item()\n",
        "\n",
        "for i in range(0,len(PSNR_epoch)):\n",
        "  PSNR_epoch[i] = PSNR_epoch[i].cpu().item()\n",
        "print(PSNR_epoch)\n",
        "print(type(PSNR_epoch))\n",
        "\n",
        "for i in range(0,len(PSNR_epoch2)):\n",
        "  PSNR_epoch2[i] = PSNR_epoch2[i].cpu().item()\n",
        "\n",
        "for i in range(0,len(PSNR_epoch3)):\n",
        "  PSNR_epoch3[i] = PSNR_epoch3[i].cpu().item()\n"
      ],
      "metadata": {
        "colab": {
          "base_uri": "https://localhost:8080/"
        },
        "outputId": "0bbab84c-c89a-4e9a-821a-9d37b2211def",
        "id": "I6fVI_m2Un8F"
      },
      "execution_count": null,
      "outputs": [
        {
          "output_type": "stream",
          "name": "stdout",
          "text": [
            "[16.11514663696289, 0.34728187322616577, 0.10296636819839478, 0.09653862565755844, 0.1300067901611328, 0.08642585575580597, 0.09810812771320343, 0.08891981840133667, 0.07646253705024719, 0.04106196388602257, 0.0333319827914238, 0.023978471755981445, 0.02260447107255459, 0.024928297847509384, 0.021975308656692505, 0.04491274803876877, 0.08558432757854462, 0.033275239169597626, 0.02382950857281685, 0.10165047645568848, 0.06658995151519775, 0.027271151542663574, 0.017778150737285614, 0.01758328638970852, 0.016986235976219177, 0.02214774116873741, 0.014032045379281044, 0.012987127527594566, 0.011679451912641525, 0.019074467942118645]\n",
            "<class 'list'>\n",
            "[-12.059290885925293, 4.614091396331787, 9.882667541503906, 10.170825958251953, 9.048341751098633, 10.648148536682129, 10.091374397277832, 10.51163387298584, 11.176569938659668, 13.898698806762695, 14.832695007324219, 16.20733642578125, 16.460582733154297, 16.065101623535156, 16.626548767089844, 13.515021324157715, 10.718515396118164, 14.824163436889648, 16.26726531982422, 9.944692611694336, 11.772013664245605, 15.679598808288574, 17.50984001159668, 17.612834930419922, 17.699337005615234, 16.546859741210938, 18.530330657958984, 18.910459518432617, 19.337432861328125, 17.216876983642578]\n",
            "<class 'list'>\n"
          ]
        }
      ]
    },
    {
      "cell_type": "code",
      "source": [
        "for i in range(0,len(ssim_epoch)):\n",
        "  ssim_epoch[i] = ssim_epoch[i].cpu().item()\n",
        "print(ssim_epoch)\n",
        "print(type(ssim_epoch))\n",
        "\n",
        "for i in range(0,len(ssim_epoch2)):\n",
        "  ssim_epoch2[i] = ssim_epoch2[i].cpu().item()\n",
        "\n",
        "for i in range(0,len(ssim_epoch3)):\n",
        "  ssim_epoch3[i] = ssim_epoch3[i].cpu().item()"
      ],
      "metadata": {
        "colab": {
          "base_uri": "https://localhost:8080/"
        },
        "outputId": "6ce4af3f-6dc8-4204-9cad-b036e9733b7b",
        "id": "uRR40RJeUn8G"
      },
      "execution_count": null,
      "outputs": [
        {
          "output_type": "stream",
          "name": "stdout",
          "text": [
            "[9.096108260564506e-05, 0.006556703709065914, 0.030968284234404564, 0.04498131200671196, 0.04952123016119003, 0.07457004487514496, 0.05926582217216492, 0.07860040664672852, 0.1162293553352356, 0.19115428626537323, 0.1833643913269043, 0.1975266933441162, 0.21890902519226074, 0.2438068389892578, 0.29977867007255554, 0.2415001094341278, 0.06776658445596695, 0.1733214110136032, 0.21266119182109833, 0.22086480259895325, 0.1708606481552124, 0.22767722606658936, 0.30422699451446533, 0.3006286919116974, 0.3059436082839966, 0.2823733687400818, 0.38674646615982056, 0.36217960715293884, 0.3631802499294281, 0.35842835903167725]\n",
            "<class 'list'>\n"
          ]
        }
      ]
    },
    {
      "cell_type": "markdown",
      "source": [
        "#### 1.4.3.7 Print out the value of Loss, MSE, PSNR, SSIM when epoch = 0, 10, 20, 30 respectively "
      ],
      "metadata": {
        "id": "UGbDpJpkUn8G"
      }
    },
    {
      "cell_type": "code",
      "source": [
        "print(\"LR = 1e-3\")\n",
        "print(loss_epoch[0])\n",
        "print(loss_epoch[9])\n",
        "print(loss_epoch[19])\n",
        "print(loss_epoch[29])\n",
        "print(\"LR = 1e-4\")\n",
        "print(loss_epoch2[0])\n",
        "print(loss_epoch2[9])\n",
        "print(loss_epoch2[19])\n",
        "print(loss_epoch2[29])\n",
        "print(\"LR = 1e-5\")\n",
        "print(loss_epoch3[0])\n",
        "print(loss_epoch3[9])\n",
        "print(loss_epoch3[19])\n",
        "print(loss_epoch3[29])\n"
      ],
      "metadata": {
        "colab": {
          "base_uri": "https://localhost:8080/"
        },
        "outputId": "012d3e3e-bff8-4158-89ea-47d774e263b0",
        "id": "hFarqR_zUn8G"
      },
      "execution_count": null,
      "outputs": [
        {
          "output_type": "stream",
          "name": "stdout",
          "text": [
            "LR = 1e-3\n",
            "4109.3623046875\n",
            "10.470800399780273\n",
            "25.920873641967773\n",
            "4.863988876342773\n",
            "LR = 1e-4\n",
            "91.94894409179688\n",
            "6.870845317840576\n",
            "3.4101524353027344\n",
            "2.2374331951141357\n",
            "LR = 1e-5\n",
            "542.5121459960938\n",
            "40.31471252441406\n",
            "19.544912338256836\n",
            "12.793251037597656\n"
          ]
        }
      ]
    },
    {
      "cell_type": "code",
      "source": [
        "print(\"LR = 1e-3\")\n",
        "print(MSE_epoch[0])\n",
        "print(MSE_epoch[9])\n",
        "print(MSE_epoch[19])\n",
        "print(MSE_epoch[29])\n",
        "print(\"LR = 1e-4\")\n",
        "print(MSE_epoch2[0])\n",
        "print(MSE_epoch2[9])\n",
        "print(MSE_epoch2[19])\n",
        "print(MSE_epoch2[29])\n",
        "print(\"LR = 1e-5\")\n",
        "print(MSE_epoch3[0])\n",
        "print(MSE_epoch3[9])\n",
        "print(MSE_epoch3[19])\n",
        "print(MSE_epoch3[29])"
      ],
      "metadata": {
        "colab": {
          "base_uri": "https://localhost:8080/"
        },
        "outputId": "8fc85838-d13f-4c69-b321-ab69e7ac56fa",
        "id": "avSmQRURUn8G"
      },
      "execution_count": null,
      "outputs": [
        {
          "output_type": "stream",
          "name": "stdout",
          "text": [
            "LR = 1e-3\n",
            "16.11514663696289\n",
            "0.04106196388602257\n",
            "0.10165047645568848\n",
            "0.019074467942118645\n",
            "LR = 1e-4\n",
            "0.3605841100215912\n",
            "0.026944492012262344\n",
            "0.013373146764934063\n",
            "0.008774247951805592\n",
            "LR = 1e-5\n",
            "2.1274986267089844\n",
            "0.15809690952301025\n",
            "0.07664672285318375\n",
            "0.05016961693763733\n"
          ]
        }
      ]
    },
    {
      "cell_type": "code",
      "source": [
        "print(\"LR = 1e-3\")\n",
        "print(PSNR_epoch[0])\n",
        "print(PSNR_epoch[9])\n",
        "print(PSNR_epoch[19])\n",
        "print(PSNR_epoch[29])\n",
        "print(\"LR = 1e-4\")\n",
        "print(PSNR_epoch2[0])\n",
        "print(PSNR_epoch2[9])\n",
        "print(PSNR_epoch2[19])\n",
        "print(PSNR_epoch2[29])\n",
        "print(\"LR = 1e-5\")\n",
        "print(PSNR_epoch3[0])\n",
        "print(PSNR_epoch3[9])\n",
        "print(PSNR_epoch3[19])\n",
        "print(PSNR_epoch3[29])"
      ],
      "metadata": {
        "colab": {
          "base_uri": "https://localhost:8080/"
        },
        "outputId": "ea00bf42-acc9-45a1-9b17-d2da2991e803",
        "id": "fe0pE5rYUn8G"
      },
      "execution_count": null,
      "outputs": [
        {
          "output_type": "stream",
          "name": "stdout",
          "text": [
            "LR = 1e-3\n",
            "-12.059290885925293\n",
            "13.898698806762695\n",
            "9.944692611694336\n",
            "17.216876983642578\n",
            "LR = 1e-4\n",
            "4.500283718109131\n",
            "15.729166030883789\n",
            "18.77926254272461\n",
            "20.594486236572266\n",
            "LR = 1e-5\n",
            "-3.2656733989715576\n",
            "8.06261920928955\n",
            "11.192434310913086\n",
            "13.0299711227417\n"
          ]
        }
      ]
    },
    {
      "cell_type": "code",
      "source": [
        "print(\"LR = 1e-3\")\n",
        "print(ssim_epoch[0])\n",
        "print(ssim_epoch[9])\n",
        "print(ssim_epoch[19])\n",
        "print(ssim_epoch[29])\n",
        "\n",
        "\n",
        "print(\"LR = 1e-4\")\n",
        "print(ssim_epoch2[0])\n",
        "print(ssim_epoch2[9])\n",
        "print(ssim_epoch2[19])\n",
        "print(ssim_epoch2[29])\n",
        "\n",
        "print(\"LR = 1e-5\")\n",
        "print(ssim_epoch3[0])\n",
        "print(ssim_epoch3[9])\n",
        "print(ssim_epoch3[19])\n",
        "print(ssim_epoch3[29])"
      ],
      "metadata": {
        "colab": {
          "base_uri": "https://localhost:8080/"
        },
        "outputId": "e822ac9e-70bb-44ca-d2df-4851145fa3e4",
        "id": "vln9mtKbUn8G"
      },
      "execution_count": null,
      "outputs": [
        {
          "output_type": "stream",
          "name": "stdout",
          "text": [
            "LR = 1e-3\n",
            "9.096108260564506e-05\n",
            "0.19115428626537323\n",
            "0.22086480259895325\n",
            "0.35842835903167725\n",
            "LR = 1e-4\n",
            "0.008921912871301174\n",
            "0.16227388381958008\n",
            "0.32538971304893494\n",
            "0.4533328413963318\n",
            "LR = 1e-5\n",
            "0.00041888863779604435\n",
            "0.03365769237279892\n",
            "0.07150305807590485\n",
            "0.10468290746212006\n"
          ]
        }
      ]
    },
    {
      "cell_type": "markdown",
      "source": [
        "#### 1.4.3.8 Plot the results (N, M) = (128, 192)"
      ],
      "metadata": {
        "id": "DXQ3mATCUn8G"
      }
    },
    {
      "cell_type": "code",
      "source": [
        "import numpy as np\n",
        "plt.figure\n",
        "plt.figure(figsize=(12,10))\n",
        "plt.subplot(3,2,1)\n",
        "\n",
        "plt.title('learning rate = 1e-3')\n",
        "plt.plot(xs, loss_epoch, color='green', label='loss')\n",
        "plt.plot(xs, PSNR_epoch,  color='skyblue', label='PSNR')\n",
        "plt.legend(['loss','PSNR'],loc = 'upper right')\n",
        "plt.xlabel('Epoch')\n",
        "\n",
        "plt.subplot(3,2,2)\n",
        "plt.title('learning rate = 1e-3')\n",
        "plt.plot(xs, MSE_epoch, color='red', label='MSE')\n",
        "plt.plot(xs, ssim_epoch, color='blue', label='ssim')\n",
        "plt.legend(['MSE','ssim'],loc = 'upper right')\n",
        "plt.xlabel('Epoch')\n",
        "\n",
        "\n",
        "plt.subplot(3,2,3)\n",
        "plt.title('learning rate = 1e-4')\n",
        "plt.plot(xs, loss_epoch2, color='green', label='loss')\n",
        "plt.plot(xs, PSNR_epoch2,  color='skyblue', label='PSNR')\n",
        "plt.legend(['loss','PSNR'],loc = 'upper right')\n",
        "plt.xlabel('Epoch')\n",
        "\n",
        "plt.subplot(3,2,4)\n",
        "plt.title('learning rate = 1e-4')\n",
        "plt.plot(xs, MSE_epoch2, color='red', label='MSE')\n",
        "plt.plot(xs, ssim_epoch2, color='blue', label='ssim')\n",
        "plt.legend(['MSE','ssim'],loc = 'upper right')\n",
        "plt.xlabel('Epoch')\n",
        "\n",
        "\n",
        "plt.subplot(3,2,5)\n",
        "plt.title('learning rate = 1e-5')\n",
        "plt.plot(xs, loss_epoch3, color='green', label='loss')\n",
        "plt.plot(xs, PSNR_epoch3,  color='skyblue', label='PSNR')\n",
        "plt.legend(['loss','PSNR'],loc = 'upper right')\n",
        "plt.xlabel('Epoch')\n",
        "\n",
        "plt.subplot(3,2,6)\n",
        "plt.title('learning rate = 1e-5')\n",
        "plt.plot(xs, MSE_epoch3, color='red', label='MSE')\n",
        "plt.plot(xs, ssim_epoch3, color='blue', label='ssim')\n",
        "plt.legend(['MSE','ssim'],loc = 'upper right')\n",
        "plt.xlabel('Epoch')\n",
        "\n",
        "plt.tight_layout()                                       "
      ],
      "metadata": {
        "colab": {
          "base_uri": "https://localhost:8080/",
          "height": 729
        },
        "outputId": "929267f7-78f7-440a-c082-f721ea8e00b0",
        "id": "X6c1XI1eUn8G"
      },
      "execution_count": null,
      "outputs": [
        {
          "output_type": "display_data",
          "data": {
            "text/plain": [
              "<Figure size 864x720 with 6 Axes>"
            ],
            "image/png": "[encoded data removed]"
          },
          "metadata": {
            "needs_background": "light"
          }
        }
      ]
    },
    {
      "cell_type": "code",
      "source": [
        "plt.figure\n",
        "plt.figure(figsize=(10,10))\n",
        "plt.subplot(3,1,1)\n",
        "\n",
        "plt.title('learning rate = 1e-3')\n",
        "plt.plot(xs, loss_epoch,color = 'b',marker = 'o')\n",
        "plt.plot(xs, PSNR_epoch,color = 'y',marker = 'o')\n",
        "plt.yticks(np.arange(0,5000,500))\n",
        "plt.legend(['loss','PSNR'],loc = 'upper left')\n",
        "plt.xlabel('Epoch')\n",
        "plt.ylabel('Loss & PSNR')\n",
        "plt.twinx()\n",
        "plt.plot(xs, MSE_epoch,color = 'r',marker = 'o')\n",
        "plt.plot(xs, ssim_epoch,color = 'g',marker = 'o')\n",
        "plt.yticks(np.arange(0,20,2))\n",
        "plt.ylabel('MSE & SSIM')\n",
        "plt.legend(['MSE','SSIM'],loc = 'upper right')\n",
        "plt.tight_layout()\n",
        "\n",
        "plt.subplot(3,1,2)\n",
        "\n",
        "plt.title('learning rate = 1e-4')\n",
        "plt.plot(xs, loss_epoch2,color = 'b',marker = 'o')\n",
        "plt.plot(xs, PSNR_epoch2,color = 'y',marker = 'o')\n",
        "plt.yticks(np.arange(0,100,10))\n",
        "plt.legend(['loss','PSNR'],loc = 'upper left')\n",
        "plt.xlabel('Epoch')\n",
        "plt.ylabel('Loss & PSNR')\n",
        "plt.twinx()\n",
        "plt.plot(xs, MSE_epoch2,color = 'r',marker = 'o')\n",
        "plt.plot(xs, ssim_epoch2,color = 'g',marker = 'o')\n",
        "plt.yticks(np.arange(0,1,0.1))\n",
        "plt.ylabel('MSE & SSIM')\n",
        "plt.legend(['MSE','SSIM'],loc = 'upper right')\n",
        "plt.tight_layout()\n",
        "\n",
        "plt.subplot(3,1,3)\n",
        "plt.title('learning rate = 1e-5')\n",
        "plt.plot(xs, loss_epoch3,color = 'b',marker = 'o')\n",
        "plt.plot(xs, PSNR_epoch3,color = 'y',marker = 'o')\n",
        "plt.yticks(np.arange(0,600,60))\n",
        "plt.legend(['loss','PSNR'],loc = 'upper left')\n",
        "plt.xlabel('Epoch')\n",
        "plt.ylabel('Loss & PSNR')\n",
        "plt.twinx()\n",
        "plt.plot(xs, MSE_epoch3,color = 'r',marker = 'o')\n",
        "plt.plot(xs, ssim_epoch3,color = 'g',marker = 'o')\n",
        "plt.yticks(np.arange(0,3,0.3))\n",
        "plt.ylabel('MSE & SSIM')\n",
        "plt.legend(['MSE','SSIM'],loc = 'upper right')\n",
        "plt.tight_layout()"
      ],
      "metadata": {
        "colab": {
          "base_uri": "https://localhost:8080/",
          "height": 729
        },
        "outputId": "30f88642-7361-4199-a198-cad0a33c6267",
        "id": "0-qJkAPnUn8H"
      },
      "execution_count": null,
      "outputs": [
        {
          "output_type": "display_data",
          "data": {
            "text/plain": [
              "<Figure size 720x720 with 6 Axes>"
            ],
            "image/png": "[encoded data removed]"
          },
          "metadata": {
            "needs_background": "light"
          }
        }
      ]
    }
  ],
  "metadata": {
    "accelerator": "GPU",
    "colab": {
      "name": "ELEC5306_Project2.ipynb",
      "provenance": [],
      "collapsed_sections": [
        "L-lPTLusyjvE",
        "DCeaHd_bQ0xd",
        "N4iETd0Gcsnz",
        "eCsSxBzac2vO",
        "V-3SVFT5dNkD",
        "mGTxeoCLdRRG",
        "7OrJRub7y1we",
        "ctXUfsExUdAm",
        "xPm3KxmyUdAn",
        "FrBz8XAMUdAn",
        "4WMZGvEtUdAn",
        "OuKXAedJUdAo",
        "PZVE24QqUdAo",
        "JWECNkjvUdAo",
        "q3YZ1t9LUn8D",
        "8VQ7Me4EUn8E",
        "kYVefwxGUn8E",
        "WGU3nqqRUn8E",
        "w4ojKoE8Un8F",
        "Ybzd8QEAUn8F",
        "UGbDpJpkUn8G"
      ]
    },
    "kernelspec": {
      "display_name": "Python 3",
      "name": "python3"
    },
    "language_info": {
      "name": "python"
    }
  },
  "nbformat": 4,
  "nbformat_minor": 0
}